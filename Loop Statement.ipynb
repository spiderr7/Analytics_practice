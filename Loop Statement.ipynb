{
 "cells": [
  {
   "cell_type": "markdown",
   "metadata": {},
   "source": [
    "# Loop "
   ]
  },
  {
   "cell_type": "code",
   "execution_count": 5,
   "metadata": {},
   "outputs": [
    {
     "data": {
      "text/plain": [
       "5"
      ]
     },
     "execution_count": 5,
     "metadata": {},
     "output_type": "execute_result"
    }
   ],
   "source": [
    "# if\n",
    "a=5\n",
    "a"
   ]
  },
  {
   "cell_type": "code",
   "execution_count": 6,
   "metadata": {},
   "outputs": [
    {
     "name": "stdout",
     "output_type": "stream",
     "text": [
      "Hello its true\n",
      "Welcome\n"
     ]
    }
   ],
   "source": [
    "if a == 5:\n",
    "    print(\"Hello its true\")\n",
    "print('Welcome')"
   ]
  },
  {
   "cell_type": "code",
   "execution_count": 9,
   "metadata": {},
   "outputs": [
    {
     "name": "stdout",
     "output_type": "stream",
     "text": [
      "Welcome\n"
     ]
    }
   ],
   "source": [
    "if a == 6:\n",
    "    print(\"Hello its true\")\n",
    "print('Welcome')"
   ]
  },
  {
   "cell_type": "code",
   "execution_count": 10,
   "metadata": {},
   "outputs": [
    {
     "name": "stdout",
     "output_type": "stream",
     "text": [
      "Its True\n",
      "Welcome\n"
     ]
    }
   ],
   "source": [
    "# If else \n",
    "a=5\n",
    "if a == 5:\n",
    "    print(\"Its True\")\n",
    "else:\n",
    "    print(\"Its false\")\n",
    "print(\"Welcome\")"
   ]
  },
  {
   "cell_type": "code",
   "execution_count": 11,
   "metadata": {},
   "outputs": [
    {
     "name": "stdout",
     "output_type": "stream",
     "text": [
      "Its false\n",
      "Welcome\n"
     ]
    }
   ],
   "source": [
    "if a == 6:\n",
    "    print(\"Its True\")\n",
    "else:\n",
    "    print(\"Its false\")\n",
    "print(\"Welcome\")"
   ]
  },
  {
   "cell_type": "code",
   "execution_count": 12,
   "metadata": {},
   "outputs": [],
   "source": [
    "# if elif and else\n",
    "a=1"
   ]
  },
  {
   "cell_type": "code",
   "execution_count": 19,
   "metadata": {},
   "outputs": [
    {
     "name": "stdout",
     "output_type": "stream",
     "text": [
      "last\n"
     ]
    }
   ],
   "source": [
    "if a == 2:\n",
    "    print(\"First\")\n",
    "elif a ==3:\n",
    "    print('Middle')\n",
    "else:\n",
    "    print('last')"
   ]
  },
  {
   "cell_type": "code",
   "execution_count": 20,
   "metadata": {},
   "outputs": [
    {
     "name": "stdout",
     "output_type": "stream",
     "text": [
      "First\n"
     ]
    }
   ],
   "source": [
    "if a == 1:\n",
    "    print(\"First\")\n",
    "elif a ==3:\n",
    "    print('Middle')\n",
    "else:\n",
    "    print('last')"
   ]
  },
  {
   "cell_type": "code",
   "execution_count": 21,
   "metadata": {},
   "outputs": [
    {
     "name": "stdout",
     "output_type": "stream",
     "text": [
      "Enter the value of a:18\n"
     ]
    }
   ],
   "source": [
    "a = int(input(\"Enter the value of a:\"))"
   ]
  },
  {
   "cell_type": "code",
   "execution_count": 33,
   "metadata": {},
   "outputs": [
    {
     "name": "stdout",
     "output_type": "stream",
     "text": [
      "Enter the value of a: 6\n",
      "I am between 5 & 10\n"
     ]
    }
   ],
   "source": [
    "a = int(input(\"Enter the value of a: \"))\n",
    "#a= 18\n",
    "if a<5:\n",
    "    print(\"I am less than 5\")\n",
    "elif 5<=a<10:\n",
    "    print(\"I am between 5 & 10\")\n",
    "    \n",
    "elif 10<=a<15:\n",
    "    print(\" I am between 10 t0 15\")\n",
    "    \n",
    "else:\n",
    "    print(\" I am greater than 15\")"
   ]
  },
  {
   "cell_type": "code",
   "execution_count": 2,
   "metadata": {},
   "outputs": [
    {
     "name": "stdout",
     "output_type": "stream",
     "text": [
      "Enter marks of sub1 out of 100: 35\n",
      "Enter marks of sub2 out of 100: 35\n",
      "Enter marks of sub3 out of 100: 35\n",
      "Enter marks of sub4 out of 100: 35\n",
      "Enter marks of sub5 out of 100: 35\n",
      "Total is:  175\n",
      "Percentage is:  35.0\n",
      "GRADE D\n"
     ]
    }
   ],
   "source": [
    "#Percentage Calculate\n",
    "\n",
    "sub1 = int(input(\"Enter marks of sub1 out of 100: \"))\n",
    "sub2 = int(input(\"Enter marks of sub2 out of 100: \"))\n",
    "sub3 = int(input(\"Enter marks of sub3 out of 100: \"))\n",
    "sub4 = int(input(\"Enter marks of sub4 out of 100: \"))\n",
    "sub5 = int(input(\"Enter marks of sub5 out of 100: \"))\n",
    "\n",
    "marks=sub1+sub2+sub3+sub4+sub5\n",
    "print(\"Total is: \", marks)\n",
    "per=float(marks)*(100/500)\n",
    "print(\"Percentage is: \",per)\n",
    "\n",
    "if per>=80:\n",
    "    print(\"GRADE A\")\n",
    "    \n",
    "elif 60<=per<80:\n",
    "    print(\"GRADE B\")\n",
    "    \n",
    "elif 50<=per<65:\n",
    "    print(\"GRADE C\")\n",
    "    \n",
    "else:\n",
    "    print(\"GRADE D\")"
   ]
  },
  {
   "cell_type": "markdown",
   "metadata": {},
   "source": [
    "# for"
   ]
  },
  {
   "cell_type": "code",
   "execution_count": 37,
   "metadata": {},
   "outputs": [
    {
     "name": "stdout",
     "output_type": "stream",
     "text": [
      "1\n",
      "2\n",
      "3\n",
      "4\n",
      "5\n"
     ]
    }
   ],
   "source": [
    "seq = [1,2,3,4,5]\n",
    "for i in seq:\n",
    "    print(i)"
   ]
  },
  {
   "cell_type": "code",
   "execution_count": 38,
   "metadata": {},
   "outputs": [
    {
     "name": "stdout",
     "output_type": "stream",
     "text": [
      "1\n",
      "4\n",
      "9\n",
      "16\n",
      "25\n"
     ]
    }
   ],
   "source": [
    "for i in seq:\n",
    "    print(i*i)"
   ]
  },
  {
   "cell_type": "code",
   "execution_count": 39,
   "metadata": {},
   "outputs": [
    {
     "name": "stdout",
     "output_type": "stream",
     "text": [
      "Utkarsh\n",
      "Utkarsh\n",
      "Utkarsh\n",
      "Utkarsh\n",
      "Utkarsh\n"
     ]
    }
   ],
   "source": [
    "for i in seq:\n",
    "    print(\"Utkarsh\")"
   ]
  },
  {
   "cell_type": "code",
   "execution_count": 43,
   "metadata": {},
   "outputs": [
    {
     "data": {
      "text/plain": [
       "range(0, 5)"
      ]
     },
     "execution_count": 43,
     "metadata": {},
     "output_type": "execute_result"
    }
   ],
   "source": [
    "range(0,5)"
   ]
  },
  {
   "cell_type": "code",
   "execution_count": 49,
   "metadata": {},
   "outputs": [
    {
     "name": "stdout",
     "output_type": "stream",
     "text": [
      "0\n",
      "7\n",
      "14\n",
      "21\n",
      "28\n"
     ]
    }
   ],
   "source": [
    "for i in range(5):\n",
    "    print(i*7)"
   ]
  },
  {
   "cell_type": "code",
   "execution_count": 47,
   "metadata": {},
   "outputs": [
    {
     "data": {
      "text/plain": [
       "[0, 1, 2, 3, 4]"
      ]
     },
     "execution_count": 47,
     "metadata": {},
     "output_type": "execute_result"
    }
   ],
   "source": [
    "list(range(5))"
   ]
  },
  {
   "cell_type": "markdown",
   "metadata": {},
   "source": [
    "# Iteration"
   ]
  },
  {
   "cell_type": "code",
   "execution_count": 50,
   "metadata": {},
   "outputs": [
    {
     "name": "stdout",
     "output_type": "stream",
     "text": [
      "List Itreation\n",
      "who\n",
      "are\n",
      "you?\n"
     ]
    }
   ],
   "source": [
    "# Iterating over a list\n",
    "print(\"List Itreation\")\n",
    "l= [\"who\",\"are\",\"you?\"]\n",
    "for i in l:\n",
    "    print(i)"
   ]
  },
  {
   "cell_type": "code",
   "execution_count": 51,
   "metadata": {},
   "outputs": [
    {
     "name": "stdout",
     "output_type": "stream",
     "text": [
      "List Itreation\n",
      "who are you? "
     ]
    }
   ],
   "source": [
    "print(\"List Itreation\")\n",
    "l= [\"who\",\"are\",\"you?\"]\n",
    "for i in l:\n",
    "    print(i, end=\" \") # same line"
   ]
  },
  {
   "cell_type": "code",
   "execution_count": 52,
   "metadata": {},
   "outputs": [
    {
     "data": {
      "text/plain": [
       "range(10, 21)"
      ]
     },
     "execution_count": 52,
     "metadata": {},
     "output_type": "execute_result"
    }
   ],
   "source": [
    "# Even and Odd\n",
    "\n",
    "range(10,21)"
   ]
  },
  {
   "cell_type": "code",
   "execution_count": 54,
   "metadata": {},
   "outputs": [
    {
     "name": "stdout",
     "output_type": "stream",
     "text": [
      "10 is Even number\n",
      "11 is Odd number\n",
      "12 is Even number\n",
      "13 is Odd number\n",
      "14 is Even number\n",
      "15 is Odd number\n",
      "16 is Even number\n",
      "17 is Odd number\n",
      "18 is Even number\n",
      "19 is Odd number\n",
      "20 is Even number\n"
     ]
    }
   ],
   "source": [
    "for i in range(10,21):\n",
    "      \n",
    "    if (i % 2) == 0:  \n",
    "       print(\"{0} is Even number\".format(i))  \n",
    "    else:  \n",
    "       print(\"{0} is Odd number\".format(i)) "
   ]
  },
  {
   "cell_type": "code",
   "execution_count": 64,
   "metadata": {},
   "outputs": [
    {
     "name": "stdout",
     "output_type": "stream",
     "text": [
      "The sum of even numbers b/w 10&20 is 90,\n",
      " and the sum of odd numbers is 75.\n"
     ]
    }
   ],
   "source": [
    "sum_even = 0\n",
    "sum_odd  = 0\n",
    "\n",
    "for i in range(10,21):\n",
    "    if(i % 2) == 0:\n",
    "          sum_even = sum_even + i\n",
    "    else:\n",
    "        sum_odd = sum_odd + i\n",
    "print(\"The sum of even numbers b/w 10&20 is {},\\n and the sum of odd numbers is {}.\".format(sum_even,sum_odd))\n",
    "        "
   ]
  },
  {
   "cell_type": "markdown",
   "metadata": {},
   "source": [
    "# while loop"
   ]
  },
  {
   "cell_type": "code",
   "execution_count": 65,
   "metadata": {},
   "outputs": [
    {
     "name": "stdout",
     "output_type": "stream",
     "text": [
      "Hello Python\n",
      "Hello Python\n",
      "Hello Python\n"
     ]
    }
   ],
   "source": [
    "# print hello python time\n",
    "count=0\n",
    "while (count < 3):\n",
    "    count = count+1\n",
    "    print(\"Hello Python\")"
   ]
  },
  {
   "cell_type": "code",
   "execution_count": 68,
   "metadata": {},
   "outputs": [
    {
     "name": "stdout",
     "output_type": "stream",
     "text": [
      "i is: 1\n",
      "i is: 2\n",
      "i is: 3\n",
      "i is: 4\n"
     ]
    }
   ],
   "source": [
    "i = 1\n",
    "while i < 5:\n",
    "    print('i is: {}'.format(i))\n",
    "    i = i+1"
   ]
  },
  {
   "cell_type": "code",
   "execution_count": 2,
   "metadata": {},
   "outputs": [
    {
     "name": "stdout",
     "output_type": "stream",
     "text": [
      "Enter the num: 10\n",
      "1\n",
      "3\n",
      "5\n",
      "7\n",
      "9\n"
     ]
    }
   ],
   "source": [
    "var = int(input(\"Enter the num: \"))\n",
    "num =1\n",
    "while num <= var:\n",
    "    if num %2 != 0:\n",
    "        print(num)\n",
    "    num = num+1"
   ]
  },
  {
   "cell_type": "code",
   "execution_count": 4,
   "metadata": {},
   "outputs": [
    {
     "name": "stdout",
     "output_type": "stream",
     "text": [
      "Enter the num: 100\n",
      "The sum of even numbers is 2550,\n",
      " and the sum of odd numbers is 2500.\n"
     ]
    }
   ],
   "source": [
    "var = int(input(\"Enter the num: \"))\n",
    "sum_even = 0\n",
    "sum_odd = 0\n",
    "num=1\n",
    "while num<= var:\n",
    "    if(num % 2) == 0:\n",
    "          sum_even = sum_even + num\n",
    "    else:\n",
    "        sum_odd = sum_odd + num\n",
    "    num = num + 1\n",
    "print(\"The sum of even numbers is {},\\n and the sum of odd numbers is {}.\".format(sum_even,sum_odd))\n"
   ]
  },
  {
   "cell_type": "code",
   "execution_count": null,
   "metadata": {},
   "outputs": [],
   "source": []
  }
 ],
 "metadata": {
  "kernelspec": {
   "display_name": "Python 3",
   "language": "python",
   "name": "python3"
  },
  "language_info": {
   "codemirror_mode": {
    "name": "ipython",
    "version": 3
   },
   "file_extension": ".py",
   "mimetype": "text/x-python",
   "name": "python",
   "nbconvert_exporter": "python",
   "pygments_lexer": "ipython3",
   "version": "3.7.4"
  }
 },
 "nbformat": 4,
 "nbformat_minor": 2
}
