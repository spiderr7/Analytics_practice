{
 "cells": [
  {
   "cell_type": "code",
   "execution_count": 1,
   "metadata": {},
   "outputs": [
    {
     "name": "stdout",
     "output_type": "stream",
     "text": [
      "**How to plot a ROC Curve in Python**\n",
      "\n",
      "roc_auc_score for DecisionTree:  0.9129842615012106\n",
      "roc_auc_score for Logistic Regression:  0.9863801452784504\n"
     ]
    },
    {
     "name": "stderr",
     "output_type": "stream",
     "text": [
      "C:\\Users\\mrspider\\Anaconda3\\lib\\site-packages\\sklearn\\linear_model\\_logistic.py:940: ConvergenceWarning: lbfgs failed to converge (status=1):\n",
      "STOP: TOTAL NO. of ITERATIONS REACHED LIMIT.\n",
      "\n",
      "Increase the number of iterations (max_iter) or scale the data as shown in:\n",
      "    https://scikit-learn.org/stable/modules/preprocessing.html\n",
      "Please also refer to the documentation for alternative solver options:\n",
      "    https://scikit-learn.org/stable/modules/linear_model.html#logistic-regression\n",
      "  extra_warning_msg=_LOGISTIC_SOLVER_CONVERGENCE_MSG)\n"
     ]
    },
    {
     "data": {
      "text/plain": [
       "<Figure size 1000x1000 with 1 Axes>"
      ]
     },
     "metadata": {},
     "output_type": "display_data"
    },
    {
     "data": {
      "text/plain": [
       "<Figure size 1000x1000 with 1 Axes>"
      ]
     },
     "metadata": {},
     "output_type": "display_data"
    }
   ],
   "source": [
    "## How we can plot a ROC Curve in Python\n",
    "def Snippet_140_Ex_2():\n",
    "    print('**How to plot a ROC Curve in Python**\\n')\n",
    "\n",
    "    # loading libraries\n",
    "    from sklearn import datasets\n",
    "    from sklearn.tree import DecisionTreeClassifier\n",
    "    from sklearn.linear_model import LogisticRegression\n",
    "    from sklearn.metrics import roc_curve, roc_auc_score\n",
    "    from sklearn.model_selection import train_test_split\n",
    "    import matplotlib.pyplot as plt\n",
    "\n",
    "    # Creating feature matrix and target vector\n",
    "    dataset = datasets.load_breast_cancer()\n",
    "    X = dataset.data\n",
    "    y = dataset.target\n",
    "\n",
    "\n",
    "    # Spliting into training and test sets\n",
    "    X_train, X_test, y_train, y_test = train_test_split(X, y, test_size=0.3)\n",
    "\n",
    "    # Creating classifier\n",
    "    clf_tree = DecisionTreeClassifier(); clf_reg = LogisticRegression();\n",
    "\n",
    "    # Training model\n",
    "    clf_tree.fit(X_train, y_train); clf_reg.fit(X_train, y_train);\n",
    "\n",
    "    # Getting predicted probabilities\n",
    "    y_score1 = clf_tree.predict_proba(X_test)[:,1]\n",
    "    y_score2 = clf_reg.predict_proba(X_test)[:,1]\n",
    "\n",
    "    # Ploting Receiving Operating Characteristic Curve\n",
    "    # Creating true and false positive rates\n",
    "    false_positive_rate1, true_positive_rate1, threshold1 = roc_curve(y_test, y_score1)\n",
    "    false_positive_rate2, true_positive_rate2, threshold2 = roc_curve(y_test, y_score2)\n",
    "    print('roc_auc_score for DecisionTree: ', roc_auc_score(y_test, y_score1))\n",
    "    print('roc_auc_score for Logistic Regression: ', roc_auc_score(y_test, y_score2))\n",
    "\n",
    "    # Ploting ROC curves\n",
    "    plt.subplots(1, figsize=(10,10))\n",
    "    plt.title('Receiver Operating Characteristic - DecisionTree')\n",
    "    plt.plot(false_positive_rate1, true_positive_rate1)\n",
    "    plt.plot([0, 1], ls=\"--\")\n",
    "    plt.plot([0, 0], [1, 0] , c=\".7\"), plt.plot([1, 1] , c=\".7\")\n",
    "    plt.ylabel('True Positive Rate')\n",
    "    plt.xlabel('False Positive Rate')\n",
    "    plt.show()\n",
    "\n",
    "    plt.subplots(1, figsize=(10,10))\n",
    "    plt.title('Receiver Operating Characteristic - Logistic regression')\n",
    "    plt.plot(false_positive_rate2, true_positive_rate2)\n",
    "    plt.plot([0, 1], ls=\"--\")\n",
    "    plt.plot([0, 0], [1, 0] , c=\".7\"), plt.plot([1, 1] , c=\".7\")\n",
    "    plt.ylabel('True Positive Rate')\n",
    "    plt.xlabel('False Positive Rate')\n",
    "    plt.show()\n",
    "\n",
    "Snippet_140_Ex_2()\n"
   ]
  },
  {
   "cell_type": "code",
   "execution_count": null,
   "metadata": {},
   "outputs": [],
   "source": []
  }
 ],
 "metadata": {
  "kernelspec": {
   "display_name": "Python 3",
   "language": "python",
   "name": "python3"
  },
  "language_info": {
   "codemirror_mode": {
    "name": "ipython",
    "version": 3
   },
   "file_extension": ".py",
   "mimetype": "text/x-python",
   "name": "python",
   "nbconvert_exporter": "python",
   "pygments_lexer": "ipython3",
   "version": "3.7.4"
  }
 },
 "nbformat": 4,
 "nbformat_minor": 2
}
