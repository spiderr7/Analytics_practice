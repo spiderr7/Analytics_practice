{
 "cells": [
  {
   "cell_type": "code",
   "execution_count": 1,
   "metadata": {},
   "outputs": [],
   "source": [
    "import numpy as np\n",
    "import pandas as pd\n",
    "import matplotlib.pyplot as plt\n",
    "import seaborn as sns\n",
    "%matplotlib inline"
   ]
  },
  {
   "cell_type": "code",
   "execution_count": 20,
   "metadata": {},
   "outputs": [
    {
     "data": {
      "text/html": [
       "<div>\n",
       "<style scoped>\n",
       "    .dataframe tbody tr th:only-of-type {\n",
       "        vertical-align: middle;\n",
       "    }\n",
       "\n",
       "    .dataframe tbody tr th {\n",
       "        vertical-align: top;\n",
       "    }\n",
       "\n",
       "    .dataframe thead th {\n",
       "        text-align: right;\n",
       "    }\n",
       "</style>\n",
       "<table border=\"1\" class=\"dataframe\">\n",
       "  <thead>\n",
       "    <tr style=\"text-align: right;\">\n",
       "      <th></th>\n",
       "      <th>Unnamed: 0</th>\n",
       "      <th>price</th>\n",
       "      <th>resid_area</th>\n",
       "      <th>air_qual</th>\n",
       "      <th>room_num</th>\n",
       "      <th>age</th>\n",
       "      <th>techers</th>\n",
       "      <th>poor_prop</th>\n",
       "      <th>airport</th>\n",
       "      <th>n_hos_beds</th>\n",
       "      <th>n_hot_rooms</th>\n",
       "      <th>rainfall</th>\n",
       "      <th>parks</th>\n",
       "      <th>avg_dist</th>\n",
       "      <th>Sold</th>\n",
       "      <th>waterbody_Lake and River</th>\n",
       "      <th>waterbody_None</th>\n",
       "      <th>waterbody_River</th>\n",
       "    </tr>\n",
       "  </thead>\n",
       "  <tbody>\n",
       "    <tr>\n",
       "      <td>0</td>\n",
       "      <td>0</td>\n",
       "      <td>0.160376</td>\n",
       "      <td>-1.287909</td>\n",
       "      <td>-0.144217</td>\n",
       "      <td>0.515126</td>\n",
       "      <td>-0.120013</td>\n",
       "      <td>1.459000</td>\n",
       "      <td>-1.075562</td>\n",
       "      <td>0.902009</td>\n",
       "      <td>-1.653421</td>\n",
       "      <td>-0.353398</td>\n",
       "      <td>-1.294408</td>\n",
       "      <td>-0.480763</td>\n",
       "      <td>-0.912871</td>\n",
       "      <td>0.138986</td>\n",
       "      <td>0</td>\n",
       "      <td>0</td>\n",
       "      <td>1</td>\n",
       "    </tr>\n",
       "    <tr>\n",
       "      <td>1</td>\n",
       "      <td>1</td>\n",
       "      <td>-0.101258</td>\n",
       "      <td>-0.593381</td>\n",
       "      <td>-0.740262</td>\n",
       "      <td>0.256311</td>\n",
       "      <td>0.367166</td>\n",
       "      <td>0.303094</td>\n",
       "      <td>-0.492439</td>\n",
       "      <td>-1.108637</td>\n",
       "      <td>-0.387954</td>\n",
       "      <td>-0.166000</td>\n",
       "      <td>0.225431</td>\n",
       "      <td>-0.782183</td>\n",
       "      <td>1.095445</td>\n",
       "      <td>0.557282</td>\n",
       "      <td>0</td>\n",
       "      <td>0</td>\n",
       "      <td>0</td>\n",
       "    </tr>\n",
       "    <tr>\n",
       "      <td>2</td>\n",
       "      <td>2</td>\n",
       "      <td>1.326830</td>\n",
       "      <td>-0.593381</td>\n",
       "      <td>-0.740262</td>\n",
       "      <td>1.540303</td>\n",
       "      <td>-0.265812</td>\n",
       "      <td>0.303094</td>\n",
       "      <td>-1.208727</td>\n",
       "      <td>-1.108637</td>\n",
       "      <td>-0.345589</td>\n",
       "      <td>16.828839</td>\n",
       "      <td>-0.094535</td>\n",
       "      <td>-0.818115</td>\n",
       "      <td>-0.912871</td>\n",
       "      <td>0.557282</td>\n",
       "      <td>0</td>\n",
       "      <td>1</td>\n",
       "      <td>0</td>\n",
       "    </tr>\n",
       "    <tr>\n",
       "      <td>3</td>\n",
       "      <td>3</td>\n",
       "      <td>1.185112</td>\n",
       "      <td>-1.306878</td>\n",
       "      <td>-0.835284</td>\n",
       "      <td>1.226027</td>\n",
       "      <td>-0.809889</td>\n",
       "      <td>-0.113032</td>\n",
       "      <td>-1.361517</td>\n",
       "      <td>0.902009</td>\n",
       "      <td>0.934910</td>\n",
       "      <td>-0.339029</td>\n",
       "      <td>0.465405</td>\n",
       "      <td>-0.687571</td>\n",
       "      <td>-0.912871</td>\n",
       "      <td>1.078962</td>\n",
       "      <td>0</td>\n",
       "      <td>0</td>\n",
       "      <td>0</td>\n",
       "    </tr>\n",
       "    <tr>\n",
       "      <td>4</td>\n",
       "      <td>4</td>\n",
       "      <td>1.490352</td>\n",
       "      <td>-1.306878</td>\n",
       "      <td>-0.835284</td>\n",
       "      <td>1.476439</td>\n",
       "      <td>-0.511180</td>\n",
       "      <td>-0.113032</td>\n",
       "      <td>-1.026501</td>\n",
       "      <td>-1.108637</td>\n",
       "      <td>0.631526</td>\n",
       "      <td>-0.334750</td>\n",
       "      <td>1.265320</td>\n",
       "      <td>-1.410280</td>\n",
       "      <td>-0.912871</td>\n",
       "      <td>1.077774</td>\n",
       "      <td>0</td>\n",
       "      <td>0</td>\n",
       "      <td>0</td>\n",
       "    </tr>\n",
       "  </tbody>\n",
       "</table>\n",
       "</div>"
      ],
      "text/plain": [
       "   Unnamed: 0     price  resid_area  air_qual  room_num       age   techers  \\\n",
       "0           0  0.160376   -1.287909 -0.144217  0.515126 -0.120013  1.459000   \n",
       "1           1 -0.101258   -0.593381 -0.740262  0.256311  0.367166  0.303094   \n",
       "2           2  1.326830   -0.593381 -0.740262  1.540303 -0.265812  0.303094   \n",
       "3           3  1.185112   -1.306878 -0.835284  1.226027 -0.809889 -0.113032   \n",
       "4           4  1.490352   -1.306878 -0.835284  1.476439 -0.511180 -0.113032   \n",
       "\n",
       "   poor_prop   airport  n_hos_beds  n_hot_rooms  rainfall     parks  avg_dist  \\\n",
       "0  -1.075562  0.902009   -1.653421    -0.353398 -1.294408 -0.480763 -0.912871   \n",
       "1  -0.492439 -1.108637   -0.387954    -0.166000  0.225431 -0.782183  1.095445   \n",
       "2  -1.208727 -1.108637   -0.345589    16.828839 -0.094535 -0.818115 -0.912871   \n",
       "3  -1.361517  0.902009    0.934910    -0.339029  0.465405 -0.687571 -0.912871   \n",
       "4  -1.026501 -1.108637    0.631526    -0.334750  1.265320 -1.410280 -0.912871   \n",
       "\n",
       "       Sold  waterbody_Lake and River  waterbody_None  waterbody_River  \n",
       "0  0.138986                         0               0                1  \n",
       "1  0.557282                         0               0                0  \n",
       "2  0.557282                         0               1                0  \n",
       "3  1.078962                         0               0                0  \n",
       "4  1.077774                         0               0                0  "
      ]
     },
     "execution_count": 20,
     "metadata": {},
     "output_type": "execute_result"
    }
   ],
   "source": [
    "house1 = pd.read_csv(\"house_master.csv\")\n",
    "house1.head()"
   ]
  },
  {
   "cell_type": "code",
   "execution_count": 21,
   "metadata": {},
   "outputs": [
    {
     "data": {
      "text/plain": [
       "Index(['Unnamed: 0', 'price', 'resid_area', 'air_qual', 'room_num', 'age',\n",
       "       'techers', 'poor_prop', 'airport', 'n_hos_beds', 'n_hot_rooms',\n",
       "       'rainfall', 'parks', 'avg_dist', 'Sold', 'waterbody_Lake and River',\n",
       "       'waterbody_None', 'waterbody_River'],\n",
       "      dtype='object')"
      ]
     },
     "execution_count": 21,
     "metadata": {},
     "output_type": "execute_result"
    }
   ],
   "source": [
    "house1.columns"
   ]
  },
  {
   "cell_type": "code",
   "execution_count": 22,
   "metadata": {},
   "outputs": [],
   "source": [
    "#dropping the bus_ter column\n",
    "house1.drop('Unnamed: 0',axis = 1,inplace = True)"
   ]
  },
  {
   "cell_type": "code",
   "execution_count": 23,
   "metadata": {},
   "outputs": [
    {
     "name": "stdout",
     "output_type": "stream",
     "text": [
      "<class 'pandas.core.frame.DataFrame'>\n",
      "RangeIndex: 506 entries, 0 to 505\n",
      "Data columns (total 17 columns):\n",
      "price                       506 non-null float64\n",
      "resid_area                  506 non-null float64\n",
      "air_qual                    506 non-null float64\n",
      "room_num                    506 non-null float64\n",
      "age                         506 non-null float64\n",
      "techers                     506 non-null float64\n",
      "poor_prop                   506 non-null float64\n",
      "airport                     506 non-null float64\n",
      "n_hos_beds                  506 non-null float64\n",
      "n_hot_rooms                 506 non-null float64\n",
      "rainfall                    506 non-null float64\n",
      "parks                       506 non-null float64\n",
      "avg_dist                    506 non-null float64\n",
      "Sold                        506 non-null float64\n",
      "waterbody_Lake and River    506 non-null int64\n",
      "waterbody_None              506 non-null int64\n",
      "waterbody_River             506 non-null int64\n",
      "dtypes: float64(14), int64(3)\n",
      "memory usage: 67.3 KB\n"
     ]
    }
   ],
   "source": [
    "house1.info()"
   ]
  },
  {
   "cell_type": "markdown",
   "metadata": {},
   "source": [
    "# Splitting into train and test "
   ]
  },
  {
   "cell_type": "code",
   "execution_count": 24,
   "metadata": {},
   "outputs": [],
   "source": [
    "# Putting feature variable to X\n",
    "x_final = house1[['price', 'resid_area', 'air_qual', 'room_num', 'age', 'techers',\n",
    "       'poor_prop', 'airport', 'n_hos_beds', 'n_hot_rooms', 'rainfall',\n",
    "       'parks', 'avg_dist', 'waterbody_Lake and River', 'waterbody_None',\n",
    "       'waterbody_River']]\n",
    "\n",
    "# Putting response variable to y\n",
    "y = house1['Sold']\n"
   ]
  },
  {
   "cell_type": "code",
   "execution_count": 25,
   "metadata": {},
   "outputs": [
    {
     "name": "stdout",
     "output_type": "stream",
     "text": [
      "x_train  (354, 16)\n",
      "x_test  (152, 16)\n",
      "y_train  (354,)\n",
      "y_test  (152,)\n"
     ]
    }
   ],
   "source": [
    "# Train Test Splitting \n",
    "from sklearn.model_selection import train_test_split\n",
    "x_train,x_test, y_train, y_test = train_test_split(x_final, y, test_size = 0.30, random_state=0)\n",
    "print(\"x_train \",x_train.shape)\n",
    "print(\"x_test \",x_test.shape)\n",
    "print(\"y_train \",y_train.shape)\n",
    "print(\"y_test \",y_test.shape)"
   ]
  },
  {
   "cell_type": "code",
   "execution_count": 30,
   "metadata": {},
   "outputs": [
    {
     "name": "stdout",
     "output_type": "stream",
     "text": [
      "[ 13 205  83 305  78 208 284 200  56 234 252 193 317 259 242 258 124  39\n",
      " 275  80 128  42 194   8 112 146 125 291 145  49 251 114  95 260 307 310\n",
      " 166 106  67  76 179 206 151 192 261 161 132 249 191 199  88 299  11  38\n",
      "  29 302 209 116 231 220  69 287 148  62  28 150  41 246  24 160 224  17\n",
      " 316 122 222  97 274 136 129 169 186 314 138  79  75  98  58 108  54 311\n",
      " 147  62 283 320 131  37 298 196  21   7  74 202 119 198 178 267 292 303\n",
      " 230 300 153 254 174  53 223  28 308 144 180 232 126 270  36 244  23  33\n",
      " 190 115 319 312 318 207  45 238 187 248 190  71 284 228 164 170  65 133\n",
      "  73  61  16 258 214 104 236 211 184 240 301  32 121 176  63 256  90  60\n",
      " 143  19  27 235 268 127   1  33 220  84  81 213 120  12 305 288  57 201\n",
      " 250 271 205 167  96 273 321  68 239 315 216 158  10 219 225 262  70 134\n",
      " 117 257 165  52 276   3 229  87 177 185 304 267 230 289 204  31  22  51\n",
      "  59 171 296  18  85 197 217 266  92 215 278   4  94 183 313 212 110 156\n",
      "   6 279 189 163 181 155 100 285 175 269 295   0  30 226 218 168  20   9\n",
      " 281 140  86 101 121 111 103 241 247 243  93  46  50 152 130  13 162 258\n",
      " 113 142 137 247 309  55 237  43   5 109 267  81  25 159 227 107 203  35\n",
      " 290  48  64  44 247 233 149   2  89  25 306 277 221 210  40 172 105  91\n",
      " 300  72  15 139  14 297  47 173 182 244  99  77 272 299 294 157 118  26\n",
      "  66 255 280 233 102 263  38 135  82 257 275 188  34 180 154 253 195 247\n",
      " 293 245 191 286 123 264 302 241 282 141 265 131]\n",
      "continuous\n",
      "multiclass\n",
      "multiclass\n"
     ]
    }
   ],
   "source": [
    "from sklearn import preprocessing\n",
    "from sklearn import utils\n",
    "lab_enc = preprocessing.LabelEncoder()\n",
    "training_scores_encoded = lab_enc.fit_transform(y_train)\n",
    "print(training_scores_encoded)\n",
    "print(utils.multiclass.type_of_target(y_train))\n",
    "print(utils.multiclass.type_of_target(y_train.astype('int')))\n",
    "print(utils.multiclass.type_of_target(training_scores_encoded))"
   ]
  },
  {
   "cell_type": "code",
   "execution_count": 31,
   "metadata": {},
   "outputs": [
    {
     "ename": "ValueError",
     "evalue": "Unknown label type: 'continuous'",
     "output_type": "error",
     "traceback": [
      "\u001b[1;31m---------------------------------------------------------------------------\u001b[0m",
      "\u001b[1;31mValueError\u001b[0m                                Traceback (most recent call last)",
      "\u001b[1;32m<ipython-input-31-41de04b50e7c>\u001b[0m in \u001b[0;36m<module>\u001b[1;34m\u001b[0m\n\u001b[0;32m      1\u001b[0m \u001b[1;32mfrom\u001b[0m \u001b[0msklearn\u001b[0m\u001b[1;33m.\u001b[0m\u001b[0mlinear_model\u001b[0m \u001b[1;32mimport\u001b[0m \u001b[0mLogisticRegression\u001b[0m\u001b[1;33m\u001b[0m\u001b[1;33m\u001b[0m\u001b[0m\n\u001b[0;32m      2\u001b[0m \u001b[0mglm\u001b[0m\u001b[1;33m=\u001b[0m\u001b[0mLogisticRegression\u001b[0m\u001b[1;33m(\u001b[0m\u001b[1;33m)\u001b[0m\u001b[1;33m\u001b[0m\u001b[1;33m\u001b[0m\u001b[0m\n\u001b[1;32m----> 3\u001b[1;33m \u001b[0mmodel\u001b[0m\u001b[1;33m=\u001b[0m\u001b[0mglm\u001b[0m\u001b[1;33m.\u001b[0m\u001b[0mfit\u001b[0m\u001b[1;33m(\u001b[0m\u001b[0mx_train\u001b[0m\u001b[1;33m,\u001b[0m\u001b[0my_train\u001b[0m\u001b[1;33m)\u001b[0m\u001b[1;33m\u001b[0m\u001b[1;33m\u001b[0m\u001b[0m\n\u001b[0m\u001b[0;32m      4\u001b[0m \u001b[0mpredicted\u001b[0m \u001b[1;33m=\u001b[0m \u001b[0mmodel\u001b[0m\u001b[1;33m.\u001b[0m\u001b[0mpredict\u001b[0m\u001b[1;33m(\u001b[0m\u001b[0mx_test\u001b[0m\u001b[1;33m)\u001b[0m\u001b[1;33m\u001b[0m\u001b[1;33m\u001b[0m\u001b[0m\n",
      "\u001b[1;32m~\\Anaconda3\\lib\\site-packages\\sklearn\\linear_model\\_logistic.py\u001b[0m in \u001b[0;36mfit\u001b[1;34m(self, X, y, sample_weight)\u001b[0m\n\u001b[0;32m   1526\u001b[0m         X, y = check_X_y(X, y, accept_sparse='csr', dtype=_dtype, order=\"C\",\n\u001b[0;32m   1527\u001b[0m                          accept_large_sparse=solver != 'liblinear')\n\u001b[1;32m-> 1528\u001b[1;33m         \u001b[0mcheck_classification_targets\u001b[0m\u001b[1;33m(\u001b[0m\u001b[0my\u001b[0m\u001b[1;33m)\u001b[0m\u001b[1;33m\u001b[0m\u001b[1;33m\u001b[0m\u001b[0m\n\u001b[0m\u001b[0;32m   1529\u001b[0m         \u001b[0mself\u001b[0m\u001b[1;33m.\u001b[0m\u001b[0mclasses_\u001b[0m \u001b[1;33m=\u001b[0m \u001b[0mnp\u001b[0m\u001b[1;33m.\u001b[0m\u001b[0munique\u001b[0m\u001b[1;33m(\u001b[0m\u001b[0my\u001b[0m\u001b[1;33m)\u001b[0m\u001b[1;33m\u001b[0m\u001b[1;33m\u001b[0m\u001b[0m\n\u001b[0;32m   1530\u001b[0m         \u001b[0mn_samples\u001b[0m\u001b[1;33m,\u001b[0m \u001b[0mn_features\u001b[0m \u001b[1;33m=\u001b[0m \u001b[0mX\u001b[0m\u001b[1;33m.\u001b[0m\u001b[0mshape\u001b[0m\u001b[1;33m\u001b[0m\u001b[1;33m\u001b[0m\u001b[0m\n",
      "\u001b[1;32m~\\Anaconda3\\lib\\site-packages\\sklearn\\utils\\multiclass.py\u001b[0m in \u001b[0;36mcheck_classification_targets\u001b[1;34m(y)\u001b[0m\n\u001b[0;32m    167\u001b[0m     if y_type not in ['binary', 'multiclass', 'multiclass-multioutput',\n\u001b[0;32m    168\u001b[0m                       'multilabel-indicator', 'multilabel-sequences']:\n\u001b[1;32m--> 169\u001b[1;33m         \u001b[1;32mraise\u001b[0m \u001b[0mValueError\u001b[0m\u001b[1;33m(\u001b[0m\u001b[1;34m\"Unknown label type: %r\"\u001b[0m \u001b[1;33m%\u001b[0m \u001b[0my_type\u001b[0m\u001b[1;33m)\u001b[0m\u001b[1;33m\u001b[0m\u001b[1;33m\u001b[0m\u001b[0m\n\u001b[0m\u001b[0;32m    170\u001b[0m \u001b[1;33m\u001b[0m\u001b[0m\n\u001b[0;32m    171\u001b[0m \u001b[1;33m\u001b[0m\u001b[0m\n",
      "\u001b[1;31mValueError\u001b[0m: Unknown label type: 'continuous'"
     ]
    }
   ],
   "source": [
    "from sklearn.linear_model import LogisticRegression\n",
    "glm=LogisticRegression()\n",
    "model=glm.fit(x_train,y_train)\n",
    "predicted = model.predict(x_test)"
   ]
  },
  {
   "cell_type": "code",
   "execution_count": null,
   "metadata": {},
   "outputs": [],
   "source": []
  }
 ],
 "metadata": {
  "kernelspec": {
   "display_name": "Python 3",
   "language": "python",
   "name": "python3"
  },
  "language_info": {
   "codemirror_mode": {
    "name": "ipython",
    "version": 3
   },
   "file_extension": ".py",
   "mimetype": "text/x-python",
   "name": "python",
   "nbconvert_exporter": "python",
   "pygments_lexer": "ipython3",
   "version": "3.7.4"
  }
 },
 "nbformat": 4,
 "nbformat_minor": 2
}
