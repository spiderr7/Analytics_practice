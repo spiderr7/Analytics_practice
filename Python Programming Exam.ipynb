{
 "cells": [
  {
   "cell_type": "markdown",
   "metadata": {},
   "source": [
    "# Python Programming Exam"
   ]
  },
  {
   "cell_type": "raw",
   "metadata": {},
   "source": [
    "2. Create a dictionary containing three lambda functions square, cubeand square root."
   ]
  },
  {
   "cell_type": "code",
   "execution_count": 6,
   "metadata": {},
   "outputs": [
    {
     "name": "stdout",
     "output_type": "stream",
     "text": [
      "Enter the Number :6\n",
      "36.0\n",
      "216.0\n",
      "2.449489742783178\n"
     ]
    }
   ],
   "source": [
    "import math\n",
    "n = int(input(\"Enter the Number :\"))\n",
    "#function returning lambda function\n",
    "def myfunc(n):\n",
    "    return lambda a : math.pow(a, n)\n",
    "\n",
    "#lambda functions\n",
    "dict= {square : myfunc(2), \n",
    "        cube : myfunc(3) ,\n",
    "        squareroot : myfunc(0.5)}\n",
    "\n",
    "print(square(n))\n",
    "print(cube(n))\n",
    "print(squareroot(n))"
   ]
  },
  {
   "cell_type": "code",
   "execution_count": null,
   "metadata": {},
   "outputs": [],
   "source": []
  },
  {
   "cell_type": "raw",
   "metadata": {},
   "source": [
    "4. A list of words is given. Find the words from the list that have their second character in uppercase."
   ]
  },
  {
   "cell_type": "code",
   "execution_count": 2,
   "metadata": {},
   "outputs": [
    {
     "name": "stdout",
     "output_type": "stream",
     "text": [
      "hOw ARe "
     ]
    }
   ],
   "source": [
    "ls =  ['hello', 'Dear', 'hOw', 'ARe', 'You']\n",
    "for i in range(len(ls)):\n",
    "    char = ls[i]\n",
    "    if char[1].isupper():\n",
    "        print(char, end = ' ')"
   ]
  },
  {
   "cell_type": "code",
   "execution_count": null,
   "metadata": {},
   "outputs": [],
   "source": []
  },
  {
   "cell_type": "raw",
   "metadata": {},
   "source": [
    "9. A list of words is given. Convert the words into uppercase. Use lambda and map functions."
   ]
  },
  {
   "cell_type": "code",
   "execution_count": 45,
   "metadata": {},
   "outputs": [
    {
     "data": {
      "text/plain": [
       "['TRUE', 'FALSE', 'TRUE', 'TRUE', 'FALSE', 'FALSE']"
      ]
     },
     "execution_count": 45,
     "metadata": {},
     "output_type": "execute_result"
    }
   ],
   "source": [
    "lsbool =map(lambda a:a.upper(), ['True','FALse','tRUe','tRue','False','faLse'])\n",
    "output = list(lsbool)\n",
    "output"
   ]
  },
  {
   "cell_type": "code",
   "execution_count": null,
   "metadata": {},
   "outputs": [],
   "source": []
  },
  {
   "cell_type": "raw",
   "metadata": {},
   "source": [
    "10. A list of dates (dd-mm-yyyy) in the form of string is given below.\n",
    "     Create a new list that stores years i.e. the 'yyyy' part from the dates in the given list."
   ]
  },
  {
   "cell_type": "code",
   "execution_count": 48,
   "metadata": {},
   "outputs": [
    {
     "name": "stdout",
     "output_type": "stream",
     "text": [
      "1997\n",
      "2011\n",
      "1993\n",
      "2020\n"
     ]
    }
   ],
   "source": [
    "datesList = ['17-12-1997','22-04-2011','01-05-1993','19-06-2020']\n",
    "count = 0\n",
    "count1 = 0\n",
    "while count1<len(datesList):\n",
    "    while count<len(datesList):\n",
    "        x = datesList[count].index('-',1)\n",
    "        y = datesList[count].index('-',x+1)\n",
    "        print(datesList[count][y+1:])\n",
    "        count+=1\n",
    "        count1+=1"
   ]
  },
  {
   "cell_type": "code",
   "execution_count": null,
   "metadata": {},
   "outputs": [],
   "source": []
  },
  {
   "cell_type": "raw",
   "metadata": {},
   "source": [
    "5. A dictionary of names and their weights on earth is given. Find how\n",
    "    much they will weigh on the moon. (Use map and lambda functions)\n",
    "    Formula : wMoon = (wEarth * GMoon) / GEarth"
   ]
  },
  {
   "cell_type": "code",
   "execution_count": 53,
   "metadata": {},
   "outputs": [
    {
     "name": "stdout",
     "output_type": "stream",
     "text": [
      "[45]\n",
      "[45, 65]\n",
      "[45, 65, 35]\n",
      "1.2302013485583894\n",
      "1.776957503473229\n",
      "0.9568232711009694\n"
     ]
    }
   ],
   "source": [
    "dict = {'john':45,'Shelly':65,'marry':35}\n",
    "gmoon = 1.622\n",
    "gearth = 9.81\n",
    "\n",
    "def function(i):\n",
    "    return (i*gmoon)/(gearth)\n",
    "list=[]\n",
    "\n",
    "for key,value in dict.items():\n",
    "    list.append(value)\n",
    "    print(list)\n",
    "list1 = [function(i) for i in list]\n",
    "for j in list1:\n",
    "    print(function(j))\n"
   ]
  },
  {
   "cell_type": "code",
   "execution_count": null,
   "metadata": {},
   "outputs": [],
   "source": []
  },
  {
   "cell_type": "raw",
   "metadata": {},
   "source": [
    "1.Given below are a list of positive and negative words. Also a list of\n",
    "comments is provided. Segregate the comments based on positive and\n",
    "negative sentiments."
   ]
  },
  {
   "cell_type": "code",
   "execution_count": 52,
   "metadata": {},
   "outputs": [
    {
     "name": "stdout",
     "output_type": "stream",
     "text": [
      "['he is a good boy']\n",
      "['food is worst here']\n"
     ]
    }
   ],
   "source": [
    "positive = ['good', 'awesome','nice']\n",
    "negative = ['worst','awful']\n",
    "comment = ['he is a good boy','food is worst here']\n",
    "pos_comment = []\n",
    "neg_comment = []\n",
    "\n",
    "for i in positive:\n",
    "    for j in comment:\n",
    "        if(i in j ):\n",
    "            pos_comment.append(j)\n",
    "            \n",
    "print(pos_comment)\n",
    "\n",
    "for i in negative:\n",
    "    for j in comment:\n",
    "        if(i in j):\n",
    "            neg_comment.append(j)\n",
    "print(neg_comment)"
   ]
  },
  {
   "cell_type": "code",
   "execution_count": null,
   "metadata": {},
   "outputs": [],
   "source": []
  },
  {
   "cell_type": "raw",
   "metadata": {},
   "source": [
    "3. Find the fruits that are sour in taste from the tuple given below."
   ]
  },
  {
   "cell_type": "code",
   "execution_count": 54,
   "metadata": {},
   "outputs": [
    {
     "name": "stdout",
     "output_type": "stream",
     "text": [
      "['Lemon']\n",
      "['Grapes']\n",
      "['Kiwi']\n",
      "['Orange']\n",
      "['Limes']\n"
     ]
    }
   ],
   "source": [
    "import numpy as np \n",
    "fruits = (('Lemon','sour'), \n",
    "          ('DragonFruit', 'Sweet'), \n",
    "          ('Grapes','soUr'),\n",
    "          ('Kiwi','Sour'), \n",
    "          ('Apples','sweet'),\n",
    "          ('Orange','sour'),\n",
    "          ('Blueberries','sweet'),\n",
    "          ('Limes','Sour')) \n",
    "a=np.array(fruits)\n",
    "count=0\n",
    "while count<len(a):\n",
    "    if 'sour' in a[count] or 'Sour' in a[count] or 'soUr' in a[count]:\n",
    "        print(a[count][0:1])\n",
    "    count+=1"
   ]
  },
  {
   "cell_type": "code",
   "execution_count": null,
   "metadata": {},
   "outputs": [],
   "source": []
  }
 ],
 "metadata": {
  "kernelspec": {
   "display_name": "Python 3",
   "language": "python",
   "name": "python3"
  },
  "language_info": {
   "codemirror_mode": {
    "name": "ipython",
    "version": 3
   },
   "file_extension": ".py",
   "mimetype": "text/x-python",
   "name": "python",
   "nbconvert_exporter": "python",
   "pygments_lexer": "ipython3",
   "version": "3.8.5"
  }
 },
 "nbformat": 4,
 "nbformat_minor": 2
}
