{
 "cells": [
  {
   "cell_type": "code",
   "execution_count": 14,
   "metadata": {},
   "outputs": [
    {
     "name": "stdout",
     "output_type": "stream",
     "text": [
      "Given List:  [1, 5, 6, 7, 11, 14]\n",
      "Missing element from the list : \n",
      " [0, 2, 3, 4, 8, 9, 10, 12, 13]\n"
     ]
    }
   ],
   "source": [
    "listA = [1,5,6,7,11,14]\n",
    "\n",
    "print(\"Given List: \",listA)\n",
    "\n",
    "#using range and max\n",
    "\n",
    "result = [i for i in range(max(listA) + 1) if i not in listA]\n",
    "\n",
    "print(\"Missing element from the list : \\n\", result)"
   ]
  },
  {
   "cell_type": "code",
   "execution_count": 15,
   "metadata": {},
   "outputs": [
    {
     "name": "stdout",
     "output_type": "stream",
     "text": [
      "Missing element from the list : \n",
      " [0, 2, 3, 4, 8, 9, 10, 12, 13]\n"
     ]
    }
   ],
   "source": [
    "#using set and max\n",
    "\n",
    "result2 = list(set(range(max(listA)+1)) - set(listA))\n",
    "\n",
    "print(\"Missing element from the list : \\n\",result2)"
   ]
  },
  {
   "cell_type": "code",
   "execution_count": null,
   "metadata": {},
   "outputs": [],
   "source": []
  },
  {
   "cell_type": "code",
   "execution_count": 16,
   "metadata": {},
   "outputs": [
    {
     "name": "stdout",
     "output_type": "stream",
     "text": [
      "List:  [1, 7, 0, 6, 2, 5, 6]\n",
      "Array:  [1 7 0 6 2 5 6]\n"
     ]
    }
   ],
   "source": [
    "# importing library\n",
    "import numpy\n",
    " \n",
    "# initilizing list\n",
    "lst = [1, 7, 0, 6, 2, 5, 6]\n",
    " \n",
    "# converting list to array\n",
    "arr = numpy.array(lst)\n",
    " \n",
    "# displaying list\n",
    "print (\"List: \", lst)\n",
    " \n",
    "# displaying array\n",
    "print (\"Array: \", arr)"
   ]
  },
  {
   "cell_type": "code",
   "execution_count": null,
   "metadata": {},
   "outputs": [],
   "source": []
  },
  {
   "cell_type": "code",
   "execution_count": 17,
   "metadata": {},
   "outputs": [
    {
     "name": "stdout",
     "output_type": "stream",
     "text": [
      "you.are.how.hello. \n"
     ]
    }
   ],
   "source": [
    "def rev_word(string):\n",
    "    string=string.split(\".\")\n",
    "    temp = \" \"\n",
    "    for i in string:\n",
    "        temp = i +\".\"+ temp\n",
    "    return temp\n",
    "print(rev_word(\"hello.how.are.you\"))"
   ]
  },
  {
   "cell_type": "code",
   "execution_count": null,
   "metadata": {},
   "outputs": [],
   "source": []
  },
  {
   "cell_type": "code",
   "execution_count": 13,
   "metadata": {},
   "outputs": [
    {
     "name": "stdout",
     "output_type": "stream",
     "text": [
      "Given list1 :  [2, 4, 6, 8, 10, 12]\n",
      "Missing element form list1 :  [0, 1, 3, 5, 7, 9, 11]\n",
      "[0, 1, 3, 5, 7, 9, 11]\n"
     ]
    }
   ],
   "source": [
    "list1 = [2,4,6,8,10,12]\n",
    "list2 = [4,9,12,34]\n",
    "\n",
    "print(\"Given list1 : \", list1)\n",
    "\n",
    "#using range and max\n",
    "\n",
    "result = [i for i in range(max(list1) + 1) if i not in list1]\n",
    "result1 = [i for i in range(max(list2) + 1) if i not in list2]\n",
    "result2 = [i for i in range(max(list1) + 1) if i  not in list1]\n",
    "\n",
    "\n",
    "print(\"Missing element form list1 : \", result)\n",
    "result1\n",
    "print(result2)"
   ]
  },
  {
   "cell_type": "code",
   "execution_count": 18,
   "metadata": {},
   "outputs": [
    {
     "name": "stdout",
     "output_type": "stream",
     "text": [
      "Given list1:  [2, 5, 7, 8, 12]\n",
      "Missing elements form list1:  [0, 1, 3, 4, 6, 9, 10, 11]\n"
     ]
    }
   ],
   "source": [
    "list1 = [2,5,7,8,12]\n",
    "\n",
    "print(\"Given list1: \", list1)\n",
    "\n",
    "#using range and max\n",
    "\n",
    "result = [i for i in range(max(list1) + 1) if i not in list1]\n",
    "\n",
    "print(\"Missing elements form list1: \", result)"
   ]
  },
  {
   "cell_type": "code",
   "execution_count": 19,
   "metadata": {},
   "outputs": [
    {
     "name": "stdout",
     "output_type": "stream",
     "text": [
      "you.are.how.hello. \n"
     ]
    }
   ],
   "source": [
    "def rev_word(string):\n",
    "    string=string.split(\".\")\n",
    "    temp = \" \"\n",
    "    for i in string:\n",
    "        temp = i + \".\" + temp\n",
    "    return temp\n",
    "print(rev_word(\"hello.how.are.you\"))\n",
    "        "
   ]
  },
  {
   "cell_type": "code",
   "execution_count": 63,
   "metadata": {},
   "outputs": [
    {
     "name": "stdout",
     "output_type": "stream",
     "text": [
      "utkarsh.am.i.hi. \n"
     ]
    }
   ],
   "source": [
    "def rev_word(string):\n",
    "    string=string.split(\".\")\n",
    "    temp = \" \"\n",
    "    for i in string:\n",
    "        temp = i + \".\" + temp\n",
    "    return temp\n",
    "print(rev_word(\"hi.i.am.utkarsh\"))"
   ]
  },
  {
   "cell_type": "code",
   "execution_count": 22,
   "metadata": {},
   "outputs": [
    {
     "name": "stdout",
     "output_type": "stream",
     "text": [
      "Given list2:  [3, 7, 9, 12, 23]\n",
      "missing elements in list2 : \n",
      " [0, 1, 2, 4, 5, 6, 8, 10, 11, 13, 14, 15, 16, 17, 18, 19, 20, 21, 22]\n"
     ]
    }
   ],
   "source": [
    "list2 = [3,7,9,12,23]\n",
    "print(\"Given list2: \", list2)\n",
    "\n",
    "#using range and max\n",
    "\n",
    "result = [i for i in range(max(list2) + 1) if i not in list2]\n",
    "print(\"missing elements in list2 : \\n\", result)"
   ]
  },
  {
   "cell_type": "code",
   "execution_count": 24,
   "metadata": {},
   "outputs": [
    {
     "name": "stdout",
     "output_type": "stream",
     "text": [
      "i.am.spider. \n"
     ]
    }
   ],
   "source": [
    "def rev_w(string):\n",
    "    string=string.split(\".\")\n",
    "    temp = \" \"\n",
    "    for i in string:\n",
    "        temp = i + \".\" + temp\n",
    "    return temp\n",
    "print(rev_w(\"spider.am.i\"))"
   ]
  },
  {
   "cell_type": "code",
   "execution_count": 25,
   "metadata": {},
   "outputs": [
    {
     "name": "stdout",
     "output_type": "stream",
     "text": [
      "missing Element:  [0, 1, 2, 4, 5, 6, 8, 10, 11, 13, 14, 15, 16, 17, 18, 19, 20, 21, 22]\n"
     ]
    }
   ],
   "source": [
    "res = [i for i in range(max(list2) + 1) if i not in list2]\n",
    "print(\"missing Element: \", res)"
   ]
  },
  {
   "cell_type": "code",
   "execution_count": 27,
   "metadata": {},
   "outputs": [
    {
     "name": "stdout",
     "output_type": "stream",
     "text": [
      "india.in.made. \n"
     ]
    }
   ],
   "source": [
    "def rev_string(string):\n",
    "    string=string.split(\".\")\n",
    "    temp = \" \"\n",
    "    for i in string:\n",
    "        temp = i + \".\" + temp\n",
    "    return temp\n",
    "print(rev_string(\"made.in.india\"))"
   ]
  },
  {
   "cell_type": "code",
   "execution_count": 28,
   "metadata": {},
   "outputs": [
    {
     "name": "stdout",
     "output_type": "stream",
     "text": [
      "songs.love.i. \n"
     ]
    }
   ],
   "source": [
    "def r_str(string):\n",
    "    string=string.split(\".\")\n",
    "    temp = \" \"\n",
    "    \n",
    "    for i in string:\n",
    "        temp = i + \".\" + temp\n",
    "    return temp\n",
    "print(r_str(\"i.love.songs\"))\n",
    "    "
   ]
  },
  {
   "cell_type": "code",
   "execution_count": null,
   "metadata": {},
   "outputs": [],
   "source": []
  },
  {
   "cell_type": "code",
   "execution_count": 33,
   "metadata": {},
   "outputs": [
    {
     "name": "stdout",
     "output_type": "stream",
     "text": [
      "output:  ['Monday', 'Sunday', 'Saturday']\n"
     ]
    }
   ],
   "source": [
    "Days = ['Monday', 'tuesday','friday', 'Sunday', 'Saturday']\n",
    "\n",
    "output = [ ]\n",
    "\n",
    "for i in Days:\n",
    "    if(i[0].isupper() == True):\n",
    "            output.append(i)\n",
    "print(\"output: \",output)"
   ]
  },
  {
   "cell_type": "code",
   "execution_count": 34,
   "metadata": {},
   "outputs": [
    {
     "name": "stdout",
     "output_type": "stream",
     "text": [
      "Upper :  ['Monday', 'Sunday', 'Saturday']\n"
     ]
    }
   ],
   "source": [
    "Days = ['Monday', 'tuesday','friday', 'Sunday', 'Saturday']\n",
    "\n",
    "upper = [ ]\n",
    "\n",
    "for i in Days:\n",
    "    if (i[0].isupper() == True):\n",
    "        upper.append(i)\n",
    "print(\"Upper : \",upper)"
   ]
  },
  {
   "cell_type": "code",
   "execution_count": 64,
   "metadata": {},
   "outputs": [
    {
     "data": {
      "text/plain": [
       "'tupjar hsraktu'"
      ]
     },
     "execution_count": 64,
     "metadata": {},
     "output_type": "execute_result"
    }
   ],
   "source": [
    "a = \"utkarsh rajput\"\n",
    "a[::-1]"
   ]
  },
  {
   "cell_type": "code",
   "execution_count": 39,
   "metadata": {},
   "outputs": [
    {
     "name": "stdout",
     "output_type": "stream",
     "text": [
      "a:  12\n",
      "b:  15\n",
      "a:  15\n",
      "b:  12\n"
     ]
    }
   ],
   "source": [
    "#swap value\n",
    "a,b = 12,15\n",
    "print(\"a: \",a)\n",
    "print(\"b: \",b)\n",
    "\n",
    "a,b = b,a\n",
    "\n",
    "print(\"a: \",a)\n",
    "print(\"b: \",b)"
   ]
  },
  {
   "cell_type": "code",
   "execution_count": 43,
   "metadata": {},
   "outputs": [
    {
     "name": "stdout",
     "output_type": "stream",
     "text": [
      "[1, 0, 1, 0, 1, 0, 1, 1, 1, 1, 0, 1, 1]\n"
     ]
    }
   ],
   "source": [
    "# Replace all even numbers in the array with 1 and other with 0. Use the array given below\n",
    "\n",
    "import numpy as np\n",
    "num_array = np.array([0, 21, 32, 13, 44, 45, 26, 28, 38, 34, 65, 48, 76])\n",
    "\n",
    "output = []\n",
    "for i in num_array:\n",
    "    if (i%2 == 0):\n",
    "        output.append(1)\n",
    "    else:\n",
    "        output.append(0)\n",
    "\n",
    "print(output)"
   ]
  },
  {
   "cell_type": "code",
   "execution_count": 45,
   "metadata": {},
   "outputs": [
    {
     "name": "stdout",
     "output_type": "stream",
     "text": [
      "Given list:  [2, 5, 8, 12, 15]\n",
      "missing value : [0, 1, 3, 4, 6, 7, 9, 10, 11, 13, 14]\n"
     ]
    }
   ],
   "source": [
    "l = [ 2,5,8,12,15]\n",
    "\n",
    "print(\"Given list: \",l)\n",
    "\n",
    "# using range and max\n",
    "\n",
    "res = [ele for ele in range(max(l) + 1) if ele not in l]\n",
    "\n",
    "print(\"missing value :\",res)"
   ]
  },
  {
   "cell_type": "code",
   "execution_count": 46,
   "metadata": {},
   "outputs": [
    {
     "name": "stdout",
     "output_type": "stream",
     "text": [
      "water.drinking.packaged.Bisle. \n"
     ]
    }
   ],
   "source": [
    "def r_s(string):\n",
    "    string=string.split(\".\")\n",
    "    temp = \" \"\n",
    "    for i in string:\n",
    "        temp = i + \".\" + temp\n",
    "    return temp\n",
    "print(r_s(\"Bisle.packaged.drinking.water\"))"
   ]
  },
  {
   "cell_type": "code",
   "execution_count": 59,
   "metadata": {},
   "outputs": [
    {
     "name": "stdout",
     "output_type": "stream",
     "text": [
      "Output :  ['Monday', 'Sunday', 'Saturday']\n"
     ]
    }
   ],
   "source": [
    "Day = ['Monday', 'tuesday','friday', 'Sunday', 'Saturday']\n",
    "\n",
    "output1 = [ ]\n",
    "\n",
    "for i in Day:\n",
    "    if (i[0].isupper() == True):\n",
    "        output1.append(i)\n",
    "print(\"Output : \", output1)"
   ]
  },
  {
   "cell_type": "code",
   "execution_count": 75,
   "metadata": {},
   "outputs": [
    {
     "name": "stdout",
     "output_type": "stream",
     "text": [
      "17\n"
     ]
    }
   ],
   "source": [
    "def str_len(string) : \n",
    "    count = 0\n",
    "    for i in string:\n",
    "        if i !=\" \":\n",
    "            count = 1+count\n",
    "        \n",
    "    return count\n",
    "    \n",
    "string = 'Data Science is nice'\n",
    "print (str_len(string))"
   ]
  },
  {
   "cell_type": "code",
   "execution_count": null,
   "metadata": {},
   "outputs": [],
   "source": []
  },
  {
   "cell_type": "code",
   "execution_count": 76,
   "metadata": {},
   "outputs": [
    {
     "name": "stdout",
     "output_type": "stream",
     "text": [
      "14\n"
     ]
    }
   ],
   "source": [
    "def str_l(string):\n",
    "    count = 0\n",
    "    for i in string:\n",
    "        if i != \" \":\n",
    "            count = 1+count\n",
    "    return count\n",
    "print(str_l(\"hello how are you\"))"
   ]
  },
  {
   "cell_type": "code",
   "execution_count": 81,
   "metadata": {},
   "outputs": [
    {
     "name": "stdout",
     "output_type": "stream",
     "text": [
      "5\n"
     ]
    }
   ],
   "source": [
    "#string = input(\"Enter the String: \")\n",
    "def s(string):\n",
    "    count = 0\n",
    "    for i in string:\n",
    "        if i != \" \":\n",
    "            count = 1+count\n",
    "    return count\n",
    "print(s(\"hello \"))"
   ]
  },
  {
   "cell_type": "code",
   "execution_count": null,
   "metadata": {},
   "outputs": [],
   "source": []
  },
  {
   "cell_type": "code",
   "execution_count": 86,
   "metadata": {},
   "outputs": [
    {
     "name": "stdout",
     "output_type": "stream",
     "text": [
      "Enter the number of rows6\n",
      "* \n",
      "* * \n",
      "* * * \n",
      "* * * * \n",
      "* * * * * \n"
     ]
    }
   ],
   "source": [
    " \n",
    "n = int(input(\"Enter the number of rows\"))  \n",
    "n = 5\n",
    "\n",
    "for i in range(0, n):  \n",
    "     \n",
    "        for j in range(0, i + 1):  \n",
    "            \n",
    "            print(\"* \", end=\"\")       \n",
    "  \n",
    "       \n",
    "        print()"
   ]
  },
  {
   "cell_type": "code",
   "execution_count": 87,
   "metadata": {},
   "outputs": [
    {
     "name": "stdout",
     "output_type": "stream",
     "text": [
      "*\n",
      "**\n",
      "***\n",
      "****\n",
      "*****\n",
      "******\n"
     ]
    }
   ],
   "source": [
    "n = 6\n",
    "\n",
    "for i in range(0,n):\n",
    "    for j in range(0, i+1):\n",
    "        print(\"*\", end = \"\")\n",
    "    print()"
   ]
  },
  {
   "cell_type": "code",
   "execution_count": 89,
   "metadata": {},
   "outputs": [
    {
     "name": "stdout",
     "output_type": "stream",
     "text": [
      "*\n",
      "**\n",
      "***\n",
      "****\n",
      "*****\n",
      "******\n",
      "*******\n",
      "********\n"
     ]
    }
   ],
   "source": [
    "n = 8 \n",
    "\n",
    "for i in range(0,n):\n",
    "    for j in range(0,i+1):\n",
    "        print(\"*\",end=\"\")\n",
    "    print()"
   ]
  },
  {
   "cell_type": "code",
   "execution_count": 93,
   "metadata": {},
   "outputs": [
    {
     "name": "stdout",
     "output_type": "stream",
     "text": [
      "Enter the number: 9\n",
      "*\n",
      "**\n",
      "***\n",
      "****\n",
      "*****\n",
      "******\n",
      "*******\n",
      "********\n",
      "*********\n"
     ]
    }
   ],
   "source": [
    "#1\n",
    "n = int(input(\"Enter the number: \"))\n",
    "\n",
    "for i in range(0,n):\n",
    "    for j in range(0,i+1):\n",
    "        print(\"*\",end=\"\")\n",
    "    print()"
   ]
  },
  {
   "cell_type": "code",
   "execution_count": 94,
   "metadata": {},
   "outputs": [
    {
     "name": "stdout",
     "output_type": "stream",
     "text": [
      "how.hello. \n"
     ]
    }
   ],
   "source": [
    "#2\n",
    "def sr(string):\n",
    "    string=string.split(\".\")\n",
    "    temp = \" \"\n",
    "    for i in string:\n",
    "        temp = i + \".\" + temp\n",
    "    return temp\n",
    "print(sr(\"hello.how\"))\n",
    "    "
   ]
  },
  {
   "cell_type": "code",
   "execution_count": 95,
   "metadata": {},
   "outputs": [
    {
     "name": "stdout",
     "output_type": "stream",
     "text": [
      "given list :  [3, 7, 10, 13, 15]\n",
      "[0, 1, 2, 4, 5, 6, 8, 9, 11, 12, 14]\n"
     ]
    }
   ],
   "source": [
    "#3\n",
    "\n",
    "li=[3,7,10,13,15]\n",
    "\n",
    "print(\"given list : \", li)\n",
    "\n",
    "res = [ele for ele in range(max(li)+1) if ele not in li]\n",
    "print(res)"
   ]
  },
  {
   "cell_type": "code",
   "execution_count": 96,
   "metadata": {},
   "outputs": [
    {
     "name": "stdout",
     "output_type": "stream",
     "text": [
      "*\n",
      "**\n",
      "***\n",
      "****\n",
      "*****\n"
     ]
    }
   ],
   "source": [
    "n = 5\n",
    "\n",
    "for i in range(0,n):\n",
    "    for j in range(0,i+1):\n",
    "        print(\"*\",end=\"\")\n",
    "    print()"
   ]
  },
  {
   "cell_type": "code",
   "execution_count": 133,
   "metadata": {},
   "outputs": [
    {
     "name": "stdout",
     "output_type": "stream",
     "text": [
      "Upper :  ['Monday', 'Sunday', 'Saturday']\n",
      "Lower :  ['tuesday', 'friday']\n"
     ]
    }
   ],
   "source": [
    "#4\n",
    "\n",
    "Days = ['Monday', 'tuesday','friday', 'Sunday', 'Saturday']\n",
    "upper = [ ]\n",
    "lower = [ ]\n",
    "for i in Days:\n",
    "    if (i[0].isupper() == True):\n",
    "        upper.append(i)\n",
    "    elif (i[0].islower() == True):\n",
    "        lower.append(i)\n",
    "    \n",
    "print(\"Upper : \", upper)\n",
    "print(\"Lower : \", lower)"
   ]
  },
  {
   "cell_type": "code",
   "execution_count": 106,
   "metadata": {},
   "outputs": [
    {
     "name": "stdout",
     "output_type": "stream",
     "text": [
      "11\n"
     ]
    }
   ],
   "source": [
    "def len_s(string):\n",
    "    count = 0\n",
    "    for i in string:\n",
    "        if i !=\" \":\n",
    "            count = 1+count\n",
    "    return count\n",
    "print(len_s(\"string count\"))"
   ]
  },
  {
   "cell_type": "code",
   "execution_count": 110,
   "metadata": {},
   "outputs": [
    {
     "name": "stdout",
     "output_type": "stream",
     "text": [
      "output :  [1, 0, 1, 0, 1, 0, 1, 1, 1, 1, 0, 1, 1]\n",
      "Even No:  [0, 32, 44, 26, 28, 38, 34, 48, 76]\n",
      "Odd No:  [21, 13, 45, 65]\n"
     ]
    }
   ],
   "source": [
    "import numpy as np\n",
    "num_array = np.array([0, 21, 32, 13, 44, 45, 26, 28, 38, 34, 65, 48, 76])\n",
    "\n",
    "output = [ ]\n",
    "even = [ ]\n",
    "odd = [ ]\n",
    "for i in num_array:\n",
    "    if i%2 == 0:\n",
    "        output.append(1)\n",
    "        even.append(i)\n",
    "    else:\n",
    "        output.append(0)\n",
    "        odd.append(i)\n",
    "print(\"output : \", output)\n",
    "print(\"Even No: \", even)\n",
    "print(\"Odd No: \", odd)"
   ]
  },
  {
   "cell_type": "code",
   "execution_count": null,
   "metadata": {},
   "outputs": [],
   "source": []
  },
  {
   "cell_type": "code",
   "execution_count": 117,
   "metadata": {},
   "outputs": [
    {
     "name": "stdout",
     "output_type": "stream",
     "text": [
      "The randomly generated string is : LYNG431LRW\n"
     ]
    }
   ],
   "source": [
    "import string    \n",
    "import random  \n",
    "S = 10   \n",
    "ran = ''.join(random.choices(string.ascii_uppercase + string.digits, k = S))    \n",
    "print(\"The randomly generated string is : \" + str(ran)) "
   ]
  },
  {
   "cell_type": "code",
   "execution_count": null,
   "metadata": {},
   "outputs": [],
   "source": []
  },
  {
   "cell_type": "code",
   "execution_count": 122,
   "metadata": {},
   "outputs": [
    {
     "data": {
      "text/plain": [
       "['a', 'b', 'c', 'd', 1, 2, 3, 4, 5]"
      ]
     },
     "execution_count": 122,
     "metadata": {},
     "output_type": "execute_result"
    }
   ],
   "source": [
    "my_list = ['a','b','c']\n",
    "my_list.append('d')\n",
    "\n",
    "list2 = [1,2,3,4,5]\n",
    "\n",
    "my_list.extend(list2)\n",
    "\n",
    "my_list"
   ]
  },
  {
   "cell_type": "code",
   "execution_count": null,
   "metadata": {},
   "outputs": [],
   "source": []
  },
  {
   "cell_type": "code",
   "execution_count": 134,
   "metadata": {},
   "outputs": [
    {
     "name": "stdout",
     "output_type": "stream",
     "text": [
      "[-1, 21, -1, 13, -1, 45, -1, -1, -1, -1, 65, -1, -1]\n"
     ]
    }
   ],
   "source": [
    "num_array = np.array([0, 21, 32, 13, 44, 45, 26, 28, 38, 34, 65, 48, 76])\n",
    "\n",
    "output = []\n",
    "for i in num_array:\n",
    "    if (i%2 == 0):\n",
    "        output.append(-1)\n",
    "    else:\n",
    "        output.append(i)\n",
    "\n",
    "print(output)"
   ]
  },
  {
   "cell_type": "code",
   "execution_count": 135,
   "metadata": {},
   "outputs": [
    {
     "name": "stdout",
     "output_type": "stream",
     "text": [
      "Given list:  [1, 3, 5, 7, 9]\n",
      "Missing elements:  [0, 2, 4, 6, 8]\n"
     ]
    }
   ],
   "source": [
    "lis = [ 1,3,5,7,9]\n",
    "\n",
    "print(\"Given list: \", lis)\n",
    "\n",
    "result = [ele for ele in range(max(lis) + 1) if ele not in lis]\n",
    "\n",
    "print(\"Missing elements: \",result)"
   ]
  },
  {
   "cell_type": "code",
   "execution_count": 137,
   "metadata": {},
   "outputs": [
    {
     "name": "stdout",
     "output_type": "stream",
     "text": [
      "utkarsh.are.how.hello. \n"
     ]
    }
   ],
   "source": [
    "def rev_string(string):\n",
    "    string = string.split(\".\")\n",
    "    temp = \" \"\n",
    "    \n",
    "    for i in string:\n",
    "        temp = i + \".\" + temp\n",
    "    return temp\n",
    "\n",
    "print(rev_string(\"hello.how.are.utkarsh\"))\n",
    "    "
   ]
  },
  {
   "cell_type": "code",
   "execution_count": 139,
   "metadata": {},
   "outputs": [
    {
     "name": "stdout",
     "output_type": "stream",
     "text": [
      "15\n"
     ]
    }
   ],
   "source": [
    "def count(string):\n",
    "    count = 0\n",
    "    \n",
    "    for i in string:\n",
    "        if i!= \" \":\n",
    "            count = 1+count\n",
    "    return count\n",
    "print(count(\"utkarsh Dyavhane\"))"
   ]
  },
  {
   "cell_type": "code",
   "execution_count": 141,
   "metadata": {},
   "outputs": [
    {
     "name": "stdout",
     "output_type": "stream",
     "text": [
      "['Monday', 'Sunday', 'Saturday']\n"
     ]
    }
   ],
   "source": [
    "output = [ ]\n",
    "\n",
    "for i in Days:\n",
    "    if (i[0].isupper() == True):\n",
    "        output.append(i)\n",
    "print(output)"
   ]
  },
  {
   "cell_type": "code",
   "execution_count": null,
   "metadata": {},
   "outputs": [],
   "source": []
  }
 ],
 "metadata": {
  "kernelspec": {
   "display_name": "Python 3",
   "language": "python",
   "name": "python3"
  },
  "language_info": {
   "codemirror_mode": {
    "name": "ipython",
    "version": 3
   },
   "file_extension": ".py",
   "mimetype": "text/x-python",
   "name": "python",
   "nbconvert_exporter": "python",
   "pygments_lexer": "ipython3",
   "version": "3.8.5"
  }
 },
 "nbformat": 4,
 "nbformat_minor": 4
}
