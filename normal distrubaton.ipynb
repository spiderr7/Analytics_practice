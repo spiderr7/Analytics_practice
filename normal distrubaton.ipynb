{
 "cells": [
  {
   "cell_type": "code",
   "execution_count": 1,
   "metadata": {},
   "outputs": [
    {
     "ename": "ImportError",
     "evalue": "cannot import name 'comb' from 'math' (unknown location)",
     "output_type": "error",
     "traceback": [
      "\u001b[1;31m---------------------------------------------------------------------------\u001b[0m",
      "\u001b[1;31mImportError\u001b[0m                               Traceback (most recent call last)",
      "\u001b[1;32m<ipython-input-1-ff6d56ab46cb>\u001b[0m in \u001b[0;36m<module>\u001b[1;34m\u001b[0m\n\u001b[1;32m----> 1\u001b[1;33m \u001b[1;32mfrom\u001b[0m \u001b[0mmath\u001b[0m \u001b[1;32mimport\u001b[0m \u001b[0mcomb\u001b[0m\u001b[1;33m\u001b[0m\u001b[1;33m\u001b[0m\u001b[0m\n\u001b[0m",
      "\u001b[1;31mImportError\u001b[0m: cannot import name 'comb' from 'math' (unknown location)"
     ]
    }
   ],
   "source": [
    "from math import comb"
   ]
  },
  {
   "cell_type": "code",
   "execution_count": 2,
   "metadata": {},
   "outputs": [],
   "source": [
    "import scipy.stats as stats"
   ]
  },
  {
   "cell_type": "code",
   "execution_count": 4,
   "metadata": {},
   "outputs": [
    {
     "name": "stdout",
     "output_type": "stream",
     "text": [
      " Probability that a randomly selected student will have marks more than 600 is 14.46%\n"
     ]
    }
   ],
   "source": [
    "x = 600\n",
    "mean_marks = 494\n",
    "sd_marks = 100\n",
    "prob=stats.norm.cdf((x-mean_marks)/sd_marks)\n",
    "prob\n",
    "print(' Probability that a randomly selected student will have marks more than 600 is {:.2f}%'.format((1-prob)*100))\n"
   ]
  },
  {
   "cell_type": "code",
   "execution_count": 5,
   "metadata": {},
   "outputs": [
    {
     "name": "stdout",
     "output_type": "stream",
     "text": [
      " Probability that a randomly selected student will have marks more than 300 is 97.38%\n"
     ]
    }
   ],
   "source": [
    "x = 300\n",
    "mean_marks = 494\n",
    "sd_marks = 100\n",
    "prob=stats.norm.cdf((x-mean_marks)/sd_marks)\n",
    "prob\n",
    "print(' Probability that a randomly selected student will have marks more than 300 is {:.2f}%'.format((1-prob)*100))\n"
   ]
  },
  {
   "cell_type": "code",
   "execution_count": 6,
   "metadata": {},
   "outputs": [
    {
     "name": "stdout",
     "output_type": "stream",
     "text": [
      " Probability that a randomly selected student will have marks more than 700 is 14.46%\n"
     ]
    }
   ],
   "source": [
    "x = 600\n",
    "mean_marks = 494\n",
    "sd_marks = 100\n",
    "prob=stats.norm.cdf((x-mean_marks)/sd_marks)\n",
    "prob\n",
    "print(' Probability that a randomly selected student will have marks more than 700 is {:.2f}%'.format((1-prob)*100))\n"
   ]
  },
  {
   "cell_type": "code",
   "execution_count": 7,
   "metadata": {},
   "outputs": [
    {
     "data": {
      "text/plain": [
       "0.6474391717918458"
      ]
     },
     "execution_count": 7,
     "metadata": {},
     "output_type": "execute_result"
    }
   ],
   "source": [
    "#__________binomial\n",
    "from scipy.stats import binom \n",
    "# setting the values \n",
    "# of n and p \n",
    "n = 30\n",
    "p = 0.1\n",
    "# defining the list of r values \n",
    "x_values = [0,1,2,3]\n",
    "x_values\n",
    "bp = binom.pmf(x_values, n, p)\n",
    "bp\n",
    "bp.sum()\n"
   ]
  },
  {
   "cell_type": "code",
   "execution_count": 1,
   "metadata": {},
   "outputs": [
    {
     "data": {
      "text/plain": [
       "0.0024787521766663585"
      ]
     },
     "execution_count": 1,
     "metadata": {},
     "output_type": "execute_result"
    }
   ],
   "source": [
    "#_____________________________poisson\n",
    "from scipy.stats import poisson\n",
    "import matplotlib.pyplot as plt\n",
    "\n",
    "#Use the Probability mass function to calculate P(X=0)\n",
    "# x = 0, lambda = 6 \n",
    "\n",
    "x = 0 # change the values to 0,1,2,3,4,5,6\n",
    "lmbda = 6\n",
    "p= poisson.pmf(x,lmbda)\n",
    "p"
   ]
  },
  {
   "cell_type": "code",
   "execution_count": 2,
   "metadata": {},
   "outputs": [
    {
     "data": {
      "text/plain": [
       "0.2"
      ]
     },
     "execution_count": 2,
     "metadata": {},
     "output_type": "execute_result"
    }
   ],
   "source": [
    "#__________uniform\n",
    "a = 750\n",
    "b = 800\n",
    "diff1 = b-a\n",
    "diff1\n",
    "x1 = 770\n",
    "x2 = 780\n",
    "diff2 = x2-x1\n",
    "diff2\n",
    "p_x = diff2/diff1\n",
    "p_x"
   ]
  },
  {
   "cell_type": "code",
   "execution_count": null,
   "metadata": {},
   "outputs": [],
   "source": []
  }
 ],
 "metadata": {
  "kernelspec": {
   "display_name": "Python 3",
   "language": "python",
   "name": "python3"
  },
  "language_info": {
   "codemirror_mode": {
    "name": "ipython",
    "version": 3
   },
   "file_extension": ".py",
   "mimetype": "text/x-python",
   "name": "python",
   "nbconvert_exporter": "python",
   "pygments_lexer": "ipython3",
   "version": "3.7.4"
  }
 },
 "nbformat": 4,
 "nbformat_minor": 2
}
