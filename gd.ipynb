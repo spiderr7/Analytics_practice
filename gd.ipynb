{
 "cells": [
  {
   "cell_type": "code",
   "execution_count": 1,
   "metadata": {},
   "outputs": [],
   "source": [
    "import numpy as np\n",
    "import pandas as pd\n",
    "import matplotlib.pyplot as plt\n",
    "plt.rcParams['figure.figsize'] = (12.0, 9.0)"
   ]
  },
  {
   "cell_type": "code",
   "execution_count": 2,
   "metadata": {},
   "outputs": [
    {
     "data": {
      "text/html": [
       "<div>\n",
       "<style scoped>\n",
       "    .dataframe tbody tr th:only-of-type {\n",
       "        vertical-align: middle;\n",
       "    }\n",
       "\n",
       "    .dataframe tbody tr th {\n",
       "        vertical-align: top;\n",
       "    }\n",
       "\n",
       "    .dataframe thead th {\n",
       "        text-align: right;\n",
       "    }\n",
       "</style>\n",
       "<table border=\"1\" class=\"dataframe\">\n",
       "  <thead>\n",
       "    <tr style=\"text-align: right;\">\n",
       "      <th></th>\n",
       "      <th>X</th>\n",
       "      <th>Y</th>\n",
       "    </tr>\n",
       "  </thead>\n",
       "  <tbody>\n",
       "    <tr>\n",
       "      <td>0</td>\n",
       "      <td>0.00</td>\n",
       "      <td>0.00</td>\n",
       "    </tr>\n",
       "    <tr>\n",
       "      <td>1</td>\n",
       "      <td>0.22</td>\n",
       "      <td>0.22</td>\n",
       "    </tr>\n",
       "    <tr>\n",
       "      <td>2</td>\n",
       "      <td>0.24</td>\n",
       "      <td>0.58</td>\n",
       "    </tr>\n",
       "    <tr>\n",
       "      <td>3</td>\n",
       "      <td>0.33</td>\n",
       "      <td>0.20</td>\n",
       "    </tr>\n",
       "    <tr>\n",
       "      <td>4</td>\n",
       "      <td>0.37</td>\n",
       "      <td>0.55</td>\n",
       "    </tr>\n",
       "    <tr>\n",
       "      <td>5</td>\n",
       "      <td>0.44</td>\n",
       "      <td>0.39</td>\n",
       "    </tr>\n",
       "    <tr>\n",
       "      <td>6</td>\n",
       "      <td>0.44</td>\n",
       "      <td>0.54</td>\n",
       "    </tr>\n",
       "    <tr>\n",
       "      <td>7</td>\n",
       "      <td>0.57</td>\n",
       "      <td>0.53</td>\n",
       "    </tr>\n",
       "    <tr>\n",
       "      <td>8</td>\n",
       "      <td>0.93</td>\n",
       "      <td>1.00</td>\n",
       "    </tr>\n",
       "    <tr>\n",
       "      <td>9</td>\n",
       "      <td>1.00</td>\n",
       "      <td>0.61</td>\n",
       "    </tr>\n",
       "  </tbody>\n",
       "</table>\n",
       "</div>"
      ],
      "text/plain": [
       "      X     Y\n",
       "0  0.00  0.00\n",
       "1  0.22  0.22\n",
       "2  0.24  0.58\n",
       "3  0.33  0.20\n",
       "4  0.37  0.55\n",
       "5  0.44  0.39\n",
       "6  0.44  0.54\n",
       "7  0.57  0.53\n",
       "8  0.93  1.00\n",
       "9  1.00  0.61"
      ]
     },
     "execution_count": 2,
     "metadata": {},
     "output_type": "execute_result"
    }
   ],
   "source": [
    "data = pd.read_csv(\"gd_lr.csv\")\n",
    "data"
   ]
  },
  {
   "cell_type": "code",
   "execution_count": 3,
   "metadata": {},
   "outputs": [
    {
     "data": {
      "image/png": "[encoded data removed]",
      "text/plain": [
       "<Figure size 432x288 with 1 Axes>"
      ]
     },
     "metadata": {
      "needs_background": "light"
     },
     "output_type": "display_data"
    }
   ],
   "source": [
    "\n",
    "# Preprocessing Input data\n",
    "\n",
    "X = data.iloc[:, 0]\n",
    "X\n",
    "Y = data.iloc[:, 1]\n",
    "plt.scatter(X, Y)\n",
    "plt.show()\n"
   ]
  },
  {
   "cell_type": "code",
   "execution_count": 4,
   "metadata": {},
   "outputs": [],
   "source": [
    "\n",
    "# Building the model\n",
    "b = 0.75\n",
    "a = 0.45\n",
    "L = 0.01  # The learning Rate\n",
    "epochs = 2\n",
    "# The number of iterations to perform gradient descent\n",
    "\n"
   ]
  },
  {
   "cell_type": "code",
   "execution_count": 5,
   "metadata": {},
   "outputs": [
    {
     "name": "stdout",
     "output_type": "stream",
     "text": [
      "0.721315847856 0.3882801648\n"
     ]
    }
   ],
   "source": [
    "\n",
    "for i in range(epochs): \n",
    "    Y_pred = b*X + a  # The current predicted value of Y\n",
    "    D_b = -sum(X * (Y - Y_pred))  # Derivative wrt b\n",
    "    D_a = -sum(Y - Y_pred)  # Derivative wrt a\n",
    "    b = b - L * D_b  # Update b\n",
    "    a = a - L * D_a  # Update a\n",
    "    \n",
    "print (b, a)\n"
   ]
  },
  {
   "cell_type": "markdown",
   "metadata": {},
   "source": [
    "#### make a user defined function :\n",
    "1) to calculate sum of SSE at every stage\n",
    "\n",
    "2) to calculate reduction in SSE <= 0.01.\n",
    "\n",
    "When reduction in SEE <=0.01, return the value of updates weights of a and b, and n."
   ]
  },
  {
   "cell_type": "code",
   "execution_count": 9,
   "metadata": {},
   "outputs": [
    {
     "name": "stdout",
     "output_type": "stream",
     "text": [
      "0.67 is the SSE for epoch number: 1\n",
      "0.547 is the SSE for epoch number: 2\n",
      "0.452 is the SSE for epoch number: 3\n",
      "0.379 is the SSE for epoch number: 4\n",
      "0.322 is the SSE for epoch number: 5\n",
      "0.279 is the SSE for epoch number: 6\n",
      "0.245 is the SSE for epoch number: 7\n",
      "0.219 is the SSE for epoch number: 8\n",
      "0.199 is the SSE for epoch number: 9\n",
      "0.184 is the SSE for epoch number: 10\n",
      "0.172 is the SSE for epoch number: 11\n",
      "0.163 is the SSE for epoch number: 12\n",
      "0.156 is the SSE for epoch number: 13\n",
      "0.15 is the SSE for epoch number: 14\n",
      "0.146 is the SSE for epoch number: 15\n",
      "0.143 is the SSE for epoch number: 16\n",
      "0.14 is the SSE for epoch number: 17\n",
      "0.139 is the SSE for epoch number: 18\n",
      "0.137 is the SSE for epoch number: 19\n",
      "0.136 is the SSE for epoch number: 20\n",
      "0.135 is the SSE for epoch number: 21\n",
      "0.134 is the SSE for epoch number: 22\n",
      "0.134 is the SSE for epoch number: 23\n",
      "0.133 is the SSE for epoch number: 24\n",
      "0.133 is the SSE for epoch number: 25\n",
      "0.133 is the SSE for epoch number: 26\n",
      "0.132 is the SSE for epoch number: 27\n",
      "0.132 is the SSE for epoch number: 28\n",
      "0.132 is the SSE for epoch number: 29\n",
      "0.132 is the SSE for epoch number: 30\n",
      "0.132 is the SSE for epoch number: 31\n",
      "0.132 is the SSE for epoch number: 32\n",
      "0.132 is the SSE for epoch number: 33\n",
      "0.132 is the SSE for epoch number: 34\n",
      "0.132 is the SSE for epoch number: 35\n",
      "0.132 is the SSE for epoch number: 36\n",
      "0.132 is the SSE for epoch number: 37\n",
      "0.132 is the SSE for epoch number: 38\n",
      "0.132 is the SSE for epoch number: 39\n",
      "0.132 is the SSE for epoch number: 40\n",
      "0.131 is the SSE for epoch number: 41\n"
     ]
    }
   ],
   "source": [
    "def sse_func(a,b,L,epochs):\n",
    "    for i in range(epochs): \n",
    "        Y_pred = b*X + a  # The current predicted value of Y\n",
    "        sse =  sum(0.5*((Y - Y_pred)**2))\n",
    "        print(\"{} is the SSE for epoch number: {}\".format(round(sse,3),(i+1)))\n",
    "        D_b = -sum(X * (Y - Y_pred))  # Derivative wrt b\n",
    "        D_a = sum(-(Y - Y_pred))  # Derivative wrt a\n",
    "        b = b - L * D_b  # Update b\n",
    "        a = a - L * D_a  # Update a\n",
    "\n",
    "sse_func(0.45,0.75,0.01,41)"
   ]
  },
  {
   "cell_type": "code",
   "execution_count": null,
   "metadata": {},
   "outputs": [],
   "source": []
  }
 ],
 "metadata": {
  "kernelspec": {
   "display_name": "Python 3",
   "language": "python",
   "name": "python3"
  },
  "language_info": {
   "codemirror_mode": {
    "name": "ipython",
    "version": 3
   },
   "file_extension": ".py",
   "mimetype": "text/x-python",
   "name": "python",
   "nbconvert_exporter": "python",
   "pygments_lexer": "ipython3",
   "version": "3.7.4"
  }
 },
 "nbformat": 4,
 "nbformat_minor": 4
}
