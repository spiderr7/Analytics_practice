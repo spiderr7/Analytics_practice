{
 "cells": [
  {
   "cell_type": "code",
   "execution_count": 1,
   "metadata": {},
   "outputs": [],
   "source": [
    "\n",
    "import pandas as pd\n",
    "import matplotlib.pyplot as plt\n",
    "from sklearn import preprocessing\n",
    "from sklearn.preprocessing import scale\n",
    "from sklearn.preprocessing import StandardScaler\n",
    "from sklearn.cluster import KMeans\n",
    "import seaborn as sns"
   ]
  },
  {
   "cell_type": "code",
   "execution_count": 2,
   "metadata": {},
   "outputs": [],
   "source": [
    "import numpy as np\n",
    "from sklearn.decomposition import PCA\n",
    "import pandas as pd\n",
    "import matplotlib.pyplot as plt\n",
    "from sklearn.preprocessing import scale\n",
    "%matplotlib inline\n"
   ]
  },
  {
   "cell_type": "code",
   "execution_count": 13,
   "metadata": {},
   "outputs": [
    {
     "data": {
      "text/plain": [
       "(150, 6)"
      ]
     },
     "execution_count": 13,
     "metadata": {},
     "output_type": "execute_result"
    }
   ],
   "source": [
    "iris = pd.read_csv(\"Iris.csv\")\n",
    "iris = pd.DataFrame(iris)\n",
    "iris.shape"
   ]
  },
  {
   "cell_type": "code",
   "execution_count": 21,
   "metadata": {},
   "outputs": [
    {
     "data": {
      "text/html": [
       "<div>\n",
       "<style scoped>\n",
       "    .dataframe tbody tr th:only-of-type {\n",
       "        vertical-align: middle;\n",
       "    }\n",
       "\n",
       "    .dataframe tbody tr th {\n",
       "        vertical-align: top;\n",
       "    }\n",
       "\n",
       "    .dataframe thead th {\n",
       "        text-align: right;\n",
       "    }\n",
       "</style>\n",
       "<table border=\"1\" class=\"dataframe\">\n",
       "  <thead>\n",
       "    <tr style=\"text-align: right;\">\n",
       "      <th></th>\n",
       "      <th>Id</th>\n",
       "      <th>SepalLengthCm</th>\n",
       "      <th>SepalWidthCm</th>\n",
       "      <th>PetalLengthCm</th>\n",
       "      <th>PetalWidthCm</th>\n",
       "    </tr>\n",
       "  </thead>\n",
       "  <tbody>\n",
       "    <tr>\n",
       "      <td>0</td>\n",
       "      <td>1</td>\n",
       "      <td>5.1</td>\n",
       "      <td>3.5</td>\n",
       "      <td>1.4</td>\n",
       "      <td>0.2</td>\n",
       "    </tr>\n",
       "    <tr>\n",
       "      <td>1</td>\n",
       "      <td>2</td>\n",
       "      <td>4.9</td>\n",
       "      <td>3.0</td>\n",
       "      <td>1.4</td>\n",
       "      <td>0.2</td>\n",
       "    </tr>\n",
       "    <tr>\n",
       "      <td>2</td>\n",
       "      <td>3</td>\n",
       "      <td>4.7</td>\n",
       "      <td>3.2</td>\n",
       "      <td>1.3</td>\n",
       "      <td>0.2</td>\n",
       "    </tr>\n",
       "    <tr>\n",
       "      <td>3</td>\n",
       "      <td>4</td>\n",
       "      <td>4.6</td>\n",
       "      <td>3.1</td>\n",
       "      <td>1.5</td>\n",
       "      <td>0.2</td>\n",
       "    </tr>\n",
       "    <tr>\n",
       "      <td>4</td>\n",
       "      <td>5</td>\n",
       "      <td>5.0</td>\n",
       "      <td>3.6</td>\n",
       "      <td>1.4</td>\n",
       "      <td>0.2</td>\n",
       "    </tr>\n",
       "  </tbody>\n",
       "</table>\n",
       "</div>"
      ],
      "text/plain": [
       "   Id  SepalLengthCm  SepalWidthCm  PetalLengthCm  PetalWidthCm\n",
       "0   1            5.1           3.5            1.4           0.2\n",
       "1   2            4.9           3.0            1.4           0.2\n",
       "2   3            4.7           3.2            1.3           0.2\n",
       "3   4            4.6           3.1            1.5           0.2\n",
       "4   5            5.0           3.6            1.4           0.2"
      ]
     },
     "execution_count": 21,
     "metadata": {},
     "output_type": "execute_result"
    }
   ],
   "source": [
    "iris.head()"
   ]
  },
  {
   "cell_type": "code",
   "execution_count": 14,
   "metadata": {},
   "outputs": [],
   "source": [
    "iris = iris.drop(['Species'],1)"
   ]
  },
  {
   "cell_type": "code",
   "execution_count": 16,
   "metadata": {},
   "outputs": [],
   "source": [
    "#convert it to numpy arrays\n",
    "X=iris.values"
   ]
  },
  {
   "cell_type": "code",
   "execution_count": 17,
   "metadata": {},
   "outputs": [
    {
     "data": {
      "text/plain": [
       "PCA(copy=True, iterated_power='auto', n_components=4, random_state=None,\n",
       "    svd_solver='auto', tol=0.0, whiten=False)"
      ]
     },
     "execution_count": 17,
     "metadata": {},
     "output_type": "execute_result"
    }
   ],
   "source": [
    "#Scaling the values\n",
    "X = scale(X)\n",
    "pca = PCA(n_components=4)\n",
    "pca.fit(X)"
   ]
  },
  {
   "cell_type": "code",
   "execution_count": 18,
   "metadata": {},
   "outputs": [
    {
     "data": {
      "text/plain": [
       "array([0.7470533 , 0.18435257, 0.04682624, 0.01764767])"
      ]
     },
     "execution_count": 18,
     "metadata": {},
     "output_type": "execute_result"
    }
   ],
   "source": [
    "#The amount of variance that each PC explains\n",
    "var= pca.explained_variance_ratio_\n",
    "var"
   ]
  },
  {
   "cell_type": "code",
   "execution_count": 19,
   "metadata": {},
   "outputs": [
    {
     "data": {
      "text/plain": [
       "[<matplotlib.lines.Line2D at 0x1527b30>]"
      ]
     },
     "execution_count": 19,
     "metadata": {},
     "output_type": "execute_result"
    },
    {
     "data": {
      "image/png": "[encoded data removed]",
      "text/plain": [
       "<Figure size 432x288 with 1 Axes>"
      ]
     },
     "metadata": {
      "needs_background": "light"
     },
     "output_type": "display_data"
    }
   ],
   "source": [
    "#Cumulative Variance explains\n",
    "var1=np.cumsum(np.round(pca.explained_variance_ratio_, decimals=4)*100)\n",
    "var1\n",
    "\n",
    "plt.plot(var1)"
   ]
  },
  {
   "cell_type": "code",
   "execution_count": 20,
   "metadata": {},
   "outputs": [
    {
     "name": "stdout",
     "output_type": "stream",
     "text": [
      "[[-2.81633893e+00  5.06050643e-01]\n",
      " [-2.64552745e+00 -6.51799379e-01]\n",
      " [-2.87948066e+00 -3.21035860e-01]\n",
      " [-2.81093445e+00 -5.77363207e-01]\n",
      " [-2.87988351e+00  6.70467643e-01]\n",
      " [-2.59317599e+00  1.51881921e+00]\n",
      " [-2.90159154e+00  6.77106952e-02]\n",
      " [-2.71013857e+00  2.44822135e-01]\n",
      " [-2.78572445e+00 -1.10033691e+00]\n",
      " [-2.64728182e+00 -4.51017611e-01]\n",
      " [-2.62045947e+00  1.06753291e+00]\n",
      " [-2.74530029e+00  1.51688686e-01]\n",
      " [-2.64364170e+00 -7.13641450e-01]\n",
      " [-2.99135307e+00 -9.51363109e-01]\n",
      " [-2.60680324e+00  1.88447264e+00]\n",
      " [-2.64545824e+00  2.71378247e+00]\n",
      " [-2.58707757e+00  1.50604525e+00]\n",
      " [-2.56129243e+00  5.06790365e-01]\n",
      " [-2.29803185e+00  1.42857788e+00]\n",
      " [-2.67103437e+00  1.14621464e+00]\n",
      " [-2.29017648e+00  4.27049021e-01]\n",
      " [-2.52906562e+00  9.41927041e-01]\n",
      " [-3.01331841e+00  4.68455142e-01]\n",
      " [-2.16798170e+00  1.02409918e-01]\n",
      " [-2.51364245e+00  1.50103626e-01]\n",
      " [-2.26629384e+00 -6.14522660e-01]\n",
      " [-2.33775079e+00  2.55931670e-01]\n",
      " [-2.43280152e+00  5.40002512e-01]\n",
      " [-2.39705726e+00  3.24819667e-01]\n",
      " [-2.49218785e+00 -3.29977033e-01]\n",
      " [-2.37305934e+00 -4.97021217e-01]\n",
      " [-2.09386262e+00  4.37116431e-01]\n",
      " [-2.76532288e+00  1.80515639e+00]\n",
      " [-2.60785239e+00  2.16463380e+00]\n",
      " [-2.36936223e+00 -4.64153529e-01]\n",
      " [-2.37866024e+00 -2.00953447e-01]\n",
      " [-2.22783046e+00  6.70946866e-01]\n",
      " [-2.33601188e+00 -4.65729839e-01]\n",
      " [-2.53494151e+00 -9.04939681e-01]\n",
      " [-2.30006379e+00  2.74398282e-01]\n",
      " [-2.38899066e+00  4.46566660e-01]\n",
      " [-2.00547415e+00 -2.34081580e+00]\n",
      " [-2.59782241e+00 -4.81223691e-01]\n",
      " [-2.07031715e+00  4.79252407e-01]\n",
      " [-2.21086741e+00  1.14974502e+00]\n",
      " [-2.14466550e+00 -7.11636569e-01]\n",
      " [-2.40789583e+00  1.12410424e+00]\n",
      " [-2.40451654e+00 -3.89322093e-01]\n",
      " [-2.25235939e+00  1.00117620e+00]\n",
      " [-2.21860619e+00  8.09638587e-03]\n",
      " [ 6.84208818e-01  8.96232051e-01]\n",
      " [ 3.77267467e-01  6.23540956e-01]\n",
      " [ 8.29932973e-01  6.49051413e-01]\n",
      " [ 1.16172806e-01 -1.73928781e+00]\n",
      " [ 7.08698144e-01 -1.81532168e-01]\n",
      " [ 1.23944428e-01 -5.74271405e-01]\n",
      " [ 4.48993935e-01  8.00601745e-01]\n",
      " [-6.20569644e-01 -1.84807763e+00]\n",
      " [ 6.21706620e-01  5.63207821e-02]\n",
      " [-1.57821051e-01 -1.02205171e+00]\n",
      " [-2.60092417e-01 -2.65140221e+00]\n",
      " [ 2.36955187e-01 -4.47273709e-02]\n",
      " [ 3.43402872e-01 -1.75399144e+00]\n",
      " [ 5.00709753e-01 -1.66836321e-01]\n",
      " [-1.45435185e-01 -4.28218441e-01]\n",
      " [ 6.54481840e-01  5.31025651e-01]\n",
      " [ 2.16665651e-01 -1.81279300e-01]\n",
      " [ 5.09878427e-02 -7.83105989e-01]\n",
      " [ 9.94317576e-01 -1.60726040e+00]\n",
      " [ 7.98621171e-02 -1.29657977e+00]\n",
      " [ 6.02121011e-01  4.15869110e-01]\n",
      " [ 3.73931024e-01 -4.05860604e-01]\n",
      " [ 1.04828655e+00 -9.17251259e-01]\n",
      " [ 5.33429268e-01 -4.04343849e-01]\n",
      " [ 6.03760108e-01 -5.01120650e-02]\n",
      " [ 7.64985995e-01  2.66472294e-01]\n",
      " [ 1.10831242e+00 -6.00964805e-02]\n",
      " [ 1.21402007e+00  3.51319216e-01]\n",
      " [ 6.21091878e-01 -2.14932925e-01]\n",
      " [ 9.44626735e-03 -1.05920145e+00]\n",
      " [ 1.72436506e-01 -1.56340711e+00]\n",
      " [ 8.84455695e-02 -1.57535323e+00]\n",
      " [ 2.91768840e-01 -7.75140325e-01]\n",
      " [ 1.02436430e+00 -6.23214464e-01]\n",
      " [ 3.08092355e-01 -2.83517403e-01]\n",
      " [ 4.96600440e-01  8.55605507e-01]\n",
      " [ 1.04113512e+00  5.34909244e-01]\n",
      " [ 1.04503126e+00 -1.37903754e+00]\n",
      " [ 2.12926352e-01 -2.19177357e-01]\n",
      " [ 4.09028980e-01 -1.33238580e+00]\n",
      " [ 4.16596773e-01 -1.12268035e+00]\n",
      " [ 7.29259127e-01  2.96117804e-02]\n",
      " [ 4.85657245e-01 -9.91555021e-01]\n",
      " [-1.12353711e-01 -2.03351210e+00]\n",
      " [ 4.69695661e-01 -8.59308044e-01]\n",
      " [ 3.08066918e-01 -1.84388900e-01]\n",
      " [ 4.38918892e-01 -3.88151059e-01]\n",
      " [ 7.50770730e-01 -1.54977351e-01]\n",
      " [-1.30858608e-01 -1.55950490e+00]\n",
      " [ 4.96896712e-01 -6.04384777e-01]\n",
      " [ 1.91028810e+00  8.87262856e-01]\n",
      " [ 1.31397452e+00 -6.96436128e-01]\n",
      " [ 2.23495410e+00  5.78169221e-01]\n",
      " [ 1.57972013e+00 -4.06481091e-02]\n",
      " [ 1.96817608e+00  3.06701228e-01]\n",
      " [ 2.74331880e+00  8.20783290e-01]\n",
      " [ 6.81465526e-01 -1.57222767e+00]\n",
      " [ 2.37089012e+00  4.33391129e-01]\n",
      " [ 2.12544403e+00 -7.05853204e-01]\n",
      " [ 2.36740295e+00  1.94052016e+00]\n",
      " [ 1.59208055e+00  6.97782278e-01]\n",
      " [ 1.80926166e+00 -4.19852690e-01]\n",
      " [ 2.06692263e+00  4.26750334e-01]\n",
      " [ 1.53740088e+00 -1.16702562e+00]\n",
      " [ 1.73512454e+00 -4.41997205e-01]\n",
      " [ 1.84960338e+00  6.81278491e-01]\n",
      " [ 1.75019315e+00  2.56461785e-01]\n",
      " [ 2.59677347e+00  2.57555980e+00]\n",
      " [ 3.37613275e+00  3.32971702e-02]\n",
      " [ 1.59783089e+00 -1.71809521e+00]\n",
      " [ 2.29306200e+00  9.17596069e-01]\n",
      " [ 1.38192884e+00 -5.80641167e-01]\n",
      " [ 3.05697524e+00  4.24499643e-01]\n",
      " [ 1.70607799e+00 -4.89214355e-01]\n",
      " [ 2.04305738e+00  1.01627866e+00]\n",
      " [ 2.26849282e+00  1.01102413e+00]\n",
      " [ 1.60237008e+00 -3.26020457e-01]\n",
      " [ 1.48084767e+00  5.46302618e-02]\n",
      " [ 2.16383495e+00 -1.91286335e-01]\n",
      " [ 2.23009256e+00  5.60263280e-01]\n",
      " [ 2.74255594e+00  2.60962405e-01]\n",
      " [ 2.64182186e+00  2.63639402e+00]\n",
      " [ 2.27436326e+00 -1.83715936e-01]\n",
      " [ 1.62348140e+00 -3.07079214e-01]\n",
      " [ 1.71244240e+00 -8.27132080e-01]\n",
      " [ 3.11804960e+00  8.62011907e-01]\n",
      " [ 2.07457092e+00  1.06458970e+00]\n",
      " [ 1.87563389e+00  4.11946362e-01]\n",
      " [ 1.51974804e+00  7.11797782e-04]\n",
      " [ 2.33869292e+00  6.70113993e-01]\n",
      " [ 2.49741092e+00  6.09321832e-01]\n",
      " [ 2.40590918e+00  6.83161795e-01]\n",
      " [ 1.76976265e+00 -7.17979033e-01]\n",
      " [ 2.55250343e+00  8.62617982e-01]\n",
      " [ 2.52963773e+00  1.04445851e+00]\n",
      " [ 2.42442148e+00  3.77119476e-01]\n",
      " [ 2.16421978e+00 -9.15696451e-01]\n",
      " [ 2.13979614e+00  2.54271922e-01]\n",
      " [ 2.02948035e+00  9.98725114e-01]\n",
      " [ 1.67483461e+00 -4.62125094e-02]]\n"
     ]
    }
   ],
   "source": [
    "#Looking at above plot I'm taking 4 variables\n",
    "pca = PCA(n_components=2)\n",
    "pca.fit(X)\n",
    "X1=pca.fit_transform(X)\n",
    "print(X1) # 50by2 data"
   ]
  },
  {
   "cell_type": "code",
   "execution_count": null,
   "metadata": {},
   "outputs": [],
   "source": []
  }
 ],
 "metadata": {
  "kernelspec": {
   "display_name": "Python 3",
   "language": "python",
   "name": "python3"
  },
  "language_info": {
   "codemirror_mode": {
    "name": "ipython",
    "version": 3
   },
   "file_extension": ".py",
   "mimetype": "text/x-python",
   "name": "python",
   "nbconvert_exporter": "python",
   "pygments_lexer": "ipython3",
   "version": "3.7.4"
  }
 },
 "nbformat": 4,
 "nbformat_minor": 2
}
