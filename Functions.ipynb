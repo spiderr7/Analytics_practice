{
 "cells": [
  {
   "cell_type": "markdown",
   "metadata": {},
   "source": [
    "# Functions"
   ]
  },
  {
   "cell_type": "code",
   "execution_count": 1,
   "metadata": {},
   "outputs": [],
   "source": [
    "def my_function():\n",
    "    print(\"Hello from a fuction\")"
   ]
  },
  {
   "cell_type": "code",
   "execution_count": 2,
   "metadata": {},
   "outputs": [
    {
     "name": "stdout",
     "output_type": "stream",
     "text": [
      "Hello from a fuction\n"
     ]
    }
   ],
   "source": [
    "my_function()"
   ]
  },
  {
   "cell_type": "code",
   "execution_count": 13,
   "metadata": {},
   "outputs": [
    {
     "name": "stdout",
     "output_type": "stream",
     "text": [
      "Enter the num for a: 23\n",
      "Enter the num for b: 3\n"
     ]
    },
    {
     "data": {
      "text/plain": [
       "69"
      ]
     },
     "execution_count": 13,
     "metadata": {},
     "output_type": "execute_result"
    }
   ],
   "source": [
    "#multiply\n",
    "a = int(input(\"Enter the num for a: \"))\n",
    "b = int(input(\"Enter the num for b: \"))\n",
    "def multi(a,b):\n",
    "    return(a*b)\n",
    "multi(a,b)"
   ]
  },
  {
   "cell_type": "code",
   "execution_count": 10,
   "metadata": {},
   "outputs": [
    {
     "name": "stdout",
     "output_type": "stream",
     "text": [
      "Hello \n",
      "Hello \n",
      "Hello \n",
      "Hello \n",
      "Hello \n",
      "\n"
     ]
    }
   ],
   "source": [
    "## Default return\n",
    "\n",
    "def say(message, times=5):\n",
    "    print(message * times)\n",
    "    \n",
    "say(\"Hello \\n\") # function call"
   ]
  },
  {
   "cell_type": "code",
   "execution_count": 18,
   "metadata": {},
   "outputs": [
    {
     "name": "stdout",
     "output_type": "stream",
     "text": [
      "Enter the num: 21\n"
     ]
    },
    {
     "data": {
      "text/plain": [
       "441"
      ]
     },
     "execution_count": 18,
     "metadata": {},
     "output_type": "execute_result"
    }
   ],
   "source": [
    "#square\n",
    "num = int(input(\"Enter the num: \"))\n",
    "def square(num):\n",
    "    return(num**2)\n",
    "square(num)"
   ]
  },
  {
   "cell_type": "code",
   "execution_count": 32,
   "metadata": {},
   "outputs": [
    {
     "name": "stdout",
     "output_type": "stream",
     "text": [
      "Enter the num1: 25\n",
      "Enter the num1: 5\n",
      "25 is divisible by 5 \n"
     ]
    }
   ],
   "source": [
    "# divisible\n",
    "num1 = int(input(\"Enter the num1: \"))\n",
    "num2 = int(input(\"Enter the num1: \"))\n",
    "\n",
    "def div(num1,num2):\n",
    "    if (num1%num2==0):\n",
    "        print( \"{} is divisible by {} \".format(num1,num2))\n",
    "        \n",
    "    else:\n",
    "        print(\"{} is not divisible by {}\".format(num1,num2))\n",
    "div(num1,num2)"
   ]
  },
  {
   "cell_type": "code",
   "execution_count": 41,
   "metadata": {},
   "outputs": [
    {
     "name": "stdout",
     "output_type": "stream",
     "text": [
      "Enter the num1: 10\n",
      "Enter the num1: 10\n",
      "10 is equal to 10\n"
     ]
    }
   ],
   "source": [
    "#greater number\n",
    "num1 = int(input(\"Enter the num1: \"))\n",
    "num2 = int(input(\"Enter the num1: \"))\n",
    "\n",
    "def max(num1,num2):\n",
    "    if(num1>num2):\n",
    "        print(\"{} is greater than {}\".format(num1,num2))\n",
    "        \n",
    "    elif (num1<num2):\n",
    "        print(\"{} is less than {}\".format(num1,num2))\n",
    "    else:\n",
    "        print(\"{} is equal to {}\".format(num1,num2))\n",
    "max(num1,num2)\n",
    "    "
   ]
  },
  {
   "cell_type": "code",
   "execution_count": 39,
   "metadata": {},
   "outputs": [
    {
     "name": "stdout",
     "output_type": "stream",
     "text": [
      "x is 50\n",
      "Changed global x to 2\n",
      "Value of x is 2\n",
      "Value of x is 3\n"
     ]
    }
   ],
   "source": [
    "#GLOBAL VARIABLES\n",
    "x = 75\n",
    "\n",
    "def func():\n",
    "    global x\n",
    "    print ('x is', x)\n",
    "    x = 8\n",
    "    print ('Changed global x to', x)\n",
    "\n",
    "func()\n",
    "print ('Value of x is', x)\n",
    "x = 31\n",
    "print ('Value of x is', x)"
   ]
  },
  {
   "cell_type": "code",
   "execution_count": null,
   "metadata": {},
   "outputs": [],
   "source": []
  }
 ],
 "metadata": {
  "kernelspec": {
   "display_name": "Python 3",
   "language": "python",
   "name": "python3"
  },
  "language_info": {
   "codemirror_mode": {
    "name": "ipython",
    "version": 3
   },
   "file_extension": ".py",
   "mimetype": "text/x-python",
   "name": "python",
   "nbconvert_exporter": "python",
   "pygments_lexer": "ipython3",
   "version": "3.7.4"
  }
 },
 "nbformat": 4,
 "nbformat_minor": 2
}
