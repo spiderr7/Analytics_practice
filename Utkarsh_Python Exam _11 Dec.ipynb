{
 "cells": [
  {
   "cell_type": "markdown",
   "metadata": {},
   "source": [
    "Q.1 Write a program using list comprehension to find primes in range 2 to 100."
   ]
  },
  {
   "cell_type": "code",
   "execution_count": 4,
   "metadata": {},
   "outputs": [
    {
     "name": "stdout",
     "output_type": "stream",
     "text": [
      "[2, 3, 5, 7, 11, 13, 17, 19, 23, 29, 31, 37, 41, 43, 47, 53, 59, 61, 67, 71, 73, 79, 83, 89, 97]\n"
     ]
    }
   ],
   "source": [
    "primes = [num for num in range(2,100) if 0 not in [num%i for i in range(2,int(num/2)+1)]]\n",
    "print(primes)"
   ]
  },
  {
   "cell_type": "markdown",
   "metadata": {},
   "source": [
    "Q.2 Write a function to reverse a string."
   ]
  },
  {
   "cell_type": "code",
   "execution_count": 1,
   "metadata": {},
   "outputs": [
    {
     "name": "stdout",
     "output_type": "stream",
     "text": [
      "trop . eht . morf . NAL . eht . gulpnu . tnod . esaelP\n"
     ]
    }
   ],
   "source": [
    "def rev_string(x):\n",
    "    return x[::-1]\n",
    "string = rev_string(\"Please . dont . unplug . the . LAN . from . the . port\")\n",
    "print(string)"
   ]
  },
  {
   "cell_type": "markdown",
   "metadata": {},
   "source": [
    "Q.3\n",
    "Write a program to extract the words from the given list which have their first character in uppercase."
   ]
  },
  {
   "cell_type": "code",
   "execution_count": 6,
   "metadata": {},
   "outputs": [
    {
     "name": "stdout",
     "output_type": "stream",
     "text": [
      "Output: ['Monday', 'Sunday', 'Saturday']\n"
     ]
    }
   ],
   "source": [
    "Days = ['Monday', 'tuesday','friday', 'Sunday', 'Saturday']\n",
    "\n",
    "output = []\n",
    "for i in Days:\n",
    "    if (i[0].isupper() == True):\n",
    "        output.append(i)\n",
    "print(\"Output:\",output)"
   ]
  },
  {
   "cell_type": "markdown",
   "metadata": {},
   "source": [
    "Q.4\n",
    "Write a program to extract the year part from the dates in the given list."
   ]
  },
  {
   "cell_type": "code",
   "execution_count": 7,
   "metadata": {},
   "outputs": [
    {
     "name": "stdout",
     "output_type": "stream",
     "text": [
      "1997\n",
      "2011\n",
      "1993\n",
      "2020\n"
     ]
    }
   ],
   "source": [
    "Batch = ['15-06-1997','15-06-2011','15-06-1993','15-06-2020']\n",
    "count = 0\n",
    "count1 = 0\n",
    "while count1<len(Batch):\n",
    "    while count<len(Batch):\n",
    "        x = Batch[count].index('-',1)\n",
    "        y = Batch[count].index('-',x+1)\n",
    "        print(Batch[count][y+1:])\n",
    "        count+=1\n",
    "        count1+=1"
   ]
  },
  {
   "cell_type": "markdown",
   "metadata": {},
   "source": [
    "Q.5\n",
    "Write a program swap the keys to values and values to keys of the given dictionary."
   ]
  },
  {
   "cell_type": "code",
   "execution_count": 8,
   "metadata": {},
   "outputs": [
    {
     "name": "stdout",
     "output_type": "stream",
     "text": [
      "{'Data Science': 1, 'Machine Learning': 2, 'SQL': 3, 'Big Data': 4}\n",
      "{1: 'Data Science', 2: 'Machine Learning', 3: 'SQL', 4: 'Big Data'}\n"
     ]
    }
   ],
   "source": [
    "Module = {'Data Science':1,'Machine Learning':2, 'SQL':3, 'Big Data':4}\n",
    "print(Module)\n",
    "swap = {value:key for key, value in Module.items()}\n",
    "print(swap)"
   ]
  },
  {
   "cell_type": "markdown",
   "metadata": {},
   "source": [
    "Q6 Write a program to calculate the cumulative average of the given list using accumulate() and lambda function."
   ]
  },
  {
   "cell_type": "code",
   "execution_count": 9,
   "metadata": {},
   "outputs": [
    {
     "name": "stdout",
     "output_type": "stream",
     "text": [
      "Average of list is 3.6\n"
     ]
    }
   ],
   "source": [
    "from functools import reduce\n",
    "\n",
    "def Average(l): \n",
    "    avg = reduce(lambda x, y: x + y, l) / len(l)\n",
    "    return avg\n",
    "  \n",
    "list = [5,2,1,4,6] \n",
    "average = Average(list) \n",
    "  \n",
    "print(\"Average of list is\", average)"
   ]
  },
  {
   "cell_type": "markdown",
   "metadata": {},
   "source": [
    "Q.7 Write a program to count the number of elements in the string (given by the user) that are not present in the 'my_string'. Do not count the white spaces.\n",
    "Use Recursion my_string = 'Data Science'"
   ]
  },
  {
   "cell_type": "code",
   "execution_count": 18,
   "metadata": {},
   "outputs": [
    {
     "name": "stdout",
     "output_type": "stream",
     "text": [
      "11\n"
     ]
    }
   ],
   "source": [
    "def string_length(my_string) : \n",
    "    count = 0\n",
    "    for x in my_string:\n",
    "        if x !=\" \":\n",
    "            count = 1+count\n",
    "        \n",
    "    return count\n",
    "    \n",
    "my_string = 'Data Science'\n",
    "print (string_length(my_string))"
   ]
  },
  {
   "cell_type": "markdown",
   "metadata": {},
   "source": [
    "Q.8\n",
    "Define a function to check whether a number is in a range (1000,10000) or not."
   ]
  },
  {
   "cell_type": "code",
   "execution_count": 10,
   "metadata": {},
   "outputs": [
    {
     "name": "stdout",
     "output_type": "stream",
     "text": [
      "The number is outside the given range.\n"
     ]
    }
   ],
   "source": [
    "def test_range(n):\n",
    "    if n in range(1000,10000):\n",
    "        print( \" %s is in the range\"%str(n))\n",
    "    else :\n",
    "        print(\"The number is outside the given range.\")\n",
    "test_range(5)"
   ]
  },
  {
   "cell_type": "markdown",
   "metadata": {},
   "source": [
    "Q.9\n",
    "Write a program to print pascal triangle upto 6 steps\n",
    "(using list)."
   ]
  },
  {
   "cell_type": "code",
   "execution_count": 12,
   "metadata": {},
   "outputs": [
    {
     "name": "stdout",
     "output_type": "stream",
     "text": [
      "Enter number of rows: 5\n",
      "                     1 \n",
      "                  1      1 \n",
      "               1      2      1 \n",
      "            1      3      3      1 \n",
      "         1      4      6      4      1 \n"
     ]
    }
   ],
   "source": [
    "n=int(input(\"Enter number of rows: \"))\n",
    "a=[]\n",
    "for i in range(n):\n",
    "    a.append([])\n",
    "    a[i].append(1)\n",
    "    for j in range(1,i):\n",
    "        a[i].append(a[i-1][j-1]+a[i-1][j])\n",
    "    if(n!=0):\n",
    "        a[i].append(1)\n",
    "for i in range(n):\n",
    "    print(\"   \"*(n-i),end=\" \",sep=\" \")\n",
    "    for j in range(0,i+1):\n",
    "        print('{0:6}'.format(a[i][j]),end=\" \",sep=\" \")\n",
    "    print()"
   ]
  },
  {
   "cell_type": "markdown",
   "metadata": {},
   "source": [
    "Q.10 Write a program to calculate the sum of all elements in\n",
    "the list."
   ]
  },
  {
   "cell_type": "code",
   "execution_count": 13,
   "metadata": {},
   "outputs": [
    {
     "name": "stdout",
     "output_type": "stream",
     "text": [
      "Sum of all elements in given list:  104\n"
     ]
    }
   ],
   "source": [
    "total = 0\n",
    "test_score = [10, 32, 23, 14, 25]\n",
    "for ele in range(0, len(test_score)):\n",
    "    total = total + test_score[ele]\n",
    "print(\"Sum of all elements in given list: \", total)\n"
   ]
  },
  {
   "cell_type": "markdown",
   "metadata": {},
   "source": [
    "Q.11\n",
    "Find the minimum value along each of the rows.\n",
    "Create a 2D Numpy array from list of lists"
   ]
  },
  {
   "cell_type": "code",
   "execution_count": 14,
   "metadata": {},
   "outputs": [
    {
     "name": "stdout",
     "output_type": "stream",
     "text": [
      "[[210 402 383]\n",
      " [140 375 106]\n",
      " [140 125 217]\n",
      " [292 240 295]]\n"
     ]
    },
    {
     "data": {
      "text/plain": [
       "array([210, 106, 125, 240])"
      ]
     },
     "execution_count": 14,
     "metadata": {},
     "output_type": "execute_result"
    }
   ],
   "source": [
    "import numpy as np\n",
    "\n",
    "Score = np.array([[210, 402, 383],[140, 375, 106],[140, 125, 217],[292, 240, 295]])\n",
    "print(Score)\n",
    "Score.min(axis=1)"
   ]
  },
  {
   "cell_type": "markdown",
   "metadata": {},
   "source": [
    "Q.12\n",
    "Replace all even numbers in the array with -1.\n",
    "Use the array given below"
   ]
  },
  {
   "cell_type": "code",
   "execution_count": 15,
   "metadata": {},
   "outputs": [
    {
     "name": "stdout",
     "output_type": "stream",
     "text": [
      "[-1, 21, -1, 13, -1, 45, -1, -1, -1, -1, 65, -1, -1]\n"
     ]
    }
   ],
   "source": [
    "num_array = np.array([0, 21, 32, 13, 44, 45, 26, 28, 38, 34, 65, 48, 76])\n",
    "\n",
    "output = []\n",
    "for i in num_array:\n",
    "    if (i%2 == 0):\n",
    "        output.append(-1)\n",
    "    else:\n",
    "        output.append(i)\n",
    "\n",
    "print(output)"
   ]
  },
  {
   "cell_type": "code",
   "execution_count": null,
   "metadata": {},
   "outputs": [],
   "source": []
  }
 ],
 "metadata": {
  "kernelspec": {
   "display_name": "Python 3",
   "language": "python",
   "name": "python3"
  },
  "language_info": {
   "codemirror_mode": {
    "name": "ipython",
    "version": 3
   },
   "file_extension": ".py",
   "mimetype": "text/x-python",
   "name": "python",
   "nbconvert_exporter": "python",
   "pygments_lexer": "ipython3",
   "version": "3.8.5"
  }
 },
 "nbformat": 4,
 "nbformat_minor": 2
}
