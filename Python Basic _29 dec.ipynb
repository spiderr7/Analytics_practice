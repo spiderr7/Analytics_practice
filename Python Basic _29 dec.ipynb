{
 "cells": [
  {
   "cell_type": "markdown",
   "metadata": {},
   "source": [
    "# Variable"
   ]
  },
  {
   "cell_type": "code",
   "execution_count": 1,
   "metadata": {},
   "outputs": [
    {
     "name": "stdout",
     "output_type": "stream",
     "text": [
      "85\n",
      "Utkarsh\n"
     ]
    }
   ],
   "source": [
    "#creartion of variables\n",
    "x = 85\n",
    "y = \"Utkarsh\"\n",
    "print(x)\n",
    "print(y)"
   ]
  },
  {
   "cell_type": "code",
   "execution_count": 5,
   "metadata": {},
   "outputs": [
    {
     "name": "stdout",
     "output_type": "stream",
     "text": [
      "65\n",
      "55\n",
      "38.0\n"
     ]
    }
   ],
   "source": [
    "#define structure in casting \n",
    "x = str(65)\n",
    "y = int(55)\n",
    "z = float(38)\n",
    "\n",
    "print(x)\n",
    "print(y)\n",
    "print(z)"
   ]
  },
  {
   "cell_type": "code",
   "execution_count": 6,
   "metadata": {},
   "outputs": [
    {
     "name": "stdout",
     "output_type": "stream",
     "text": [
      "<class 'int'>\n",
      "<class 'str'>\n"
     ]
    }
   ],
   "source": [
    "# check type of variable\n",
    "x = 85\n",
    "y = 'utkarsh'\n",
    "print(type(x))\n",
    "print(type(y))"
   ]
  },
  {
   "cell_type": "code",
   "execution_count": 8,
   "metadata": {},
   "outputs": [
    {
     "data": {
      "text/plain": [
       "1"
      ]
     },
     "execution_count": 8,
     "metadata": {},
     "output_type": "execute_result"
    }
   ],
   "source": [
    "#modulus\n",
    "a = 9\n",
    "b = 4\n",
    "mod = a%b\n",
    "mod"
   ]
  },
  {
   "cell_type": "code",
   "execution_count": 9,
   "metadata": {},
   "outputs": [
    {
     "data": {
      "text/plain": [
       "2"
      ]
     },
     "execution_count": 9,
     "metadata": {},
     "output_type": "execute_result"
    }
   ],
   "source": [
    "# Quotients\n",
    "quo = a//b\n",
    "quo"
   ]
  },
  {
   "cell_type": "code",
   "execution_count": 11,
   "metadata": {},
   "outputs": [
    {
     "data": {
      "text/plain": [
       "6"
      ]
     },
     "execution_count": 11,
     "metadata": {},
     "output_type": "execute_result"
    }
   ],
   "source": [
    "#+- operater\n",
    "x =3 \n",
    "x +=3 \n",
    "x     # same as x = x + 3, 3 + 3 = 6"
   ]
  },
  {
   "cell_type": "code",
   "execution_count": 13,
   "metadata": {},
   "outputs": [
    {
     "name": "stdout",
     "output_type": "stream",
     "text": [
      "b is greater than a\n"
     ]
    }
   ],
   "source": [
    "# if in python\n",
    "a = 33\n",
    "b = 200\n",
    "if b > a:\n",
    "    print(\"b is greater than a\")"
   ]
  },
  {
   "cell_type": "code",
   "execution_count": 18,
   "metadata": {},
   "outputs": [
    {
     "name": "stdout",
     "output_type": "stream",
     "text": [
      "Joy is Excelent\n"
     ]
    }
   ],
   "source": [
    "#if with\n",
    "marks = 93\n",
    "name = 'Joy'\n",
    "if marks > 90:\n",
    "    print(name, \"is Excelent\")"
   ]
  },
  {
   "cell_type": "code",
   "execution_count": 19,
   "metadata": {},
   "outputs": [
    {
     "name": "stdout",
     "output_type": "stream",
     "text": [
      "no worries this time. try hard  utkarsh\n"
     ]
    }
   ],
   "source": [
    "#if else\n",
    "marks = 83\n",
    "name = \" utkarsh\"\n",
    "if marks > 90:\n",
    "    print(name, \"is Excelent\")\n",
    "else:\n",
    "    print(\"no worries this time. try hard\",name)"
   ]
  },
  {
   "cell_type": "code",
   "execution_count": 26,
   "metadata": {},
   "outputs": [
    {
     "name": "stdout",
     "output_type": "stream",
     "text": [
      " utkarsh you are ROCKING!.\n"
     ]
    }
   ],
   "source": [
    "#if, elif, else\n",
    "marks = 98\n",
    "name = \" utkarsh\"\n",
    "if marks >= 90:\n",
    "    print(name, \"you are ROCKING!.\")\n",
    "elif 70<= marks  < 90:\n",
    "    print(\"well Done!\",name)\n",
    "elif 50 <= marks < 70:\n",
    "    print(\"re do the exam\", name)\n",
    "else:\n",
    "    print(\"call your parents\",name)"
   ]
  },
  {
   "cell_type": "code",
   "execution_count": 27,
   "metadata": {},
   "outputs": [
    {
     "name": "stdout",
     "output_type": "stream",
     "text": [
      "you r elig to see the football match.\n",
      "tic kit price is $20\n"
     ]
    }
   ],
   "source": [
    "#nested if \n",
    "\n",
    "age = 32\n",
    "if(age >= 11):\n",
    "    print(\"you r elig to see the football match.\")\n",
    "    if(age <=20 or age >= 60):\n",
    "        print(\"ticket price is $12\")\n",
    "    else:\n",
    "        print(\"tic kit price is $20\")\n",
    "else:\n",
    "    print(\"you r not elig to buy a ticket.\")"
   ]
  },
  {
   "cell_type": "code",
   "execution_count": 44,
   "metadata": {},
   "outputs": [
    {
     "name": "stdout",
     "output_type": "stream",
     "text": [
      "Still manageable!\n"
     ]
    }
   ],
   "source": [
    "#1\n",
    "bill = 6000\n",
    "if(bill <= 5000):\n",
    "    print(\"Great!\")\n",
    "elif(bill >=5000 or bill <= 7000):\n",
    "    print(\"Still manageable!\")\n",
    "elif (bill >= 7000):\n",
    "    print(\"high\")\n",
    "else:\n",
    "    print(\"done\")\n",
    "        \n"
   ]
  },
  {
   "cell_type": "code",
   "execution_count": 51,
   "metadata": {},
   "outputs": [
    {
     "name": "stdout",
     "output_type": "stream",
     "text": [
      "Enter the name: utkarsh\n",
      "Nope!. let expore more!\n"
     ]
    }
   ],
   "source": [
    "#2\n",
    "\n",
    "name =str(input(\"Enter the name: \"))\n",
    "\n",
    "if len(name) <=5:\n",
    "    print(\"Yeah! that's it!\")\n",
    "else:\n",
    "    print(\"Nope!. let expore more!\")"
   ]
  },
  {
   "cell_type": "code",
   "execution_count": 53,
   "metadata": {},
   "outputs": [
    {
     "name": "stdout",
     "output_type": "stream",
     "text": [
      "0\n",
      "0\n",
      "0\n",
      "0\n",
      "1\n",
      "1\n",
      "1\n",
      "1\n",
      "1\n"
     ]
    }
   ],
   "source": [
    "# for loop\n",
    "\n",
    "x = [0,0,0,0,1,1,1,1,1] # a list\n",
    "for i in x:\n",
    "    print(i)\n",
    "\n"
   ]
  },
  {
   "cell_type": "code",
   "execution_count": 54,
   "metadata": {},
   "outputs": [
    {
     "name": "stdout",
     "output_type": "stream",
     "text": [
      "0\n",
      "0\n",
      "0\n",
      "0\n",
      "1\n",
      "1\n",
      "1\n",
      "1\n",
      "1\n",
      "No items\n"
     ]
    }
   ],
   "source": [
    "# for loop\n",
    "\n",
    "x = [0,0,0,0,1,1,1,1,1] # a list\n",
    "for i in x:\n",
    "    print(i)\n",
    "else:\n",
    "    print(\"No items\")"
   ]
  },
  {
   "cell_type": "code",
   "execution_count": 57,
   "metadata": {},
   "outputs": [
    {
     "name": "stdout",
     "output_type": "stream",
     "text": [
      "NO\n",
      "NO\n",
      "NO\n",
      "NO\n",
      "YES\n",
      "YES\n",
      "YES\n",
      "YES\n",
      "YES\n",
      "NO items\n"
     ]
    }
   ],
   "source": [
    "#simple for loop\n",
    "\n",
    "\n",
    "x = [0,0,0,0,1,1,1,1,1] # a list\n",
    "for i in x:\n",
    "    if i == 0:\n",
    "        print(\"NO\")\n",
    "    else:\n",
    "        print(\"YES\")\n",
    "else:\n",
    "    print(\"NO items\")"
   ]
  },
  {
   "cell_type": "code",
   "execution_count": 59,
   "metadata": {},
   "outputs": [
    {
     "name": "stdout",
     "output_type": "stream",
     "text": [
      "The sum is 6\n",
      "The sum is 11\n",
      "The sum is 14\n",
      "The sum is 22\n",
      "The sum is 26\n",
      "The sum is 28\n",
      "The sum is 33\n",
      "The sum is 37\n",
      "The sum is 48\n"
     ]
    }
   ],
   "source": [
    "# simple for loop\n",
    "\n",
    "n = [6,5,3,8,4,2,5,4,11]\n",
    "\n",
    "sum = 0\n",
    "\n",
    "for i in n:\n",
    "    sum = sum + i\n",
    "    print(\"The sum is\", sum)"
   ]
  },
  {
   "cell_type": "code",
   "execution_count": 62,
   "metadata": {},
   "outputs": [
    {
     "data": {
      "text/plain": [
       "tuple"
      ]
     },
     "execution_count": 62,
     "metadata": {},
     "output_type": "execute_result"
    }
   ],
   "source": [
    "a = 2,2,2,2\n",
    "type(a)"
   ]
  },
  {
   "cell_type": "code",
   "execution_count": null,
   "metadata": {},
   "outputs": [],
   "source": []
  }
 ],
 "metadata": {
  "kernelspec": {
   "display_name": "Python 3",
   "language": "python",
   "name": "python3"
  },
  "language_info": {
   "codemirror_mode": {
    "name": "ipython",
    "version": 3
   },
   "file_extension": ".py",
   "mimetype": "text/x-python",
   "name": "python",
   "nbconvert_exporter": "python",
   "pygments_lexer": "ipython3",
   "version": "3.7.4"
  }
 },
 "nbformat": 4,
 "nbformat_minor": 2
}
