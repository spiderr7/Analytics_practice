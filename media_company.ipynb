{
 "cells": [
  {
   "cell_type": "markdown",
   "metadata": {},
   "source": [
    "# Problem Statement: A digital media company (similar to Voot, Hotstar, Netflix, etc.) \n",
    "had launched a show. Initially, the show got a good response, but then witnessed a decline in viewership.\n",
    "The company wants to figure out what went wrong."
   ]
  },
  {
   "cell_type": "code",
   "execution_count": 2,
   "metadata": {},
   "outputs": [],
   "source": [
    "# Importing all required packages\n",
    "import numpy as np\n",
    "import pandas as pd\n",
    "import matplotlib.pyplot as plt\n",
    "import seaborn as sns\n",
    "%matplotlib inline"
   ]
  },
  {
   "cell_type": "code",
   "execution_count": 3,
   "metadata": {},
   "outputs": [
    {
     "data": {
      "text/html": [
       "<div>\n",
       "<style scoped>\n",
       "    .dataframe tbody tr th:only-of-type {\n",
       "        vertical-align: middle;\n",
       "    }\n",
       "\n",
       "    .dataframe tbody tr th {\n",
       "        vertical-align: top;\n",
       "    }\n",
       "\n",
       "    .dataframe thead th {\n",
       "        text-align: right;\n",
       "    }\n",
       "</style>\n",
       "<table border=\"1\" class=\"dataframe\">\n",
       "  <thead>\n",
       "    <tr style=\"text-align: right;\">\n",
       "      <th></th>\n",
       "      <th>Date</th>\n",
       "      <th>Views_show</th>\n",
       "      <th>Visitors</th>\n",
       "      <th>Views_platform</th>\n",
       "      <th>Ad_impression</th>\n",
       "      <th>Cricket_match_india</th>\n",
       "      <th>Character_A</th>\n",
       "      <th>Unnamed: 7</th>\n",
       "    </tr>\n",
       "  </thead>\n",
       "  <tbody>\n",
       "    <tr>\n",
       "      <td>0</td>\n",
       "      <td>3/1/2017</td>\n",
       "      <td>183738</td>\n",
       "      <td>1260228</td>\n",
       "      <td>1706478</td>\n",
       "      <td>1060860448</td>\n",
       "      <td>0</td>\n",
       "      <td>0</td>\n",
       "      <td>NaN</td>\n",
       "    </tr>\n",
       "    <tr>\n",
       "      <td>1</td>\n",
       "      <td>3/2/2017</td>\n",
       "      <td>193763</td>\n",
       "      <td>1270561</td>\n",
       "      <td>1690727</td>\n",
       "      <td>1031846645</td>\n",
       "      <td>0</td>\n",
       "      <td>0</td>\n",
       "      <td>NaN</td>\n",
       "    </tr>\n",
       "    <tr>\n",
       "      <td>2</td>\n",
       "      <td>3/3/2017</td>\n",
       "      <td>210479</td>\n",
       "      <td>1248183</td>\n",
       "      <td>1726157</td>\n",
       "      <td>1010867575</td>\n",
       "      <td>0</td>\n",
       "      <td>0</td>\n",
       "      <td>NaN</td>\n",
       "    </tr>\n",
       "    <tr>\n",
       "      <td>3</td>\n",
       "      <td>3/4/2017</td>\n",
       "      <td>240061</td>\n",
       "      <td>1492913</td>\n",
       "      <td>1855353</td>\n",
       "      <td>1079194579</td>\n",
       "      <td>1</td>\n",
       "      <td>0</td>\n",
       "      <td>NaN</td>\n",
       "    </tr>\n",
       "    <tr>\n",
       "      <td>4</td>\n",
       "      <td>3/5/2017</td>\n",
       "      <td>446314</td>\n",
       "      <td>1594712</td>\n",
       "      <td>2041418</td>\n",
       "      <td>1357736987</td>\n",
       "      <td>0</td>\n",
       "      <td>0</td>\n",
       "      <td>NaN</td>\n",
       "    </tr>\n",
       "  </tbody>\n",
       "</table>\n",
       "</div>"
      ],
      "text/plain": [
       "       Date  Views_show  Visitors  Views_platform  Ad_impression  \\\n",
       "0  3/1/2017      183738   1260228         1706478     1060860448   \n",
       "1  3/2/2017      193763   1270561         1690727     1031846645   \n",
       "2  3/3/2017      210479   1248183         1726157     1010867575   \n",
       "3  3/4/2017      240061   1492913         1855353     1079194579   \n",
       "4  3/5/2017      446314   1594712         2041418     1357736987   \n",
       "\n",
       "   Cricket_match_india  Character_A  Unnamed: 7  \n",
       "0                    0            0         NaN  \n",
       "1                    0            0         NaN  \n",
       "2                    0            0         NaN  \n",
       "3                    1            0         NaN  \n",
       "4                    0            0         NaN  "
      ]
     },
     "execution_count": 3,
     "metadata": {},
     "output_type": "execute_result"
    }
   ],
   "source": [
    "media = pd.read_csv(\"mediacompany.csv\")\n",
    "media.head()"
   ]
  },
  {
   "cell_type": "code",
   "execution_count": 4,
   "metadata": {},
   "outputs": [
    {
     "data": {
      "text/plain": [
       "(80, 8)"
      ]
     },
     "execution_count": 4,
     "metadata": {},
     "output_type": "execute_result"
    }
   ],
   "source": [
    "media.shape"
   ]
  },
  {
   "cell_type": "code",
   "execution_count": 5,
   "metadata": {},
   "outputs": [
    {
     "name": "stdout",
     "output_type": "stream",
     "text": [
      "<class 'pandas.core.frame.DataFrame'>\n",
      "RangeIndex: 80 entries, 0 to 79\n",
      "Data columns (total 8 columns):\n",
      "Date                   80 non-null object\n",
      "Views_show             80 non-null int64\n",
      "Visitors               80 non-null int64\n",
      "Views_platform         80 non-null int64\n",
      "Ad_impression          80 non-null int64\n",
      "Cricket_match_india    80 non-null int64\n",
      "Character_A            80 non-null int64\n",
      "Unnamed: 7             0 non-null float64\n",
      "dtypes: float64(1), int64(6), object(1)\n",
      "memory usage: 4.8+ KB\n"
     ]
    }
   ],
   "source": [
    "media.info()"
   ]
  },
  {
   "cell_type": "code",
   "execution_count": 6,
   "metadata": {},
   "outputs": [
    {
     "data": {
      "text/html": [
       "<div>\n",
       "<style scoped>\n",
       "    .dataframe tbody tr th:only-of-type {\n",
       "        vertical-align: middle;\n",
       "    }\n",
       "\n",
       "    .dataframe tbody tr th {\n",
       "        vertical-align: top;\n",
       "    }\n",
       "\n",
       "    .dataframe thead th {\n",
       "        text-align: right;\n",
       "    }\n",
       "</style>\n",
       "<table border=\"1\" class=\"dataframe\">\n",
       "  <thead>\n",
       "    <tr style=\"text-align: right;\">\n",
       "      <th></th>\n",
       "      <th>Views_show</th>\n",
       "      <th>Visitors</th>\n",
       "      <th>Views_platform</th>\n",
       "      <th>Ad_impression</th>\n",
       "      <th>Cricket_match_india</th>\n",
       "      <th>Character_A</th>\n",
       "      <th>Unnamed: 7</th>\n",
       "    </tr>\n",
       "  </thead>\n",
       "  <tbody>\n",
       "    <tr>\n",
       "      <td>count</td>\n",
       "      <td>80.000000</td>\n",
       "      <td>8.000000e+01</td>\n",
       "      <td>8.000000e+01</td>\n",
       "      <td>8.000000e+01</td>\n",
       "      <td>80.000000</td>\n",
       "      <td>80.000000</td>\n",
       "      <td>0.0</td>\n",
       "    </tr>\n",
       "    <tr>\n",
       "      <td>mean</td>\n",
       "      <td>289902.625000</td>\n",
       "      <td>1.699066e+06</td>\n",
       "      <td>2.222401e+06</td>\n",
       "      <td>1.442374e+09</td>\n",
       "      <td>0.100000</td>\n",
       "      <td>0.375000</td>\n",
       "      <td>NaN</td>\n",
       "    </tr>\n",
       "    <tr>\n",
       "      <td>std</td>\n",
       "      <td>154924.323585</td>\n",
       "      <td>2.311571e+05</td>\n",
       "      <td>2.913510e+05</td>\n",
       "      <td>2.983186e+08</td>\n",
       "      <td>0.301893</td>\n",
       "      <td>0.487177</td>\n",
       "      <td>NaN</td>\n",
       "    </tr>\n",
       "    <tr>\n",
       "      <td>min</td>\n",
       "      <td>102520.000000</td>\n",
       "      <td>1.248183e+06</td>\n",
       "      <td>1.690727e+06</td>\n",
       "      <td>1.010868e+09</td>\n",
       "      <td>0.000000</td>\n",
       "      <td>0.000000</td>\n",
       "      <td>NaN</td>\n",
       "    </tr>\n",
       "    <tr>\n",
       "      <td>25%</td>\n",
       "      <td>185353.250000</td>\n",
       "      <td>1.550766e+06</td>\n",
       "      <td>2.010816e+06</td>\n",
       "      <td>1.207911e+09</td>\n",
       "      <td>0.000000</td>\n",
       "      <td>0.000000</td>\n",
       "      <td>NaN</td>\n",
       "    </tr>\n",
       "    <tr>\n",
       "      <td>50%</td>\n",
       "      <td>235807.000000</td>\n",
       "      <td>1.698843e+06</td>\n",
       "      <td>2.226270e+06</td>\n",
       "      <td>1.385931e+09</td>\n",
       "      <td>0.000000</td>\n",
       "      <td>0.000000</td>\n",
       "      <td>NaN</td>\n",
       "    </tr>\n",
       "    <tr>\n",
       "      <td>75%</td>\n",
       "      <td>350079.000000</td>\n",
       "      <td>1.817895e+06</td>\n",
       "      <td>2.388837e+06</td>\n",
       "      <td>1.632416e+09</td>\n",
       "      <td>0.000000</td>\n",
       "      <td>1.000000</td>\n",
       "      <td>NaN</td>\n",
       "    </tr>\n",
       "    <tr>\n",
       "      <td>max</td>\n",
       "      <td>758631.000000</td>\n",
       "      <td>2.344650e+06</td>\n",
       "      <td>3.064422e+06</td>\n",
       "      <td>2.424203e+09</td>\n",
       "      <td>1.000000</td>\n",
       "      <td>1.000000</td>\n",
       "      <td>NaN</td>\n",
       "    </tr>\n",
       "  </tbody>\n",
       "</table>\n",
       "</div>"
      ],
      "text/plain": [
       "          Views_show      Visitors  Views_platform  Ad_impression  \\\n",
       "count      80.000000  8.000000e+01    8.000000e+01   8.000000e+01   \n",
       "mean   289902.625000  1.699066e+06    2.222401e+06   1.442374e+09   \n",
       "std    154924.323585  2.311571e+05    2.913510e+05   2.983186e+08   \n",
       "min    102520.000000  1.248183e+06    1.690727e+06   1.010868e+09   \n",
       "25%    185353.250000  1.550766e+06    2.010816e+06   1.207911e+09   \n",
       "50%    235807.000000  1.698843e+06    2.226270e+06   1.385931e+09   \n",
       "75%    350079.000000  1.817895e+06    2.388837e+06   1.632416e+09   \n",
       "max    758631.000000  2.344650e+06    3.064422e+06   2.424203e+09   \n",
       "\n",
       "       Cricket_match_india  Character_A  Unnamed: 7  \n",
       "count            80.000000    80.000000         0.0  \n",
       "mean              0.100000     0.375000         NaN  \n",
       "std               0.301893     0.487177         NaN  \n",
       "min               0.000000     0.000000         NaN  \n",
       "25%               0.000000     0.000000         NaN  \n",
       "50%               0.000000     0.000000         NaN  \n",
       "75%               0.000000     1.000000         NaN  \n",
       "max               1.000000     1.000000         NaN  "
      ]
     },
     "execution_count": 6,
     "metadata": {},
     "output_type": "execute_result"
    }
   ],
   "source": [
    "media.describe()"
   ]
  },
  {
   "cell_type": "code",
   "execution_count": 7,
   "metadata": {},
   "outputs": [],
   "source": [
    "#Drop \"Unnamed: 7\" --- col\n",
    "media = media.drop('Unnamed: 7', axis=1)"
   ]
  },
  {
   "cell_type": "code",
   "execution_count": 8,
   "metadata": {},
   "outputs": [
    {
     "name": "stdout",
     "output_type": "stream",
     "text": [
      "<class 'pandas.core.frame.DataFrame'>\n",
      "RangeIndex: 80 entries, 0 to 79\n",
      "Data columns (total 7 columns):\n",
      "Date                   80 non-null object\n",
      "Views_show             80 non-null int64\n",
      "Visitors               80 non-null int64\n",
      "Views_platform         80 non-null int64\n",
      "Ad_impression          80 non-null int64\n",
      "Cricket_match_india    80 non-null int64\n",
      "Character_A            80 non-null int64\n",
      "dtypes: int64(6), object(1)\n",
      "memory usage: 4.1+ KB\n"
     ]
    }
   ],
   "source": [
    "media.info()"
   ]
  },
  {
   "cell_type": "code",
   "execution_count": 9,
   "metadata": {},
   "outputs": [],
   "source": [
    "# Converting date to Pandas datetime format\n",
    "media['Date'] = pd.to_datetime(media['Date'])"
   ]
  },
  {
   "cell_type": "code",
   "execution_count": 10,
   "metadata": {},
   "outputs": [
    {
     "data": {
      "text/html": [
       "<div>\n",
       "<style scoped>\n",
       "    .dataframe tbody tr th:only-of-type {\n",
       "        vertical-align: middle;\n",
       "    }\n",
       "\n",
       "    .dataframe tbody tr th {\n",
       "        vertical-align: top;\n",
       "    }\n",
       "\n",
       "    .dataframe thead th {\n",
       "        text-align: right;\n",
       "    }\n",
       "</style>\n",
       "<table border=\"1\" class=\"dataframe\">\n",
       "  <thead>\n",
       "    <tr style=\"text-align: right;\">\n",
       "      <th></th>\n",
       "      <th>Date</th>\n",
       "      <th>Views_show</th>\n",
       "      <th>Visitors</th>\n",
       "      <th>Views_platform</th>\n",
       "      <th>Ad_impression</th>\n",
       "      <th>Cricket_match_india</th>\n",
       "      <th>Character_A</th>\n",
       "    </tr>\n",
       "  </thead>\n",
       "  <tbody>\n",
       "    <tr>\n",
       "      <td>0</td>\n",
       "      <td>2017-03-01</td>\n",
       "      <td>183738</td>\n",
       "      <td>1260228</td>\n",
       "      <td>1706478</td>\n",
       "      <td>1060860448</td>\n",
       "      <td>0</td>\n",
       "      <td>0</td>\n",
       "    </tr>\n",
       "    <tr>\n",
       "      <td>1</td>\n",
       "      <td>2017-03-02</td>\n",
       "      <td>193763</td>\n",
       "      <td>1270561</td>\n",
       "      <td>1690727</td>\n",
       "      <td>1031846645</td>\n",
       "      <td>0</td>\n",
       "      <td>0</td>\n",
       "    </tr>\n",
       "    <tr>\n",
       "      <td>2</td>\n",
       "      <td>2017-03-03</td>\n",
       "      <td>210479</td>\n",
       "      <td>1248183</td>\n",
       "      <td>1726157</td>\n",
       "      <td>1010867575</td>\n",
       "      <td>0</td>\n",
       "      <td>0</td>\n",
       "    </tr>\n",
       "    <tr>\n",
       "      <td>3</td>\n",
       "      <td>2017-03-04</td>\n",
       "      <td>240061</td>\n",
       "      <td>1492913</td>\n",
       "      <td>1855353</td>\n",
       "      <td>1079194579</td>\n",
       "      <td>1</td>\n",
       "      <td>0</td>\n",
       "    </tr>\n",
       "    <tr>\n",
       "      <td>4</td>\n",
       "      <td>2017-03-05</td>\n",
       "      <td>446314</td>\n",
       "      <td>1594712</td>\n",
       "      <td>2041418</td>\n",
       "      <td>1357736987</td>\n",
       "      <td>0</td>\n",
       "      <td>0</td>\n",
       "    </tr>\n",
       "  </tbody>\n",
       "</table>\n",
       "</div>"
      ],
      "text/plain": [
       "        Date  Views_show  Visitors  Views_platform  Ad_impression  \\\n",
       "0 2017-03-01      183738   1260228         1706478     1060860448   \n",
       "1 2017-03-02      193763   1270561         1690727     1031846645   \n",
       "2 2017-03-03      210479   1248183         1726157     1010867575   \n",
       "3 2017-03-04      240061   1492913         1855353     1079194579   \n",
       "4 2017-03-05      446314   1594712         2041418     1357736987   \n",
       "\n",
       "   Cricket_match_india  Character_A  \n",
       "0                    0            0  \n",
       "1                    0            0  \n",
       "2                    0            0  \n",
       "3                    1            0  \n",
       "4                    0            0  "
      ]
     },
     "execution_count": 10,
     "metadata": {},
     "output_type": "execute_result"
    }
   ],
   "source": [
    "media.head()"
   ]
  },
  {
   "cell_type": "code",
   "execution_count": 11,
   "metadata": {},
   "outputs": [
    {
     "name": "stdout",
     "output_type": "stream",
     "text": [
      "<class 'pandas.core.frame.DataFrame'>\n",
      "RangeIndex: 80 entries, 0 to 79\n",
      "Data columns (total 7 columns):\n",
      "Date                   80 non-null datetime64[ns]\n",
      "Views_show             80 non-null int64\n",
      "Visitors               80 non-null int64\n",
      "Views_platform         80 non-null int64\n",
      "Ad_impression          80 non-null int64\n",
      "Cricket_match_india    80 non-null int64\n",
      "Character_A            80 non-null int64\n",
      "dtypes: datetime64[ns](1), int64(6)\n",
      "memory usage: 4.4 KB\n"
     ]
    }
   ],
   "source": [
    "media.info()"
   ]
  },
  {
   "cell_type": "code",
   "execution_count": 12,
   "metadata": {},
   "outputs": [
    {
     "data": {
      "text/html": [
       "<div>\n",
       "<style scoped>\n",
       "    .dataframe tbody tr th:only-of-type {\n",
       "        vertical-align: middle;\n",
       "    }\n",
       "\n",
       "    .dataframe tbody tr th {\n",
       "        vertical-align: top;\n",
       "    }\n",
       "\n",
       "    .dataframe thead th {\n",
       "        text-align: right;\n",
       "    }\n",
       "</style>\n",
       "<table border=\"1\" class=\"dataframe\">\n",
       "  <thead>\n",
       "    <tr style=\"text-align: right;\">\n",
       "      <th></th>\n",
       "      <th>Date</th>\n",
       "      <th>Views_show</th>\n",
       "      <th>Visitors</th>\n",
       "      <th>Views_platform</th>\n",
       "      <th>Ad_impression</th>\n",
       "      <th>Cricket_match_india</th>\n",
       "      <th>Character_A</th>\n",
       "    </tr>\n",
       "  </thead>\n",
       "  <tbody>\n",
       "    <tr>\n",
       "      <td>0</td>\n",
       "      <td>2017-03-01</td>\n",
       "      <td>183738</td>\n",
       "      <td>1260228</td>\n",
       "      <td>1706478</td>\n",
       "      <td>1060860448</td>\n",
       "      <td>0</td>\n",
       "      <td>0</td>\n",
       "    </tr>\n",
       "    <tr>\n",
       "      <td>1</td>\n",
       "      <td>2017-03-02</td>\n",
       "      <td>193763</td>\n",
       "      <td>1270561</td>\n",
       "      <td>1690727</td>\n",
       "      <td>1031846645</td>\n",
       "      <td>0</td>\n",
       "      <td>0</td>\n",
       "    </tr>\n",
       "    <tr>\n",
       "      <td>2</td>\n",
       "      <td>2017-03-03</td>\n",
       "      <td>210479</td>\n",
       "      <td>1248183</td>\n",
       "      <td>1726157</td>\n",
       "      <td>1010867575</td>\n",
       "      <td>0</td>\n",
       "      <td>0</td>\n",
       "    </tr>\n",
       "    <tr>\n",
       "      <td>3</td>\n",
       "      <td>2017-03-04</td>\n",
       "      <td>240061</td>\n",
       "      <td>1492913</td>\n",
       "      <td>1855353</td>\n",
       "      <td>1079194579</td>\n",
       "      <td>1</td>\n",
       "      <td>0</td>\n",
       "    </tr>\n",
       "    <tr>\n",
       "      <td>4</td>\n",
       "      <td>2017-03-05</td>\n",
       "      <td>446314</td>\n",
       "      <td>1594712</td>\n",
       "      <td>2041418</td>\n",
       "      <td>1357736987</td>\n",
       "      <td>0</td>\n",
       "      <td>0</td>\n",
       "    </tr>\n",
       "  </tbody>\n",
       "</table>\n",
       "</div>"
      ],
      "text/plain": [
       "        Date  Views_show  Visitors  Views_platform  Ad_impression  \\\n",
       "0 2017-03-01      183738   1260228         1706478     1060860448   \n",
       "1 2017-03-02      193763   1270561         1690727     1031846645   \n",
       "2 2017-03-03      210479   1248183         1726157     1010867575   \n",
       "3 2017-03-04      240061   1492913         1855353     1079194579   \n",
       "4 2017-03-05      446314   1594712         2041418     1357736987   \n",
       "\n",
       "   Cricket_match_india  Character_A  \n",
       "0                    0            0  \n",
       "1                    0            0  \n",
       "2                    0            0  \n",
       "3                    1            0  \n",
       "4                    0            0  "
      ]
     },
     "execution_count": 12,
     "metadata": {},
     "output_type": "execute_result"
    }
   ],
   "source": [
    "media.head()"
   ]
  },
  {
   "cell_type": "code",
   "execution_count": 13,
   "metadata": {},
   "outputs": [
    {
     "data": {
      "text/html": [
       "<div>\n",
       "<style scoped>\n",
       "    .dataframe tbody tr th:only-of-type {\n",
       "        vertical-align: middle;\n",
       "    }\n",
       "\n",
       "    .dataframe tbody tr th {\n",
       "        vertical-align: top;\n",
       "    }\n",
       "\n",
       "    .dataframe thead th {\n",
       "        text-align: right;\n",
       "    }\n",
       "</style>\n",
       "<table border=\"1\" class=\"dataframe\">\n",
       "  <thead>\n",
       "    <tr style=\"text-align: right;\">\n",
       "      <th></th>\n",
       "      <th>Date</th>\n",
       "      <th>Views_show</th>\n",
       "      <th>Visitors</th>\n",
       "      <th>Views_platform</th>\n",
       "      <th>Ad_impression</th>\n",
       "      <th>Cricket_match_india</th>\n",
       "      <th>Character_A</th>\n",
       "    </tr>\n",
       "  </thead>\n",
       "  <tbody>\n",
       "    <tr>\n",
       "      <td>75</td>\n",
       "      <td>2017-05-15</td>\n",
       "      <td>313945</td>\n",
       "      <td>1808684</td>\n",
       "      <td>2226788</td>\n",
       "      <td>1398052759</td>\n",
       "      <td>1</td>\n",
       "      <td>0</td>\n",
       "    </tr>\n",
       "    <tr>\n",
       "      <td>76</td>\n",
       "      <td>2017-05-16</td>\n",
       "      <td>185689</td>\n",
       "      <td>1814227</td>\n",
       "      <td>2199844</td>\n",
       "      <td>1311961223</td>\n",
       "      <td>1</td>\n",
       "      <td>0</td>\n",
       "    </tr>\n",
       "    <tr>\n",
       "      <td>77</td>\n",
       "      <td>2017-05-17</td>\n",
       "      <td>142260</td>\n",
       "      <td>1755803</td>\n",
       "      <td>2225752</td>\n",
       "      <td>1248266254</td>\n",
       "      <td>1</td>\n",
       "      <td>0</td>\n",
       "    </tr>\n",
       "    <tr>\n",
       "      <td>78</td>\n",
       "      <td>2017-05-18</td>\n",
       "      <td>135871</td>\n",
       "      <td>1749654</td>\n",
       "      <td>2302789</td>\n",
       "      <td>1284859759</td>\n",
       "      <td>1</td>\n",
       "      <td>0</td>\n",
       "    </tr>\n",
       "    <tr>\n",
       "      <td>79</td>\n",
       "      <td>2017-05-19</td>\n",
       "      <td>108961</td>\n",
       "      <td>1746735</td>\n",
       "      <td>2279036</td>\n",
       "      <td>1246026846</td>\n",
       "      <td>1</td>\n",
       "      <td>0</td>\n",
       "    </tr>\n",
       "  </tbody>\n",
       "</table>\n",
       "</div>"
      ],
      "text/plain": [
       "         Date  Views_show  Visitors  Views_platform  Ad_impression  \\\n",
       "75 2017-05-15      313945   1808684         2226788     1398052759   \n",
       "76 2017-05-16      185689   1814227         2199844     1311961223   \n",
       "77 2017-05-17      142260   1755803         2225752     1248266254   \n",
       "78 2017-05-18      135871   1749654         2302789     1284859759   \n",
       "79 2017-05-19      108961   1746735         2279036     1246026846   \n",
       "\n",
       "    Cricket_match_india  Character_A  \n",
       "75                    1            0  \n",
       "76                    1            0  \n",
       "77                    1            0  \n",
       "78                    1            0  \n",
       "79                    1            0  "
      ]
     },
     "execution_count": 13,
     "metadata": {},
     "output_type": "execute_result"
    }
   ],
   "source": [
    "media.tail()"
   ]
  },
  {
   "cell_type": "code",
   "execution_count": 14,
   "metadata": {},
   "outputs": [],
   "source": [
    "#Deriving day since the show stared \n",
    "from datetime import datetime\n",
    "\n",
    "d0 = datetime(2017, 2, 28)\n",
    "d1 = media.Date\n",
    "delta = d1 - d0\n",
    "media['day'] = delta"
   ]
  },
  {
   "cell_type": "code",
   "execution_count": 15,
   "metadata": {},
   "outputs": [
    {
     "data": {
      "text/html": [
       "<div>\n",
       "<style scoped>\n",
       "    .dataframe tbody tr th:only-of-type {\n",
       "        vertical-align: middle;\n",
       "    }\n",
       "\n",
       "    .dataframe tbody tr th {\n",
       "        vertical-align: top;\n",
       "    }\n",
       "\n",
       "    .dataframe thead th {\n",
       "        text-align: right;\n",
       "    }\n",
       "</style>\n",
       "<table border=\"1\" class=\"dataframe\">\n",
       "  <thead>\n",
       "    <tr style=\"text-align: right;\">\n",
       "      <th></th>\n",
       "      <th>Date</th>\n",
       "      <th>Views_show</th>\n",
       "      <th>Visitors</th>\n",
       "      <th>Views_platform</th>\n",
       "      <th>Ad_impression</th>\n",
       "      <th>Cricket_match_india</th>\n",
       "      <th>Character_A</th>\n",
       "      <th>day</th>\n",
       "    </tr>\n",
       "  </thead>\n",
       "  <tbody>\n",
       "    <tr>\n",
       "      <td>0</td>\n",
       "      <td>2017-03-01</td>\n",
       "      <td>183738</td>\n",
       "      <td>1260228</td>\n",
       "      <td>1706478</td>\n",
       "      <td>1060860448</td>\n",
       "      <td>0</td>\n",
       "      <td>0</td>\n",
       "      <td>1 days</td>\n",
       "    </tr>\n",
       "    <tr>\n",
       "      <td>1</td>\n",
       "      <td>2017-03-02</td>\n",
       "      <td>193763</td>\n",
       "      <td>1270561</td>\n",
       "      <td>1690727</td>\n",
       "      <td>1031846645</td>\n",
       "      <td>0</td>\n",
       "      <td>0</td>\n",
       "      <td>2 days</td>\n",
       "    </tr>\n",
       "    <tr>\n",
       "      <td>2</td>\n",
       "      <td>2017-03-03</td>\n",
       "      <td>210479</td>\n",
       "      <td>1248183</td>\n",
       "      <td>1726157</td>\n",
       "      <td>1010867575</td>\n",
       "      <td>0</td>\n",
       "      <td>0</td>\n",
       "      <td>3 days</td>\n",
       "    </tr>\n",
       "    <tr>\n",
       "      <td>3</td>\n",
       "      <td>2017-03-04</td>\n",
       "      <td>240061</td>\n",
       "      <td>1492913</td>\n",
       "      <td>1855353</td>\n",
       "      <td>1079194579</td>\n",
       "      <td>1</td>\n",
       "      <td>0</td>\n",
       "      <td>4 days</td>\n",
       "    </tr>\n",
       "    <tr>\n",
       "      <td>4</td>\n",
       "      <td>2017-03-05</td>\n",
       "      <td>446314</td>\n",
       "      <td>1594712</td>\n",
       "      <td>2041418</td>\n",
       "      <td>1357736987</td>\n",
       "      <td>0</td>\n",
       "      <td>0</td>\n",
       "      <td>5 days</td>\n",
       "    </tr>\n",
       "    <tr>\n",
       "      <td>...</td>\n",
       "      <td>...</td>\n",
       "      <td>...</td>\n",
       "      <td>...</td>\n",
       "      <td>...</td>\n",
       "      <td>...</td>\n",
       "      <td>...</td>\n",
       "      <td>...</td>\n",
       "      <td>...</td>\n",
       "    </tr>\n",
       "    <tr>\n",
       "      <td>75</td>\n",
       "      <td>2017-05-15</td>\n",
       "      <td>313945</td>\n",
       "      <td>1808684</td>\n",
       "      <td>2226788</td>\n",
       "      <td>1398052759</td>\n",
       "      <td>1</td>\n",
       "      <td>0</td>\n",
       "      <td>76 days</td>\n",
       "    </tr>\n",
       "    <tr>\n",
       "      <td>76</td>\n",
       "      <td>2017-05-16</td>\n",
       "      <td>185689</td>\n",
       "      <td>1814227</td>\n",
       "      <td>2199844</td>\n",
       "      <td>1311961223</td>\n",
       "      <td>1</td>\n",
       "      <td>0</td>\n",
       "      <td>77 days</td>\n",
       "    </tr>\n",
       "    <tr>\n",
       "      <td>77</td>\n",
       "      <td>2017-05-17</td>\n",
       "      <td>142260</td>\n",
       "      <td>1755803</td>\n",
       "      <td>2225752</td>\n",
       "      <td>1248266254</td>\n",
       "      <td>1</td>\n",
       "      <td>0</td>\n",
       "      <td>78 days</td>\n",
       "    </tr>\n",
       "    <tr>\n",
       "      <td>78</td>\n",
       "      <td>2017-05-18</td>\n",
       "      <td>135871</td>\n",
       "      <td>1749654</td>\n",
       "      <td>2302789</td>\n",
       "      <td>1284859759</td>\n",
       "      <td>1</td>\n",
       "      <td>0</td>\n",
       "      <td>79 days</td>\n",
       "    </tr>\n",
       "    <tr>\n",
       "      <td>79</td>\n",
       "      <td>2017-05-19</td>\n",
       "      <td>108961</td>\n",
       "      <td>1746735</td>\n",
       "      <td>2279036</td>\n",
       "      <td>1246026846</td>\n",
       "      <td>1</td>\n",
       "      <td>0</td>\n",
       "      <td>80 days</td>\n",
       "    </tr>\n",
       "  </tbody>\n",
       "</table>\n",
       "<p>80 rows × 8 columns</p>\n",
       "</div>"
      ],
      "text/plain": [
       "         Date  Views_show  Visitors  Views_platform  Ad_impression  \\\n",
       "0  2017-03-01      183738   1260228         1706478     1060860448   \n",
       "1  2017-03-02      193763   1270561         1690727     1031846645   \n",
       "2  2017-03-03      210479   1248183         1726157     1010867575   \n",
       "3  2017-03-04      240061   1492913         1855353     1079194579   \n",
       "4  2017-03-05      446314   1594712         2041418     1357736987   \n",
       "..        ...         ...       ...             ...            ...   \n",
       "75 2017-05-15      313945   1808684         2226788     1398052759   \n",
       "76 2017-05-16      185689   1814227         2199844     1311961223   \n",
       "77 2017-05-17      142260   1755803         2225752     1248266254   \n",
       "78 2017-05-18      135871   1749654         2302789     1284859759   \n",
       "79 2017-05-19      108961   1746735         2279036     1246026846   \n",
       "\n",
       "    Cricket_match_india  Character_A     day  \n",
       "0                     0            0  1 days  \n",
       "1                     0            0  2 days  \n",
       "2                     0            0  3 days  \n",
       "3                     1            0  4 days  \n",
       "4                     0            0  5 days  \n",
       "..                  ...          ...     ...  \n",
       "75                    1            0 76 days  \n",
       "76                    1            0 77 days  \n",
       "77                    1            0 78 days  \n",
       "78                    1            0 79 days  \n",
       "79                    1            0 80 days  \n",
       "\n",
       "[80 rows x 8 columns]"
      ]
     },
     "execution_count": 15,
     "metadata": {},
     "output_type": "execute_result"
    }
   ],
   "source": [
    "media.head(80)"
   ]
  },
  {
   "cell_type": "code",
   "execution_count": 16,
   "metadata": {},
   "outputs": [],
   "source": [
    "# Cleaning days\n",
    "media['day'] = media['day'].astype(str)\n",
    "media['day'] = media['day'].map(lambda x: x[0:2])   #The advantage of the lambda operator can be seen when it is used in combination with the map() function.\n",
    "                                                    #map() is a function with two arguments:\n",
    "                                                    #r = map(func, seq)\n",
    "                                                    #The first argument func is the name of a function and the second a sequence (e.g. a list) seq. map()\n",
    "                                                    #applies the function func to all the elements of the sequence seq. \n",
    "                                                    #It returns a new list with the elements changed by func\n",
    "media['day'] = media['day'].astype(int)"
   ]
  },
  {
   "cell_type": "code",
   "execution_count": 17,
   "metadata": {},
   "outputs": [
    {
     "data": {
      "text/plain": [
       "<matplotlib.axes._subplots.AxesSubplot at 0xa164fb0>"
      ]
     },
     "execution_count": 17,
     "metadata": {},
     "output_type": "execute_result"
    },
    {
     "data": {
      "image/png": "[encoded data removed]",
      "text/plain": [
       "<Figure size 432x288 with 1 Axes>"
      ]
     },
     "metadata": {
      "needs_background": "light"
     },
     "output_type": "display_data"
    }
   ],
   "source": [
    "# day vs views show\n",
    "media.plot.line(x='day', y = 'Views_show')"
   ]
  },
  {
   "cell_type": "code",
   "execution_count": 18,
   "metadata": {},
   "outputs": [
    {
     "name": "stderr",
     "output_type": "stream",
     "text": [
      "'c' argument looks like a single numeric RGB or RGBA sequence, which should be avoided as value-mapping will have precedence in case its length matches with 'x' & 'y'.  Please use a 2-D array with a single row if you really want to specify the same RGB or RGBA value for all points.\n"
     ]
    },
    {
     "data": {
      "image/png": "[encoded data removed]",
      "text/plain": [
       "<Figure size 432x288 with 1 Axes>"
      ]
     },
     "metadata": {
      "needs_background": "light"
     },
     "output_type": "display_data"
    }
   ],
   "source": [
    "# Scatter Plot (days vs Views_show)\n",
    "colors = (0,0,0)\n",
    "area = np.pi*3\n",
    "plt.scatter(media.day, media.Views_show, s=area, c=colors, alpha=0.5)\n",
    "plt.title('Scatter plot pythonspot.com')\n",
    "plt.xlabel('x')\n",
    "plt.ylabel('y')\n",
    "plt.show()"
   ]
  },
  {
   "cell_type": "code",
   "execution_count": 20,
   "metadata": {},
   "outputs": [
    {
     "data": {
      "text/plain": [
       "<matplotlib.axes._subplots.AxesSubplot at 0x17a2b90>"
      ]
     },
     "execution_count": 20,
     "metadata": {},
     "output_type": "execute_result"
    },
    {
     "data": {
      "image/png": "[encoded data removed]",
      "text/plain": [
       "<Figure size 432x288 with 1 Axes>"
      ]
     },
     "metadata": {
      "needs_background": "light"
     },
     "output_type": "display_data"
    }
   ],
   "source": [
    "# day vs views show\n",
    "media.plot.line(x='Ad_impression', y = 'Views_show')"
   ]
  },
  {
   "cell_type": "code",
   "execution_count": 21,
   "metadata": {},
   "outputs": [
    {
     "data": {
      "text/plain": [
       "<matplotlib.axes._subplots.AxesSubplot at 0x17acd10>"
      ]
     },
     "execution_count": 21,
     "metadata": {},
     "output_type": "execute_result"
    },
    {
     "data": {
      "image/png": "[encoded data removed]",
      "text/plain": [
       "<Figure size 432x288 with 1 Axes>"
      ]
     },
     "metadata": {
      "needs_background": "light"
     },
     "output_type": "display_data"
    }
   ],
   "source": [
    "# scatter ad_impression and views_show\n",
    "media.plot.scatter(x='Ad_impression', y = 'Views_show')"
   ]
  },
  {
   "cell_type": "code",
   "execution_count": 22,
   "metadata": {},
   "outputs": [
    {
     "data": {
      "text/plain": [
       "<matplotlib.axes._subplots.AxesSubplot at 0x18385b0>"
      ]
     },
     "execution_count": 22,
     "metadata": {},
     "output_type": "execute_result"
    },
    {
     "data": {
      "image/png": "[encoded data removed]",
      "text/plain": [
       "<Figure size 432x288 with 1 Axes>"
      ]
     },
     "metadata": {
      "needs_background": "light"
     },
     "output_type": "display_data"
    }
   ],
   "source": [
    "media.plot.line(x= 'day', y='Ad_impression')"
   ]
  },
  {
   "cell_type": "code",
   "execution_count": 29,
   "metadata": {},
   "outputs": [
    {
     "name": "stderr",
     "output_type": "stream",
     "text": [
      "'c' argument looks like a single numeric RGB or RGBA sequence, which should be avoided as value-mapping will have precedence in case its length matches with 'x' & 'y'.  Please use a 2-D array with a single row if you really want to specify the same RGB or RGBA value for all points.\n"
     ]
    },
    {
     "data": {
      "image/png": "[encoded data removed]",
      "text/plain": [
       "<Figure size 432x288 with 1 Axes>"
      ]
     },
     "metadata": {
      "needs_background": "light"
     },
     "output_type": "display_data"
    }
   ],
   "source": [
    "# Scatter Plot (days vs Ad_impression)\n",
    "colors = (0,0,0)\n",
    "#area = np.pi*3\n",
    "plt.scatter(media.day, media.Ad_impression, s=10, c=colors, alpha=0.5)\n",
    "plt.title('Scatter plot Ad_impression')\n",
    "plt.xlabel('x')\n",
    "plt.ylabel('y')\n",
    "plt.show()"
   ]
  },
  {
   "cell_type": "code",
   "execution_count": 33,
   "metadata": {},
   "outputs": [
    {
     "data": {
      "text/plain": [
       "[<matplotlib.lines.Line2D at 0x565a110>]"
      ]
     },
     "execution_count": 33,
     "metadata": {},
     "output_type": "execute_result"
    },
    {
     "data": {
      "image/png": "[encoded data removed]",
      "text/plain": [
       "<Figure size 432x288 with 2 Axes>"
      ]
     },
     "metadata": {
      "needs_background": "light"
     },
     "output_type": "display_data"
    }
   ],
   "source": [
    "#plot day vs Ad_impression and Views_show side by side\n",
    "plt.subplot(1,2,1)\n",
    "plt.plot(media.day,media.Views_show,'g--')\n",
    "plt.subplot(1,2,2)\n",
    "plt.plot(media.day,media.Ad_impression,'g--')"
   ]
  },
  {
   "cell_type": "code",
   "execution_count": 37,
   "metadata": {},
   "outputs": [
    {
     "data": {
      "image/png": "[encoded data removed]",
      "text/plain": [
       "<Figure size 432x288 with 3 Axes>"
      ]
     },
     "metadata": {
      "needs_background": "light"
     },
     "output_type": "display_data"
    }
   ],
   "source": [
    "fig = plt.figure()\n",
    "host = fig.add_subplot(111)\n",
    "\n",
    "par1 = host.twinx()\n",
    "par2 = host.twinx()\n",
    "host.set_xlabel(\"Day\")\n",
    "host.set_ylabel(\"View_Show\")\n",
    "par1.set_ylabel(\"Ad_impression\")\n",
    "color1 = plt.cm.viridis(0)\n",
    "color2 = plt.cm.viridis(0.5)\n",
    "\n",
    "p1, = host.plot(media.day,media.Views_show, color=color1,label=\"View_Show\")\n",
    "p2, = par1.plot(media.day,media.Ad_impression,color=color2, label=\"Ad_impression\")\n",
    "lns = [p1, p2]\n",
    "host.legend(handles=lns, loc='best')\n",
    "\n",
    "# right, left, top, bottom\n",
    "par2.spines['right'].set_position(('outward', 60))    "
   ]
  },
  {
   "cell_type": "code",
   "execution_count": 49,
   "metadata": {},
   "outputs": [
    {
     "data": {
      "text/plain": [
       "[<matplotlib.lines.Line2D at 0x699d430>]"
      ]
     },
     "execution_count": 49,
     "metadata": {},
     "output_type": "execute_result"
    },
    {
     "data": {
      "image/png": "[encoded data removed]",
      "text/plain": [
       "<Figure size 432x288 with 2 Axes>"
      ]
     },
     "metadata": {
      "needs_background": "light"
     },
     "output_type": "display_data"
    }
   ],
   "source": [
    "x=media['day']\n",
    "y=media['Views_show']\n",
    "y1=media['Ad_impression']\n",
    "plt.subplot(1,2,1)\n",
    "plt.plot(x,y, 'r-') # more on color options later\n",
    "plt.subplot(1,2,2)\n",
    "plt.plot(x,y1, 'r-')"
   ]
  },
  {
   "cell_type": "code",
   "execution_count": 51,
   "metadata": {},
   "outputs": [
    {
     "data": {
      "text/plain": [
       "[<matplotlib.lines.Line2D at 0xb4676f0>]"
      ]
     },
     "execution_count": 51,
     "metadata": {},
     "output_type": "execute_result"
    },
    {
     "data": {
      "image/png": "[encoded data removed]",
      "text/plain": [
       "<Figure size 432x288 with 2 Axes>"
      ]
     },
     "metadata": {
      "needs_background": "light"
     },
     "output_type": "display_data"
    }
   ],
   "source": [
    "x = media['day']\n",
    "y1 = media['Ad_impression']\n",
    "y2 = media['Views_show']\n",
    "\n",
    "ax2,ax1 = plt.subplots()\n",
    "ax2 = ax1.twinx()\n",
    "ax1.plot(x, y1, 'g-')\n",
    "ax2.plot(x, y2, 'b-')   "
   ]
  },
  {
   "cell_type": "code",
   "execution_count": 54,
   "metadata": {},
   "outputs": [
    {
     "data": {
      "text/plain": [
       "(array([12., 26., 17.,  7.,  4.,  5.,  2.,  1.,  4.,  2.]),\n",
       " array([102520. , 168131.1, 233742.2, 299353.3, 364964.4, 430575.5,\n",
       "        496186.6, 561797.7, 627408.8, 693019.9, 758631. ]),\n",
       " <a list of 10 Patch objects>)"
      ]
     },
     "execution_count": 54,
     "metadata": {},
     "output_type": "execute_result"
    },
    {
     "data": {
      "image/png": "[encoded data removed]",
      "text/plain": [
       "<Figure size 432x288 with 1 Axes>"
      ]
     },
     "metadata": {
      "needs_background": "light"
     },
     "output_type": "display_data"
    }
   ],
   "source": [
    "# Create the plot\n",
    "plt.hist(media['Views_show'], histtype='bar', rwidth=0.9)"
   ]
  },
  {
   "cell_type": "code",
   "execution_count": 86,
   "metadata": {},
   "outputs": [
    {
     "name": "stdout",
     "output_type": "stream",
     "text": [
      "Wednesday\n"
     ]
    }
   ],
   "source": [
    "import datetime \n",
    "import calendar \n",
    "  \n",
    "def findDay(date): \n",
    "    born = datetime.datetime.strptime(date, '%d %m %Y').weekday() \n",
    "    return (calendar.day_name[born]) \n",
    "  \n",
    "# Driver program \n",
    "date = '1 03 2017'\n",
    "print(findDay(date)) "
   ]
  },
  {
   "cell_type": "code",
   "execution_count": 63,
   "metadata": {},
   "outputs": [],
   "source": [
    "media['Weekend'] = pd.to_datetime(media['Date']).dt.dayofweek  # monday = 0, sunday = 6"
   ]
  },
  {
   "cell_type": "code",
   "execution_count": 73,
   "metadata": {},
   "outputs": [
    {
     "data": {
      "text/html": [
       "<div>\n",
       "<style scoped>\n",
       "    .dataframe tbody tr th:only-of-type {\n",
       "        vertical-align: middle;\n",
       "    }\n",
       "\n",
       "    .dataframe tbody tr th {\n",
       "        vertical-align: top;\n",
       "    }\n",
       "\n",
       "    .dataframe thead th {\n",
       "        text-align: right;\n",
       "    }\n",
       "</style>\n",
       "<table border=\"1\" class=\"dataframe\">\n",
       "  <thead>\n",
       "    <tr style=\"text-align: right;\">\n",
       "      <th></th>\n",
       "      <th>Date</th>\n",
       "      <th>Views_show</th>\n",
       "      <th>Visitors</th>\n",
       "      <th>Views_platform</th>\n",
       "      <th>Ad_impression</th>\n",
       "      <th>Cricket_match_india</th>\n",
       "      <th>Character_A</th>\n",
       "      <th>day</th>\n",
       "      <th>WEEKDAY</th>\n",
       "      <th>Weekend</th>\n",
       "    </tr>\n",
       "  </thead>\n",
       "  <tbody>\n",
       "    <tr>\n",
       "      <td>0</td>\n",
       "      <td>2017-03-01</td>\n",
       "      <td>183738</td>\n",
       "      <td>1260228</td>\n",
       "      <td>1706478</td>\n",
       "      <td>1060860448</td>\n",
       "      <td>0</td>\n",
       "      <td>0</td>\n",
       "      <td>1</td>\n",
       "      <td>2</td>\n",
       "      <td>2</td>\n",
       "    </tr>\n",
       "    <tr>\n",
       "      <td>1</td>\n",
       "      <td>2017-03-02</td>\n",
       "      <td>193763</td>\n",
       "      <td>1270561</td>\n",
       "      <td>1690727</td>\n",
       "      <td>1031846645</td>\n",
       "      <td>0</td>\n",
       "      <td>0</td>\n",
       "      <td>2</td>\n",
       "      <td>3</td>\n",
       "      <td>3</td>\n",
       "    </tr>\n",
       "    <tr>\n",
       "      <td>2</td>\n",
       "      <td>2017-03-03</td>\n",
       "      <td>210479</td>\n",
       "      <td>1248183</td>\n",
       "      <td>1726157</td>\n",
       "      <td>1010867575</td>\n",
       "      <td>0</td>\n",
       "      <td>0</td>\n",
       "      <td>3</td>\n",
       "      <td>4</td>\n",
       "      <td>4</td>\n",
       "    </tr>\n",
       "    <tr>\n",
       "      <td>3</td>\n",
       "      <td>2017-03-04</td>\n",
       "      <td>240061</td>\n",
       "      <td>1492913</td>\n",
       "      <td>1855353</td>\n",
       "      <td>1079194579</td>\n",
       "      <td>1</td>\n",
       "      <td>0</td>\n",
       "      <td>4</td>\n",
       "      <td>5</td>\n",
       "      <td>5</td>\n",
       "    </tr>\n",
       "    <tr>\n",
       "      <td>4</td>\n",
       "      <td>2017-03-05</td>\n",
       "      <td>446314</td>\n",
       "      <td>1594712</td>\n",
       "      <td>2041418</td>\n",
       "      <td>1357736987</td>\n",
       "      <td>0</td>\n",
       "      <td>0</td>\n",
       "      <td>5</td>\n",
       "      <td>6</td>\n",
       "      <td>6</td>\n",
       "    </tr>\n",
       "  </tbody>\n",
       "</table>\n",
       "</div>"
      ],
      "text/plain": [
       "        Date  Views_show  Visitors  Views_platform  Ad_impression  \\\n",
       "0 2017-03-01      183738   1260228         1706478     1060860448   \n",
       "1 2017-03-02      193763   1270561         1690727     1031846645   \n",
       "2 2017-03-03      210479   1248183         1726157     1010867575   \n",
       "3 2017-03-04      240061   1492913         1855353     1079194579   \n",
       "4 2017-03-05      446314   1594712         2041418     1357736987   \n",
       "\n",
       "   Cricket_match_india  Character_A  day  WEEKDAY  Weekend  \n",
       "0                    0            0    1        2        2  \n",
       "1                    0            0    2        3        3  \n",
       "2                    0            0    3        4        4  \n",
       "3                    1            0    4        5        5  \n",
       "4                    0            0    5        6        6  "
      ]
     },
     "execution_count": 73,
     "metadata": {},
     "output_type": "execute_result"
    }
   ],
   "source": [
    "media.head()"
   ]
  },
  {
   "cell_type": "code",
   "execution_count": 65,
   "metadata": {},
   "outputs": [
    {
     "data": {
      "text/html": [
       "<div>\n",
       "<style scoped>\n",
       "    .dataframe tbody tr th:only-of-type {\n",
       "        vertical-align: middle;\n",
       "    }\n",
       "\n",
       "    .dataframe tbody tr th {\n",
       "        vertical-align: top;\n",
       "    }\n",
       "\n",
       "    .dataframe thead th {\n",
       "        text-align: right;\n",
       "    }\n",
       "</style>\n",
       "<table border=\"1\" class=\"dataframe\">\n",
       "  <thead>\n",
       "    <tr style=\"text-align: right;\">\n",
       "      <th></th>\n",
       "      <th>Date</th>\n",
       "      <th>Views_show</th>\n",
       "      <th>Visitors</th>\n",
       "      <th>Views_platform</th>\n",
       "      <th>Ad_impression</th>\n",
       "      <th>Cricket_match_india</th>\n",
       "      <th>Character_A</th>\n",
       "      <th>day</th>\n",
       "      <th>WEEKDAY</th>\n",
       "      <th>Weekend</th>\n",
       "    </tr>\n",
       "  </thead>\n",
       "  <tbody>\n",
       "    <tr>\n",
       "      <td>75</td>\n",
       "      <td>2017-05-15</td>\n",
       "      <td>313945</td>\n",
       "      <td>1808684</td>\n",
       "      <td>2226788</td>\n",
       "      <td>1398052759</td>\n",
       "      <td>1</td>\n",
       "      <td>0</td>\n",
       "      <td>76</td>\n",
       "      <td>0</td>\n",
       "      <td>0</td>\n",
       "    </tr>\n",
       "    <tr>\n",
       "      <td>76</td>\n",
       "      <td>2017-05-16</td>\n",
       "      <td>185689</td>\n",
       "      <td>1814227</td>\n",
       "      <td>2199844</td>\n",
       "      <td>1311961223</td>\n",
       "      <td>1</td>\n",
       "      <td>0</td>\n",
       "      <td>77</td>\n",
       "      <td>1</td>\n",
       "      <td>1</td>\n",
       "    </tr>\n",
       "    <tr>\n",
       "      <td>77</td>\n",
       "      <td>2017-05-17</td>\n",
       "      <td>142260</td>\n",
       "      <td>1755803</td>\n",
       "      <td>2225752</td>\n",
       "      <td>1248266254</td>\n",
       "      <td>1</td>\n",
       "      <td>0</td>\n",
       "      <td>78</td>\n",
       "      <td>2</td>\n",
       "      <td>2</td>\n",
       "    </tr>\n",
       "    <tr>\n",
       "      <td>78</td>\n",
       "      <td>2017-05-18</td>\n",
       "      <td>135871</td>\n",
       "      <td>1749654</td>\n",
       "      <td>2302789</td>\n",
       "      <td>1284859759</td>\n",
       "      <td>1</td>\n",
       "      <td>0</td>\n",
       "      <td>79</td>\n",
       "      <td>3</td>\n",
       "      <td>3</td>\n",
       "    </tr>\n",
       "    <tr>\n",
       "      <td>79</td>\n",
       "      <td>2017-05-19</td>\n",
       "      <td>108961</td>\n",
       "      <td>1746735</td>\n",
       "      <td>2279036</td>\n",
       "      <td>1246026846</td>\n",
       "      <td>1</td>\n",
       "      <td>0</td>\n",
       "      <td>80</td>\n",
       "      <td>4</td>\n",
       "      <td>4</td>\n",
       "    </tr>\n",
       "  </tbody>\n",
       "</table>\n",
       "</div>"
      ],
      "text/plain": [
       "         Date  Views_show  Visitors  Views_platform  Ad_impression  \\\n",
       "75 2017-05-15      313945   1808684         2226788     1398052759   \n",
       "76 2017-05-16      185689   1814227         2199844     1311961223   \n",
       "77 2017-05-17      142260   1755803         2225752     1248266254   \n",
       "78 2017-05-18      135871   1749654         2302789     1284859759   \n",
       "79 2017-05-19      108961   1746735         2279036     1246026846   \n",
       "\n",
       "    Cricket_match_india  Character_A  day  WEEKDAY  Weekend  \n",
       "75                    1            0   76        0        0  \n",
       "76                    1            0   77        1        1  \n",
       "77                    1            0   78        2        2  \n",
       "78                    1            0   79        3        3  \n",
       "79                    1            0   80        4        4  "
      ]
     },
     "execution_count": 65,
     "metadata": {},
     "output_type": "execute_result"
    }
   ],
   "source": [
    "media.tail()"
   ]
  },
  {
   "cell_type": "code",
   "execution_count": 66,
   "metadata": {},
   "outputs": [
    {
     "data": {
      "text/plain": [
       "0     2\n",
       "1     3\n",
       "2     4\n",
       "3     5\n",
       "4     6\n",
       "     ..\n",
       "75    0\n",
       "76    1\n",
       "77    2\n",
       "78    3\n",
       "79    4\n",
       "Name: Weekend, Length: 80, dtype: int64"
      ]
     },
     "execution_count": 66,
     "metadata": {},
     "output_type": "execute_result"
    }
   ],
   "source": [
    "media['Weekend']"
   ]
  },
  {
   "cell_type": "code",
   "execution_count": 87,
   "metadata": {},
   "outputs": [
    {
     "data": {
      "text/html": [
       "<div>\n",
       "<style scoped>\n",
       "    .dataframe tbody tr th:only-of-type {\n",
       "        vertical-align: middle;\n",
       "    }\n",
       "\n",
       "    .dataframe tbody tr th {\n",
       "        vertical-align: top;\n",
       "    }\n",
       "\n",
       "    .dataframe thead th {\n",
       "        text-align: right;\n",
       "    }\n",
       "</style>\n",
       "<table border=\"1\" class=\"dataframe\">\n",
       "  <thead>\n",
       "    <tr style=\"text-align: right;\">\n",
       "      <th></th>\n",
       "      <th>Date</th>\n",
       "      <th>Views_show</th>\n",
       "      <th>Visitors</th>\n",
       "      <th>Views_platform</th>\n",
       "      <th>Ad_impression</th>\n",
       "      <th>Cricket_match_india</th>\n",
       "      <th>Character_A</th>\n",
       "      <th>day</th>\n",
       "      <th>Weekend</th>\n",
       "      <th>weekday</th>\n",
       "    </tr>\n",
       "  </thead>\n",
       "  <tbody>\n",
       "    <tr>\n",
       "      <td>0</td>\n",
       "      <td>2017-03-01</td>\n",
       "      <td>183738</td>\n",
       "      <td>1260228</td>\n",
       "      <td>1706478</td>\n",
       "      <td>1060860448</td>\n",
       "      <td>0</td>\n",
       "      <td>0</td>\n",
       "      <td>1</td>\n",
       "      <td>2</td>\n",
       "      <td>4</td>\n",
       "    </tr>\n",
       "    <tr>\n",
       "      <td>1</td>\n",
       "      <td>2017-03-02</td>\n",
       "      <td>193763</td>\n",
       "      <td>1270561</td>\n",
       "      <td>1690727</td>\n",
       "      <td>1031846645</td>\n",
       "      <td>0</td>\n",
       "      <td>0</td>\n",
       "      <td>2</td>\n",
       "      <td>3</td>\n",
       "      <td>5</td>\n",
       "    </tr>\n",
       "    <tr>\n",
       "      <td>2</td>\n",
       "      <td>2017-03-03</td>\n",
       "      <td>210479</td>\n",
       "      <td>1248183</td>\n",
       "      <td>1726157</td>\n",
       "      <td>1010867575</td>\n",
       "      <td>0</td>\n",
       "      <td>0</td>\n",
       "      <td>3</td>\n",
       "      <td>4</td>\n",
       "      <td>6</td>\n",
       "    </tr>\n",
       "    <tr>\n",
       "      <td>3</td>\n",
       "      <td>2017-03-04</td>\n",
       "      <td>240061</td>\n",
       "      <td>1492913</td>\n",
       "      <td>1855353</td>\n",
       "      <td>1079194579</td>\n",
       "      <td>1</td>\n",
       "      <td>0</td>\n",
       "      <td>4</td>\n",
       "      <td>5</td>\n",
       "      <td>7</td>\n",
       "    </tr>\n",
       "    <tr>\n",
       "      <td>4</td>\n",
       "      <td>2017-03-05</td>\n",
       "      <td>446314</td>\n",
       "      <td>1594712</td>\n",
       "      <td>2041418</td>\n",
       "      <td>1357736987</td>\n",
       "      <td>0</td>\n",
       "      <td>0</td>\n",
       "      <td>5</td>\n",
       "      <td>6</td>\n",
       "      <td>1</td>\n",
       "    </tr>\n",
       "  </tbody>\n",
       "</table>\n",
       "</div>"
      ],
      "text/plain": [
       "        Date  Views_show  Visitors  Views_platform  Ad_impression  \\\n",
       "0 2017-03-01      183738   1260228         1706478     1060860448   \n",
       "1 2017-03-02      193763   1270561         1690727     1031846645   \n",
       "2 2017-03-03      210479   1248183         1726157     1010867575   \n",
       "3 2017-03-04      240061   1492913         1855353     1079194579   \n",
       "4 2017-03-05      446314   1594712         2041418     1357736987   \n",
       "\n",
       "   Cricket_match_india  Character_A  day  Weekend  weekday  \n",
       "0                    0            0    1        2        4  \n",
       "1                    0            0    2        3        5  \n",
       "2                    0            0    3        4        6  \n",
       "3                    1            0    4        5        7  \n",
       "4                    0            0    5        6        1  "
      ]
     },
     "execution_count": 87,
     "metadata": {},
     "output_type": "execute_result"
    }
   ],
   "source": [
    "# Derived Metrics\n",
    "# Weekdays are taken such that 1 corresponds to Sunday and 7 to Saturday\n",
    "# Generate the weekday variable\n",
    "media['weekday'] = (media['day']+3)%7   ### why add 3 --> 1st day was WEDNESDAY..\n",
    "media.weekday.replace(0,7, inplace=True)\n",
    "media['weekday'] = media['weekday'].astype(int)\n",
    "media.head()"
   ]
  },
  {
   "cell_type": "code",
   "execution_count": 89,
   "metadata": {},
   "outputs": [
    {
     "data": {
      "text/plain": [
       "<matplotlib.axes._subplots.AxesSubplot at 0xc70cc70>"
      ]
     },
     "execution_count": 89,
     "metadata": {},
     "output_type": "execute_result"
    },
    {
     "data": {
      "image/png": "[encoded data removed]",
      "text/plain": [
       "<Figure size 432x288 with 1 Axes>"
      ]
     },
     "metadata": {
      "needs_background": "light"
     },
     "output_type": "display_data"
    }
   ],
   "source": [
    "media.plot.line(x= 'weekday', y='Views_show')"
   ]
  },
  {
   "cell_type": "code",
   "execution_count": 90,
   "metadata": {},
   "outputs": [
    {
     "data": {
      "text/plain": [
       "<BarContainer object of 80 artists>"
      ]
     },
     "execution_count": 90,
     "metadata": {},
     "output_type": "execute_result"
    },
    {
     "data": {
      "image/png": "[encoded data removed]",
      "text/plain": [
       "<Figure size 432x288 with 1 Axes>"
      ]
     },
     "metadata": {
      "needs_background": "light"
     },
     "output_type": "display_data"
    }
   ],
   "source": [
    "plt.bar(media['weekday'],media['Views_show'])"
   ]
  },
  {
   "cell_type": "code",
   "execution_count": 92,
   "metadata": {},
   "outputs": [
    {
     "data": {
      "text/plain": [
       "<BarContainer object of 80 artists>"
      ]
     },
     "execution_count": 92,
     "metadata": {},
     "output_type": "execute_result"
    },
    {
     "data": {
      "image/png": "[encoded data removed]",
      "text/plain": [
       "<Figure size 432x288 with 1 Axes>"
      ]
     },
     "metadata": {
      "needs_background": "light"
     },
     "output_type": "display_data"
    }
   ],
   "source": [
    "plt.bar(media['weekday'], media['Views_platform'])"
   ]
  },
  {
   "cell_type": "markdown",
   "metadata": {},
   "source": [
    "# Running 1st model weekday & visters -- linear regresion\n"
   ]
  },
  {
   "cell_type": "code",
   "execution_count": 99,
   "metadata": {},
   "outputs": [
    {
     "name": "stderr",
     "output_type": "stream",
     "text": [
      "C:\\Users\\mrspider\\Anaconda3\\lib\\site-packages\\numpy\\core\\fromnumeric.py:2389: FutureWarning: Method .ptp is deprecated and will be removed in a future version. Use numpy.ptp instead.\n",
      "  return ptp(axis=axis, out=out, **kwargs)\n"
     ]
    },
    {
     "name": "stdout",
     "output_type": "stream",
     "text": [
      "                            OLS Regression Results                            \n",
      "==============================================================================\n",
      "Dep. Variable:             Views_show   R-squared:                       0.485\n",
      "Model:                            OLS   Adj. R-squared:                  0.472\n",
      "Method:                 Least Squares   F-statistic:                     36.26\n",
      "Date:                Wed, 18 Nov 2020   Prob (F-statistic):           8.01e-12\n",
      "Time:                        11:20:31   Log-Likelihood:                -1042.5\n",
      "No. Observations:                  80   AIC:                             2091.\n",
      "Df Residuals:                      77   BIC:                             2098.\n",
      "Df Model:                           2                                         \n",
      "Covariance Type:            nonrobust                                         \n",
      "==============================================================================\n",
      "                 coef    std err          t      P>|t|      [0.025      0.975]\n",
      "------------------------------------------------------------------------------\n",
      "const      -3.862e+04   1.07e+05     -0.360      0.720   -2.52e+05    1.75e+05\n",
      "Visitors       0.2787      0.057      4.911      0.000       0.166       0.392\n",
      "weekday    -3.591e+04   6591.205     -5.448      0.000    -4.9e+04   -2.28e+04\n",
      "==============================================================================\n",
      "Omnibus:                        2.684   Durbin-Watson:                   0.650\n",
      "Prob(Omnibus):                  0.261   Jarque-Bera (JB):                2.653\n",
      "Skew:                           0.423   Prob(JB):                        0.265\n",
      "Kurtosis:                       2.718   Cond. No.                     1.46e+07\n",
      "==============================================================================\n",
      "\n",
      "Warnings:\n",
      "[1] Standard Errors assume that the covariance matrix of the errors is correctly specified.\n",
      "[2] The condition number is large, 1.46e+07. This might indicate that there are\n",
      "strong multicollinearity or other numerical problems.\n"
     ]
    }
   ],
   "source": [
    "\n",
    "# #### Running first model (lm1) Weekday & visitors \n",
    "\n",
    "# Putting feature variable to X\n",
    "X = media[['Visitors','weekday']]\n",
    "\n",
    "# Putting response variable to y\n",
    "y = media['Views_show']\n",
    "\n",
    "\n",
    "from sklearn.linear_model import LinearRegression\n",
    "\n",
    "\n",
    "# Representing LinearRegression as lr(Creating LinearRegression Object)\n",
    "lm = LinearRegression()\n",
    "\n",
    "\n",
    "\n",
    "\n",
    "# fit the model to the training data\n",
    "lm.fit(X,y)\n",
    "\n",
    "\n",
    "\n",
    "import statsmodels.api as sm\n",
    "#Unlike SKLearn, statsmodels don't automatically fit a constant, \n",
    "#so you need to use the method sm.add_constant(X) in order to add a constant. \n",
    "X = sm.add_constant(X)\n",
    "# create a fitted model in one line\n",
    "lm_1 = sm.OLS(y,X).fit()\n",
    "print(lm_1.summary())\n"
   ]
  },
  {
   "cell_type": "code",
   "execution_count": 100,
   "metadata": {},
   "outputs": [],
   "source": [
    "#Create Weekend variable, with value 1 at weekends and weekend 0 at weekdays"
   ]
  },
  {
   "cell_type": "code",
   "execution_count": 116,
   "metadata": {},
   "outputs": [],
   "source": [
    "media['weekends'] = np.where((media['Date'].dt.dayofweek) < 5,0,1)"
   ]
  },
  {
   "cell_type": "code",
   "execution_count": 117,
   "metadata": {},
   "outputs": [
    {
     "data": {
      "text/html": [
       "<div>\n",
       "<style scoped>\n",
       "    .dataframe tbody tr th:only-of-type {\n",
       "        vertical-align: middle;\n",
       "    }\n",
       "\n",
       "    .dataframe tbody tr th {\n",
       "        vertical-align: top;\n",
       "    }\n",
       "\n",
       "    .dataframe thead th {\n",
       "        text-align: right;\n",
       "    }\n",
       "</style>\n",
       "<table border=\"1\" class=\"dataframe\">\n",
       "  <thead>\n",
       "    <tr style=\"text-align: right;\">\n",
       "      <th></th>\n",
       "      <th>Date</th>\n",
       "      <th>Views_show</th>\n",
       "      <th>Visitors</th>\n",
       "      <th>Views_platform</th>\n",
       "      <th>Ad_impression</th>\n",
       "      <th>Cricket_match_india</th>\n",
       "      <th>Character_A</th>\n",
       "      <th>day</th>\n",
       "      <th>weekday</th>\n",
       "      <th>weekends</th>\n",
       "    </tr>\n",
       "  </thead>\n",
       "  <tbody>\n",
       "    <tr>\n",
       "      <td>0</td>\n",
       "      <td>2017-03-01</td>\n",
       "      <td>183738</td>\n",
       "      <td>1260228</td>\n",
       "      <td>1706478</td>\n",
       "      <td>1060860448</td>\n",
       "      <td>0</td>\n",
       "      <td>0</td>\n",
       "      <td>1</td>\n",
       "      <td>4</td>\n",
       "      <td>0</td>\n",
       "    </tr>\n",
       "    <tr>\n",
       "      <td>1</td>\n",
       "      <td>2017-03-02</td>\n",
       "      <td>193763</td>\n",
       "      <td>1270561</td>\n",
       "      <td>1690727</td>\n",
       "      <td>1031846645</td>\n",
       "      <td>0</td>\n",
       "      <td>0</td>\n",
       "      <td>2</td>\n",
       "      <td>5</td>\n",
       "      <td>0</td>\n",
       "    </tr>\n",
       "    <tr>\n",
       "      <td>2</td>\n",
       "      <td>2017-03-03</td>\n",
       "      <td>210479</td>\n",
       "      <td>1248183</td>\n",
       "      <td>1726157</td>\n",
       "      <td>1010867575</td>\n",
       "      <td>0</td>\n",
       "      <td>0</td>\n",
       "      <td>3</td>\n",
       "      <td>6</td>\n",
       "      <td>0</td>\n",
       "    </tr>\n",
       "    <tr>\n",
       "      <td>3</td>\n",
       "      <td>2017-03-04</td>\n",
       "      <td>240061</td>\n",
       "      <td>1492913</td>\n",
       "      <td>1855353</td>\n",
       "      <td>1079194579</td>\n",
       "      <td>1</td>\n",
       "      <td>0</td>\n",
       "      <td>4</td>\n",
       "      <td>7</td>\n",
       "      <td>1</td>\n",
       "    </tr>\n",
       "    <tr>\n",
       "      <td>4</td>\n",
       "      <td>2017-03-05</td>\n",
       "      <td>446314</td>\n",
       "      <td>1594712</td>\n",
       "      <td>2041418</td>\n",
       "      <td>1357736987</td>\n",
       "      <td>0</td>\n",
       "      <td>0</td>\n",
       "      <td>5</td>\n",
       "      <td>1</td>\n",
       "      <td>1</td>\n",
       "    </tr>\n",
       "  </tbody>\n",
       "</table>\n",
       "</div>"
      ],
      "text/plain": [
       "        Date  Views_show  Visitors  Views_platform  Ad_impression  \\\n",
       "0 2017-03-01      183738   1260228         1706478     1060860448   \n",
       "1 2017-03-02      193763   1270561         1690727     1031846645   \n",
       "2 2017-03-03      210479   1248183         1726157     1010867575   \n",
       "3 2017-03-04      240061   1492913         1855353     1079194579   \n",
       "4 2017-03-05      446314   1594712         2041418     1357736987   \n",
       "\n",
       "   Cricket_match_india  Character_A  day  weekday  weekends  \n",
       "0                    0            0    1        4         0  \n",
       "1                    0            0    2        5         0  \n",
       "2                    0            0    3        6         0  \n",
       "3                    1            0    4        7         1  \n",
       "4                    0            0    5        1         1  "
      ]
     },
     "execution_count": 117,
     "metadata": {},
     "output_type": "execute_result"
    }
   ],
   "source": [
    "media.head()"
   ]
  },
  {
   "cell_type": "code",
   "execution_count": 118,
   "metadata": {},
   "outputs": [
    {
     "data": {
      "text/html": [
       "<div>\n",
       "<style scoped>\n",
       "    .dataframe tbody tr th:only-of-type {\n",
       "        vertical-align: middle;\n",
       "    }\n",
       "\n",
       "    .dataframe tbody tr th {\n",
       "        vertical-align: top;\n",
       "    }\n",
       "\n",
       "    .dataframe thead th {\n",
       "        text-align: right;\n",
       "    }\n",
       "</style>\n",
       "<table border=\"1\" class=\"dataframe\">\n",
       "  <thead>\n",
       "    <tr style=\"text-align: right;\">\n",
       "      <th></th>\n",
       "      <th>Date</th>\n",
       "      <th>Views_show</th>\n",
       "      <th>Visitors</th>\n",
       "      <th>Views_platform</th>\n",
       "      <th>Ad_impression</th>\n",
       "      <th>Cricket_match_india</th>\n",
       "      <th>Character_A</th>\n",
       "      <th>day</th>\n",
       "      <th>weekday</th>\n",
       "      <th>weekends</th>\n",
       "    </tr>\n",
       "  </thead>\n",
       "  <tbody>\n",
       "    <tr>\n",
       "      <td>75</td>\n",
       "      <td>2017-05-15</td>\n",
       "      <td>313945</td>\n",
       "      <td>1808684</td>\n",
       "      <td>2226788</td>\n",
       "      <td>1398052759</td>\n",
       "      <td>1</td>\n",
       "      <td>0</td>\n",
       "      <td>76</td>\n",
       "      <td>2</td>\n",
       "      <td>0</td>\n",
       "    </tr>\n",
       "    <tr>\n",
       "      <td>76</td>\n",
       "      <td>2017-05-16</td>\n",
       "      <td>185689</td>\n",
       "      <td>1814227</td>\n",
       "      <td>2199844</td>\n",
       "      <td>1311961223</td>\n",
       "      <td>1</td>\n",
       "      <td>0</td>\n",
       "      <td>77</td>\n",
       "      <td>3</td>\n",
       "      <td>0</td>\n",
       "    </tr>\n",
       "    <tr>\n",
       "      <td>77</td>\n",
       "      <td>2017-05-17</td>\n",
       "      <td>142260</td>\n",
       "      <td>1755803</td>\n",
       "      <td>2225752</td>\n",
       "      <td>1248266254</td>\n",
       "      <td>1</td>\n",
       "      <td>0</td>\n",
       "      <td>78</td>\n",
       "      <td>4</td>\n",
       "      <td>0</td>\n",
       "    </tr>\n",
       "    <tr>\n",
       "      <td>78</td>\n",
       "      <td>2017-05-18</td>\n",
       "      <td>135871</td>\n",
       "      <td>1749654</td>\n",
       "      <td>2302789</td>\n",
       "      <td>1284859759</td>\n",
       "      <td>1</td>\n",
       "      <td>0</td>\n",
       "      <td>79</td>\n",
       "      <td>5</td>\n",
       "      <td>0</td>\n",
       "    </tr>\n",
       "    <tr>\n",
       "      <td>79</td>\n",
       "      <td>2017-05-19</td>\n",
       "      <td>108961</td>\n",
       "      <td>1746735</td>\n",
       "      <td>2279036</td>\n",
       "      <td>1246026846</td>\n",
       "      <td>1</td>\n",
       "      <td>0</td>\n",
       "      <td>80</td>\n",
       "      <td>6</td>\n",
       "      <td>0</td>\n",
       "    </tr>\n",
       "  </tbody>\n",
       "</table>\n",
       "</div>"
      ],
      "text/plain": [
       "         Date  Views_show  Visitors  Views_platform  Ad_impression  \\\n",
       "75 2017-05-15      313945   1808684         2226788     1398052759   \n",
       "76 2017-05-16      185689   1814227         2199844     1311961223   \n",
       "77 2017-05-17      142260   1755803         2225752     1248266254   \n",
       "78 2017-05-18      135871   1749654         2302789     1284859759   \n",
       "79 2017-05-19      108961   1746735         2279036     1246026846   \n",
       "\n",
       "    Cricket_match_india  Character_A  day  weekday  weekends  \n",
       "75                    1            0   76        2         0  \n",
       "76                    1            0   77        3         0  \n",
       "77                    1            0   78        4         0  \n",
       "78                    1            0   79        5         0  \n",
       "79                    1            0   80        6         0  "
      ]
     },
     "execution_count": 118,
     "metadata": {},
     "output_type": "execute_result"
    }
   ],
   "source": [
    "media.tail()"
   ]
  },
  {
   "cell_type": "code",
   "execution_count": 120,
   "metadata": {},
   "outputs": [
    {
     "name": "stdout",
     "output_type": "stream",
     "text": [
      "                            OLS Regression Results                            \n",
      "==============================================================================\n",
      "Dep. Variable:             Views_show   R-squared:                       0.500\n",
      "Model:                            OLS   Adj. R-squared:                  0.487\n",
      "Method:                 Least Squares   F-statistic:                     38.55\n",
      "Date:                Wed, 18 Nov 2020   Prob (F-statistic):           2.51e-12\n",
      "Time:                        11:39:21   Log-Likelihood:                -1041.3\n",
      "No. Observations:                  80   AIC:                             2089.\n",
      "Df Residuals:                      77   BIC:                             2096.\n",
      "Df Model:                           2                                         \n",
      "Covariance Type:            nonrobust                                         \n",
      "==============================================================================\n",
      "                 coef    std err          t      P>|t|      [0.025      0.975]\n",
      "------------------------------------------------------------------------------\n",
      "const      -8.833e+04   1.01e+05     -0.875      0.384   -2.89e+05    1.13e+05\n",
      "Visitors       0.1934      0.061      3.160      0.002       0.071       0.315\n",
      "weekends    1.807e+05   3.15e+04      5.740      0.000    1.18e+05    2.43e+05\n",
      "==============================================================================\n",
      "Omnibus:                        1.302   Durbin-Watson:                   1.254\n",
      "Prob(Omnibus):                  0.521   Jarque-Bera (JB):                1.367\n",
      "Skew:                           0.270   Prob(JB):                        0.505\n",
      "Kurtosis:                       2.656   Cond. No.                     1.41e+07\n",
      "==============================================================================\n",
      "\n",
      "Warnings:\n",
      "[1] Standard Errors assume that the covariance matrix of the errors is correctly specified.\n",
      "[2] The condition number is large, 1.41e+07. This might indicate that there are\n",
      "strong multicollinearity or other numerical problems.\n"
     ]
    },
    {
     "name": "stderr",
     "output_type": "stream",
     "text": [
      "C:\\Users\\mrspider\\Anaconda3\\lib\\site-packages\\numpy\\core\\fromnumeric.py:2389: FutureWarning: Method .ptp is deprecated and will be removed in a future version. Use numpy.ptp instead.\n",
      "  return ptp(axis=axis, out=out, **kwargs)\n"
     ]
    }
   ],
   "source": [
    "\n",
    "# #### Running first model (lm1) Weekday & visitors \n",
    "\n",
    "# Putting feature variable to X\n",
    "X1 = media[['Visitors','weekends']]\n",
    "\n",
    "# Putting response variable to y\n",
    "y = media['Views_show']\n",
    "\n",
    "\n",
    "from sklearn.linear_model import LinearRegression\n",
    "\n",
    "\n",
    "# Representing LinearRegression as lr(Creating LinearRegression Object)\n",
    "lm = LinearRegression()\n",
    "\n",
    "\n",
    "\n",
    "\n",
    "# fit the model to the training data\n",
    "lm.fit(X1,y)\n",
    "\n",
    "\n",
    "\n",
    "import statsmodels.api as sm\n",
    "#Unlike SKLearn, statsmodels don't automatically fit a constant, \n",
    "#so you need to use the method sm.add_constant(X) in order to add a constant. \n",
    "X1 = sm.add_constant(X1)\n",
    "# create a fitted model in one line\n",
    "lm_1 = sm.OLS(y,X1).fit()\n",
    "print(lm_1.summary())\n"
   ]
  },
  {
   "cell_type": "code",
   "execution_count": 126,
   "metadata": {},
   "outputs": [
    {
     "name": "stdout",
     "output_type": "stream",
     "text": [
      "                            OLS Regression Results                            \n",
      "==============================================================================\n",
      "Dep. Variable:             Views_show   R-squared:                       0.586\n",
      "Model:                            OLS   Adj. R-squared:                  0.570\n",
      "Method:                 Least Squares   F-statistic:                     35.84\n",
      "Date:                Wed, 18 Nov 2020   Prob (F-statistic):           1.53e-14\n",
      "Time:                        11:49:32   Log-Likelihood:                -1033.8\n",
      "No. Observations:                  80   AIC:                             2076.\n",
      "Df Residuals:                      76   BIC:                             2085.\n",
      "Df Model:                           3                                         \n",
      "Covariance Type:            nonrobust                                         \n",
      "===============================================================================\n",
      "                  coef    std err          t      P>|t|      [0.025      0.975]\n",
      "-------------------------------------------------------------------------------\n",
      "const       -4.722e+04   9.31e+04     -0.507      0.613   -2.33e+05    1.38e+05\n",
      "Visitors        0.1480      0.057      2.586      0.012       0.034       0.262\n",
      "weekends     1.812e+05   2.89e+04      6.281      0.000    1.24e+05    2.39e+05\n",
      "Character_A  9.542e+04   2.41e+04      3.963      0.000    4.75e+04    1.43e+05\n",
      "==============================================================================\n",
      "Omnibus:                        0.908   Durbin-Watson:                   1.600\n",
      "Prob(Omnibus):                  0.635   Jarque-Bera (JB):                0.876\n",
      "Skew:                          -0.009   Prob(JB):                        0.645\n",
      "Kurtosis:                       2.488   Cond. No.                     1.42e+07\n",
      "==============================================================================\n",
      "\n",
      "Warnings:\n",
      "[1] Standard Errors assume that the covariance matrix of the errors is correctly specified.\n",
      "[2] The condition number is large, 1.42e+07. This might indicate that there are\n",
      "strong multicollinearity or other numerical problems.\n"
     ]
    },
    {
     "name": "stderr",
     "output_type": "stream",
     "text": [
      "C:\\Users\\mrspider\\Anaconda3\\lib\\site-packages\\numpy\\core\\fromnumeric.py:2389: FutureWarning: Method .ptp is deprecated and will be removed in a future version. Use numpy.ptp instead.\n",
      "  return ptp(axis=axis, out=out, **kwargs)\n"
     ]
    }
   ],
   "source": [
    "\n",
    "# #### Running first model (lm1) Weekday & visitors & charcacter_A\n",
    "\n",
    "# Putting feature variable to X\n",
    "X2 = media[['Visitors','weekends','Character_A']]\n",
    "\n",
    "# Putting response variable to y\n",
    "y = media['Views_show']\n",
    "\n",
    "\n",
    "from sklearn.linear_model import LinearRegression\n",
    "\n",
    "\n",
    "# Representing LinearRegression as lr(Creating LinearRegression Object)\n",
    "lm = LinearRegression()\n",
    "\n",
    "\n",
    "\n",
    "\n",
    "# fit the model to the training data\n",
    "lm.fit(X2,y)\n",
    "\n",
    "\n",
    "\n",
    "import statsmodels.api as sm\n",
    "#Unlike SKLearn, statsmodels don't automatically fit a constant, \n",
    "#so you need to use the method sm.add_constant(X) in order to add a constant. \n",
    "X2 = sm.add_constant(X2)\n",
    "# create a fitted model in one line\n",
    "lm_2 = sm.OLS(y,X2).fit()\n",
    "print(lm_2.summary())\n"
   ]
  },
  {
   "cell_type": "code",
   "execution_count": 123,
   "metadata": {},
   "outputs": [
    {
     "data": {
      "text/plain": [
       "0    50\n",
       "1    30\n",
       "Name: Character_A, dtype: int64"
      ]
     },
     "execution_count": 123,
     "metadata": {},
     "output_type": "execute_result"
    }
   ],
   "source": [
    "media['Character_A'].value_counts()"
   ]
  },
  {
   "cell_type": "code",
   "execution_count": 127,
   "metadata": {},
   "outputs": [
    {
     "name": "stdout",
     "output_type": "stream",
     "text": [
      "                            OLS Regression Results                            \n",
      "==============================================================================\n",
      "Dep. Variable:             Views_show   R-squared:                       0.593\n",
      "Model:                            OLS   Adj. R-squared:                  0.571\n",
      "Method:                 Least Squares   F-statistic:                     27.28\n",
      "Date:                Wed, 18 Nov 2020   Prob (F-statistic):           5.51e-14\n",
      "Time:                        11:49:52   Log-Likelihood:                -1033.1\n",
      "No. Observations:                  80   AIC:                             2076.\n",
      "Df Residuals:                      75   BIC:                             2088.\n",
      "Df Model:                           4                                         \n",
      "Covariance Type:            nonrobust                                         \n",
      "=======================================================================================\n",
      "                          coef    std err          t      P>|t|      [0.025      0.975]\n",
      "---------------------------------------------------------------------------------------\n",
      "const               -6.074e+04   9.37e+04     -0.648      0.519   -2.47e+05    1.26e+05\n",
      "Visitors                0.1605      0.058      2.756      0.007       0.044       0.276\n",
      "weekends             1.814e+05   2.88e+04      6.297      0.000    1.24e+05    2.39e+05\n",
      "Character_A          8.694e+04   2.52e+04      3.447      0.001    3.67e+04    1.37e+05\n",
      "Cricket_match_india -4.469e+04   4.01e+04     -1.114      0.269   -1.25e+05    3.52e+04\n",
      "==============================================================================\n",
      "Omnibus:                        0.254   Durbin-Watson:                   1.564\n",
      "Prob(Omnibus):                  0.881   Jarque-Bera (JB):                0.440\n",
      "Skew:                           0.029   Prob(JB):                        0.802\n",
      "Kurtosis:                       2.641   Cond. No.                     1.43e+07\n",
      "==============================================================================\n",
      "\n",
      "Warnings:\n",
      "[1] Standard Errors assume that the covariance matrix of the errors is correctly specified.\n",
      "[2] The condition number is large, 1.43e+07. This might indicate that there are\n",
      "strong multicollinearity or other numerical problems.\n"
     ]
    },
    {
     "name": "stderr",
     "output_type": "stream",
     "text": [
      "C:\\Users\\mrspider\\Anaconda3\\lib\\site-packages\\numpy\\core\\fromnumeric.py:2389: FutureWarning: Method .ptp is deprecated and will be removed in a future version. Use numpy.ptp instead.\n",
      "  return ptp(axis=axis, out=out, **kwargs)\n"
     ]
    }
   ],
   "source": [
    "\n",
    "# #### Running first model (lm1) Weekday & visitors , Cricket_match_india , charcacter_A\n",
    "\n",
    "# Putting feature variable to X\n",
    "X3 = media[['Visitors','weekends','Character_A','Cricket_match_india']]\n",
    "\n",
    "# Putting response variable to y\n",
    "y = media['Views_show']\n",
    "\n",
    "# fit the model to the training data\n",
    "lm.fit(X3,y)\n",
    "\n",
    "import statsmodels.api as sm\n",
    "#Unlike SKLearn, statsmodels don't automatically fit a constant, \n",
    "#so you need to use the method sm.add_constant(X) in order to add a constant. \n",
    "X3 = sm.add_constant(X3)\n",
    "# create a fitted model in one line\n",
    "lm_3 = sm.OLS(y,X3).fit()\n",
    "print(lm_3.summary())\n"
   ]
  },
  {
   "cell_type": "code",
   "execution_count": 137,
   "metadata": {},
   "outputs": [
    {
     "name": "stdout",
     "output_type": "stream",
     "text": [
      "                            OLS Regression Results                            \n",
      "==============================================================================\n",
      "Dep. Variable:             Views_show   R-squared:                       0.804\n",
      "Model:                            OLS   Adj. R-squared:                  0.791\n",
      "Method:                 Least Squares   F-statistic:                     60.67\n",
      "Date:                Wed, 18 Nov 2020   Prob (F-statistic):           8.61e-25\n",
      "Time:                        11:58:22   Log-Likelihood:                -1003.9\n",
      "No. Observations:                  80   AIC:                             2020.\n",
      "Df Residuals:                      74   BIC:                             2034.\n",
      "Df Model:                           5                                         \n",
      "Covariance Type:            nonrobust                                         \n",
      "=======================================================================================\n",
      "                          coef    std err          t      P>|t|      [0.025      0.975]\n",
      "---------------------------------------------------------------------------------------\n",
      "const               -2.867e+05   7.02e+04     -4.084      0.000   -4.27e+05   -1.47e+05\n",
      "Visitors                0.0200      0.044      0.460      0.647      -0.067       0.107\n",
      "weekends             1.488e+05   2.04e+04      7.277      0.000    1.08e+05     1.9e+05\n",
      "Character_A         -3.161e+04   2.21e+04     -1.433      0.156   -7.56e+04    1.23e+04\n",
      "Cricket_match_india -1.678e+04   2.82e+04     -0.595      0.554   -7.29e+04    3.94e+04\n",
      "Ad_impression           0.0004      4e-05      8.929      0.000       0.000       0.000\n",
      "==============================================================================\n",
      "Omnibus:                        5.430   Durbin-Watson:                   1.155\n",
      "Prob(Omnibus):                  0.066   Jarque-Bera (JB):                4.668\n",
      "Skew:                           0.501   Prob(JB):                       0.0969\n",
      "Kurtosis:                       3.631   Cond. No.                     1.32e+10\n",
      "==============================================================================\n",
      "\n",
      "Warnings:\n",
      "[1] Standard Errors assume that the covariance matrix of the errors is correctly specified.\n",
      "[2] The condition number is large, 1.32e+10. This might indicate that there are\n",
      "strong multicollinearity or other numerical problems.\n"
     ]
    },
    {
     "name": "stderr",
     "output_type": "stream",
     "text": [
      "C:\\Users\\mrspider\\Anaconda3\\lib\\site-packages\\numpy\\core\\fromnumeric.py:2389: FutureWarning: Method .ptp is deprecated and will be removed in a future version. Use numpy.ptp instead.\n",
      "  return ptp(axis=axis, out=out, **kwargs)\n"
     ]
    }
   ],
   "source": [
    "\n",
    "# #### Running first model (lm1) Weekday & visitors , Cricket_match_india , charcacter_A\n",
    "\n",
    "# Putting feature variable to X\n",
    "X4 = media[['Visitors','weekends','Character_A','Cricket_match_india','Ad_impression']]\n",
    "\n",
    "# Putting response variable to y\n",
    "y = media['Views_show']\n",
    "\n",
    "# fit the model to the training data\n",
    "lm.fit(X4,y)\n",
    "\n",
    "import statsmodels.api as sm\n",
    "#Unlike SKLearn, statsmodels don't automatically fit a constant, \n",
    "#so you need to use the method sm.add_constant(X) in order to add a constant. \n",
    "X4 = sm.add_constant(X4)\n",
    "# create a fitted model in one line\n",
    "lm_4 = sm.OLS(y,X4).fit()\n",
    "print(lm_4.summary())\n"
   ]
  },
  {
   "cell_type": "code",
   "execution_count": 138,
   "metadata": {},
   "outputs": [
    {
     "name": "stdout",
     "output_type": "stream",
     "text": [
      "               feature        VIF\n",
      "0                const  78.444440\n",
      "1             Visitors   1.597168\n",
      "2             weekends   1.327164\n",
      "3          Character_A   1.815758\n",
      "4  Cricket_match_india   1.138646\n",
      "5        Ad_impression   2.238807\n"
     ]
    }
   ],
   "source": [
    "#check VIF\n",
    "from statsmodels.stats.outliers_influence import variance_inflation_factor \n",
    "\n",
    "vif_data = pd.DataFrame() \n",
    "vif_data[\"feature\"] = X4.columns\n",
    "\n",
    "vif_data[\"VIF\"] = [variance_inflation_factor(X4.values, i) \n",
    "                          for i in range(len(X4.columns))] \n",
    "  \n",
    "print(vif_data)"
   ]
  },
  {
   "cell_type": "code",
   "execution_count": 153,
   "metadata": {},
   "outputs": [
    {
     "name": "stdout",
     "output_type": "stream",
     "text": [
      "                            OLS Regression Results                            \n",
      "==============================================================================\n",
      "Dep. Variable:             Views_show   R-squared:                       0.885\n",
      "Model:                            OLS   Adj. R-squared:                  0.878\n",
      "Method:                 Least Squares   F-statistic:                     143.7\n",
      "Date:                Wed, 18 Nov 2020   Prob (F-statistic):           2.31e-34\n",
      "Time:                        12:07:34   Log-Likelihood:                -982.69\n",
      "No. Observations:                  80   AIC:                             1975.\n",
      "Df Residuals:                      75   BIC:                             1987.\n",
      "Df Model:                           4                                         \n",
      "Covariance Type:            nonrobust                                         \n",
      "=================================================================================\n",
      "                    coef    std err          t      P>|t|      [0.025      0.975]\n",
      "---------------------------------------------------------------------------------\n",
      "const          1.157e+05   6.38e+04      1.813      0.074   -1.14e+04    2.43e+05\n",
      "weekends       1.857e+05   1.53e+04     12.172      0.000    1.55e+05    2.16e+05\n",
      "Character_A    4.526e+04   1.95e+04      2.326      0.023    6505.248     8.4e+04\n",
      "weekday       -3.123e+04   4278.139     -7.299      0.000   -3.97e+04   -2.27e+04\n",
      "Ad_impression     0.0002   3.98e-05      4.046      0.000    8.18e-05       0.000\n",
      "==============================================================================\n",
      "Omnibus:                        3.480   Durbin-Watson:                   1.344\n",
      "Prob(Omnibus):                  0.176   Jarque-Bera (JB):                3.056\n",
      "Skew:                           0.478   Prob(JB):                        0.217\n",
      "Kurtosis:                       3.057   Cond. No.                     1.60e+10\n",
      "==============================================================================\n",
      "\n",
      "Warnings:\n",
      "[1] Standard Errors assume that the covariance matrix of the errors is correctly specified.\n",
      "[2] The condition number is large, 1.6e+10. This might indicate that there are\n",
      "strong multicollinearity or other numerical problems.\n"
     ]
    },
    {
     "name": "stderr",
     "output_type": "stream",
     "text": [
      "C:\\Users\\mrspider\\Anaconda3\\lib\\site-packages\\numpy\\core\\fromnumeric.py:2389: FutureWarning: Method .ptp is deprecated and will be removed in a future version. Use numpy.ptp instead.\n",
      "  return ptp(axis=axis, out=out, **kwargs)\n"
     ]
    }
   ],
   "source": [
    "\n",
    "# #### Running first model (lm1) Weekday & visitors , Cricket_match_india , charcacter_A\n",
    "\n",
    "# Putting feature variable to X\n",
    "X5 = media[['weekends','Character_A','weekday','Ad_impression']]\n",
    "\n",
    "# Putting response variable to y\n",
    "y = media['Views_show']\n",
    "\n",
    "# fit the model to the training data\n",
    "lm.fit(X5,y)\n",
    "\n",
    "import statsmodels.api as sm\n",
    "#Unlike SKLearn, statsmodels don't automatically fit a constant, \n",
    "#so you need to use the method sm.add_constant(X) in order to add a constant. \n",
    "X5 = sm.add_constant(X5)\n",
    "# create a fitted model in one line\n",
    "lm_5 = sm.OLS(y,X5).fit()\n",
    "print(lm_5.summary())\n"
   ]
  },
  {
   "cell_type": "code",
   "execution_count": 154,
   "metadata": {},
   "outputs": [
    {
     "name": "stdout",
     "output_type": "stream",
     "text": [
      "         feature         VIF\n",
      "0          const  111.603777\n",
      "1       weekends    1.272655\n",
      "2    Character_A    2.433022\n",
      "3        weekday    1.963080\n",
      "4  Ad_impression    3.817167\n"
     ]
    }
   ],
   "source": [
    "#check VIF\n",
    "from statsmodels.stats.outliers_influence import variance_inflation_factor \n",
    "\n",
    "vif_data = pd.DataFrame() \n",
    "vif_data[\"feature\"] = X5.columns\n",
    "\n",
    "vif_data[\"VIF\"] = [variance_inflation_factor(X5.values, i) \n",
    "                          for i in range(len(X5.columns))] \n",
    "  \n",
    "print(vif_data)"
   ]
  },
  {
   "cell_type": "code",
   "execution_count": null,
   "metadata": {},
   "outputs": [],
   "source": []
  }
 ],
 "metadata": {
  "kernelspec": {
   "display_name": "Python 3",
   "language": "python",
   "name": "python3"
  },
  "language_info": {
   "codemirror_mode": {
    "name": "ipython",
    "version": 3
   },
   "file_extension": ".py",
   "mimetype": "text/x-python",
   "name": "python",
   "nbconvert_exporter": "python",
   "pygments_lexer": "ipython3",
   "version": "3.7.4"
  }
 },
 "nbformat": 4,
 "nbformat_minor": 2
}
